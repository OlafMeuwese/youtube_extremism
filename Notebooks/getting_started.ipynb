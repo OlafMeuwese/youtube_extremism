{
 "cells": [
  {
   "cell_type": "code",
   "execution_count": 1,
   "metadata": {},
   "outputs": [],
   "source": [
    "%load_ext autoreload\n",
    "%autoreload 2"
   ]
  },
  {
   "cell_type": "code",
   "execution_count": 2,
   "metadata": {},
   "outputs": [],
   "source": [
    "import youtubecollector as ytc\n",
    "import pandas as pd\n",
    "from tqdm import tqdm_notebook as tqdm"
   ]
  },
  {
   "cell_type": "code",
   "execution_count": 3,
   "metadata": {},
   "outputs": [
    {
     "name": "stdout",
     "output_type": "stream",
     "text": [
      "Google Developer Api key: ········\n"
     ]
    }
   ],
   "source": [
    "youtube_client = ytc.youtube_client.create_youtube_client(\"./api.conf\")"
   ]
  },
  {
   "cell_type": "code",
   "execution_count": 4,
   "metadata": {},
   "outputs": [],
   "source": [
    "channel_seed_filename = \"input/seeds_right_extra.csv\"\n",
    "channel_outputfile = \"output/right/channels_right_extra.csv\""
   ]
  },
  {
   "cell_type": "code",
   "execution_count": 6,
   "metadata": {
    "scrolled": true
   },
   "outputs": [
    {
     "name": "stdout",
     "output_type": "stream",
     "text": [
      "UC16j6EppP0K85CzYMduNCqw\n"
     ]
    }
   ],
   "source": [
    "channel_seed_df = pd.read_csv(channel_seed_filename)\n",
    "\n",
    "channels = ytc.channels.get_channels(channel_seed_df.loc[0:], youtube_client)\n",
    "\n",
    "ytc.channels.write_channels(channels, channel_outputfile)"
   ]
  },
  {
   "cell_type": "code",
   "execution_count": 7,
   "metadata": {},
   "outputs": [],
   "source": [
    "video_output_file = \"output/right/videos_roosh.csv\""
   ]
  },
  {
   "cell_type": "code",
   "execution_count": 8,
   "metadata": {},
   "outputs": [
    {
     "data": {
      "application/vnd.jupyter.widget-view+json": {
       "model_id": "7aea7151593a47d6a2830916857cb292",
       "version_major": 2,
       "version_minor": 0
      },
      "text/plain": [
       "HBox(children=(IntProgress(value=0, max=1), HTML(value='')))"
      ]
     },
     "metadata": {},
     "output_type": "display_data"
    },
    {
     "name": "stdout",
     "output_type": "stream",
     "text": [
      "\n"
     ]
    }
   ],
   "source": [
    "all_videos = list()\n",
    "\n",
    "for channel in tqdm(channels):\n",
    "    response = ytc.video.get_videos(channel.channel_uploads, youtube_client)\n",
    "    next_page_token = response.get('nextPageToken')\n",
    "    videos = ytc.video.convert_to_videos(response, youtube_client)\n",
    "    all_videos.extend(videos)\n",
    "    ytc.video.write_videos(videos, video_output_file)\n",
    "    \n",
    "    while next_page_token:\n",
    "        response = ytc.video.get_more_videos(channel.channel_uploads, youtube_client, next_page_token)            \n",
    "        next_page_token = response.get('nextPageToken')\n",
    "        videos = ytc.video.convert_to_videos(response, youtube_client)\n",
    "        all_videos.extend(videos)\n",
    "        ytc.video.write_videos(videos, video_output_file)"
   ]
  },
  {
   "cell_type": "code",
   "execution_count": 11,
   "metadata": {},
   "outputs": [],
   "source": [
    "comments_output_file = \"output/right/comments_roosh.csv\""
   ]
  },
  {
   "cell_type": "code",
   "execution_count": 12,
   "metadata": {},
   "outputs": [
    {
     "data": {
      "application/vnd.jupyter.widget-view+json": {
       "model_id": "662714ebc7684985b3d030f4498afa99",
       "version_major": 2,
       "version_minor": 0
      },
      "text/plain": [
       "HBox(children=(IntProgress(value=0, max=231), HTML(value='')))"
      ]
     },
     "metadata": {},
     "output_type": "display_data"
    },
    {
     "name": "stdout",
     "output_type": "stream",
     "text": [
      "\n"
     ]
    }
   ],
   "source": [
    "\n",
    "all_comments = list()\n",
    "for video in tqdm(all_videos):\n",
    "    response = ytc.comments.get_comments(video.video_id, youtube_client)\n",
    "    comments = ytc.comments.convert_to_comments(response)\n",
    "    all_comments.extend(comments)\n",
    "    ytc.comments.write_comments(comments_output_file, comments)\n",
    "    try:\n",
    "        next_page_token = response.get('nextPageToken')\n",
    "    except AttributeError:\n",
    "        continue\n",
    "    \n",
    "    while next_page_token:\n",
    "        response = ytc.comments.get_more_comments(video.video_id, youtube_client, next_page_token)\n",
    "        try:\n",
    "            next_page_token = response.get('nextPageToken')                       \n",
    "        except AttributeError:\n",
    "            continue\n",
    "        comments = ytc.comments.convert_to_comments(response)\n",
    "        all_comments.extend(comments)\n",
    "        ytc.comments.write_comments(comments_output_file, comments)"
   ]
  },
  {
   "cell_type": "code",
   "execution_count": 13,
   "metadata": {},
   "outputs": [],
   "source": [
    "recommendations_output_file = \"output/right/recommendations_roosh.csv\"\n"
   ]
  },
  {
   "cell_type": "code",
   "execution_count": 15,
   "metadata": {},
   "outputs": [
    {
     "data": {
      "application/vnd.jupyter.widget-view+json": {
       "model_id": "73e2b49d6dd443c5810f87da01f8753f",
       "version_major": 2,
       "version_minor": 0
      },
      "text/plain": [
       "HBox(children=(IntProgress(value=0, max=231), HTML(value='')))"
      ]
     },
     "metadata": {},
     "output_type": "display_data"
    },
    {
     "name": "stdout",
     "output_type": "stream",
     "text": [
      "\n"
     ]
    }
   ],
   "source": [
    "video_to_recommendations = dict()\n",
    "for video in tqdm(all_videos, ):\n",
    "\n",
    "    try:\n",
    "        response = ytc.recommendations.get_recommendations(video.video_id, youtube_client)\n",
    "    except:\n",
    "        continue\n",
    "    \n",
    "    recommendations = ytc.recommendations.convert_to_recommendations(response, video.video_id)\n",
    "    video_to_recommendations[video.video_id]=recommendations\n",
    "    \n",
    "    ytc.recommendations.write_recommendations(recommendations_output_file, recommendations)"
   ]
  },
  {
   "cell_type": "code",
   "execution_count": 16,
   "metadata": {},
   "outputs": [],
   "source": [
    "transcripts_output_file = \"/home/dim/Documents/projecten/extremisme/youtube/yt/YouTubeExtremism/DataCollection/output/right/transcripts_roosh.csv\""
   ]
  },
  {
   "cell_type": "code",
   "execution_count": 17,
   "metadata": {
    "scrolled": true
   },
   "outputs": [
    {
     "name": "stdout",
     "output_type": "stream",
     "text": [
      "[generic] Society']): Requesting header\n",
      "[redirect] Following redirect to https://www.youtube.com/watch?v=video(video\n",
      "[generic] watch?v=video(video: Requesting header\n"
     ]
    },
    {
     "name": "stderr",
     "output_type": "stream",
     "text": [
      "WARNING: Falling back on generic information extractor.\n"
     ]
    },
    {
     "name": "stdout",
     "output_type": "stream",
     "text": [
      "[generic] watch?v=video(video: Downloading webpage\n",
      "[generic] watch?v=video(video: Extracting information\n"
     ]
    },
    {
     "name": "stderr",
     "output_type": "stream",
     "text": [
      "ERROR: Unsupported URL: https://www.youtube.com/watch?v=video(video\n"
     ]
    },
    {
     "name": "stdout",
     "output_type": "stream",
     "text": [
      "[generic] Society']): Requesting header\n",
      "[redirect] Following redirect to https://www.youtube.com/watch?v=video(video\n",
      "[generic] watch?v=video(video: Requesting header\n"
     ]
    },
    {
     "name": "stderr",
     "output_type": "stream",
     "text": [
      "WARNING: Falling back on generic information extractor.\n"
     ]
    },
    {
     "name": "stdout",
     "output_type": "stream",
     "text": [
      "[generic] watch?v=video(video: Downloading webpage\n",
      "[generic] watch?v=video(video: Extracting information\n"
     ]
    },
    {
     "name": "stderr",
     "output_type": "stream",
     "text": [
      "ERROR: Unsupported URL: https://www.youtube.com/watch?v=video(video\n"
     ]
    },
    {
     "name": "stdout",
     "output_type": "stream",
     "text": [
      "[generic] Society']): Requesting header\n",
      "[redirect] Following redirect to https://www.youtube.com/watch?v=video(video\n",
      "[generic] watch?v=video(video: Requesting header\n"
     ]
    },
    {
     "name": "stderr",
     "output_type": "stream",
     "text": [
      "WARNING: Falling back on generic information extractor.\n"
     ]
    },
    {
     "name": "stdout",
     "output_type": "stream",
     "text": [
      "[generic] watch?v=video(video: Downloading webpage\n",
      "[generic] watch?v=video(video: Extracting information\n"
     ]
    },
    {
     "name": "stderr",
     "output_type": "stream",
     "text": [
      "ERROR: Unsupported URL: https://www.youtube.com/watch?v=video(video\n"
     ]
    },
    {
     "name": "stdout",
     "output_type": "stream",
     "text": [
      "[generic] Society']): Requesting header\n",
      "[redirect] Following redirect to https://www.youtube.com/watch?v=video(video\n",
      "[generic] watch?v=video(video: Requesting header\n"
     ]
    },
    {
     "name": "stderr",
     "output_type": "stream",
     "text": [
      "WARNING: Falling back on generic information extractor.\n"
     ]
    },
    {
     "name": "stdout",
     "output_type": "stream",
     "text": [
      "[generic] watch?v=video(video: Downloading webpage\n",
      "[generic] watch?v=video(video: Extracting information\n"
     ]
    },
    {
     "name": "stderr",
     "output_type": "stream",
     "text": [
      "ERROR: Unsupported URL: https://www.youtube.com/watch?v=video(video\n"
     ]
    },
    {
     "name": "stdout",
     "output_type": "stream",
     "text": [
      "[generic] Society']): Requesting header\n",
      "[redirect] Following redirect to https://www.youtube.com/watch?v=video(video\n",
      "[generic] watch?v=video(video: Requesting header\n"
     ]
    },
    {
     "name": "stderr",
     "output_type": "stream",
     "text": [
      "WARNING: Falling back on generic information extractor.\n"
     ]
    },
    {
     "name": "stdout",
     "output_type": "stream",
     "text": [
      "[generic] watch?v=video(video: Downloading webpage\n",
      "[generic] watch?v=video(video: Extracting information\n"
     ]
    },
    {
     "name": "stderr",
     "output_type": "stream",
     "text": [
      "ERROR: Unsupported URL: https://www.youtube.com/watch?v=video(video\n"
     ]
    },
    {
     "name": "stdout",
     "output_type": "stream",
     "text": [
      "[generic] Society']): Requesting header\n",
      "[redirect] Following redirect to https://www.youtube.com/watch?v=video(video\n",
      "[generic] watch?v=video(video: Requesting header\n"
     ]
    },
    {
     "name": "stderr",
     "output_type": "stream",
     "text": [
      "WARNING: Falling back on generic information extractor.\n"
     ]
    },
    {
     "name": "stdout",
     "output_type": "stream",
     "text": [
      "[generic] watch?v=video(video: Downloading webpage\n",
      "[generic] watch?v=video(video: Extracting information\n"
     ]
    },
    {
     "name": "stderr",
     "output_type": "stream",
     "text": [
      "ERROR: Unsupported URL: https://www.youtube.com/watch?v=video(video\n"
     ]
    },
    {
     "name": "stdout",
     "output_type": "stream",
     "text": [
      "[generic] Society']): Requesting header\n",
      "[redirect] Following redirect to https://www.youtube.com/watch?v=video(video\n",
      "[generic] watch?v=video(video: Requesting header\n"
     ]
    },
    {
     "name": "stderr",
     "output_type": "stream",
     "text": [
      "WARNING: Falling back on generic information extractor.\n"
     ]
    },
    {
     "name": "stdout",
     "output_type": "stream",
     "text": [
      "[generic] watch?v=video(video: Downloading webpage\n",
      "[generic] watch?v=video(video: Extracting information\n"
     ]
    },
    {
     "name": "stderr",
     "output_type": "stream",
     "text": [
      "ERROR: Unsupported URL: https://www.youtube.com/watch?v=video(video\n"
     ]
    },
    {
     "name": "stdout",
     "output_type": "stream",
     "text": [
      "[generic] Society']): Requesting header\n",
      "[redirect] Following redirect to https://www.youtube.com/watch?v=video(video\n",
      "[generic] watch?v=video(video: Requesting header\n"
     ]
    },
    {
     "name": "stderr",
     "output_type": "stream",
     "text": [
      "WARNING: Falling back on generic information extractor.\n"
     ]
    },
    {
     "name": "stdout",
     "output_type": "stream",
     "text": [
      "[generic] watch?v=video(video: Downloading webpage\n",
      "[generic] watch?v=video(video: Extracting information\n"
     ]
    },
    {
     "name": "stderr",
     "output_type": "stream",
     "text": [
      "ERROR: Unsupported URL: https://www.youtube.com/watch?v=video(video\n"
     ]
    },
    {
     "name": "stdout",
     "output_type": "stream",
     "text": [
      "[generic] Health']): Requesting header\n",
      "[redirect] Following redirect to https://www.youtube.com/watch?v=video(video\n",
      "[generic] watch?v=video(video: Requesting header\n"
     ]
    },
    {
     "name": "stderr",
     "output_type": "stream",
     "text": [
      "WARNING: Falling back on generic information extractor.\n"
     ]
    },
    {
     "name": "stdout",
     "output_type": "stream",
     "text": [
      "[generic] watch?v=video(video: Downloading webpage\n",
      "[generic] watch?v=video(video: Extracting information\n"
     ]
    },
    {
     "name": "stderr",
     "output_type": "stream",
     "text": [
      "ERROR: Unsupported URL: https://www.youtube.com/watch?v=video(video\n"
     ]
    },
    {
     "name": "stdout",
     "output_type": "stream",
     "text": [
      "[generic] Society']): Requesting header\n",
      "[redirect] Following redirect to https://www.youtube.com/watch?v=video(video\n",
      "[generic] watch?v=video(video: Requesting header\n"
     ]
    },
    {
     "name": "stderr",
     "output_type": "stream",
     "text": [
      "WARNING: Falling back on generic information extractor.\n"
     ]
    },
    {
     "name": "stdout",
     "output_type": "stream",
     "text": [
      "[generic] watch?v=video(video: Downloading webpage\n",
      "[generic] watch?v=video(video: Extracting information\n"
     ]
    },
    {
     "name": "stderr",
     "output_type": "stream",
     "text": [
      "ERROR: Unsupported URL: https://www.youtube.com/watch?v=video(video\n"
     ]
    },
    {
     "name": "stdout",
     "output_type": "stream",
     "text": [
      "[generic] Society']): Requesting header\n",
      "[redirect] Following redirect to https://www.youtube.com/watch?v=video(video\n",
      "[generic] watch?v=video(video: Requesting header\n"
     ]
    },
    {
     "name": "stderr",
     "output_type": "stream",
     "text": [
      "WARNING: Falling back on generic information extractor.\n"
     ]
    },
    {
     "name": "stdout",
     "output_type": "stream",
     "text": [
      "[generic] watch?v=video(video: Downloading webpage\n",
      "[generic] watch?v=video(video: Extracting information\n"
     ]
    },
    {
     "name": "stderr",
     "output_type": "stream",
     "text": [
      "ERROR: Unsupported URL: https://www.youtube.com/watch?v=video(video\n"
     ]
    },
    {
     "name": "stdout",
     "output_type": "stream",
     "text": [
      "[generic] Society']): Requesting header\n",
      "[redirect] Following redirect to https://www.youtube.com/watch?v=video(video\n",
      "[generic] watch?v=video(video: Requesting header\n"
     ]
    },
    {
     "name": "stderr",
     "output_type": "stream",
     "text": [
      "WARNING: Falling back on generic information extractor.\n"
     ]
    },
    {
     "name": "stdout",
     "output_type": "stream",
     "text": [
      "[generic] watch?v=video(video: Downloading webpage\n",
      "[generic] watch?v=video(video: Extracting information\n"
     ]
    },
    {
     "name": "stderr",
     "output_type": "stream",
     "text": [
      "ERROR: Unsupported URL: https://www.youtube.com/watch?v=video(video\n"
     ]
    },
    {
     "name": "stdout",
     "output_type": "stream",
     "text": [
      "[generic] Society']): Requesting header\n",
      "[redirect] Following redirect to https://www.youtube.com/watch?v=video(video\n",
      "[generic] watch?v=video(video: Requesting header\n"
     ]
    },
    {
     "name": "stderr",
     "output_type": "stream",
     "text": [
      "WARNING: Falling back on generic information extractor.\n"
     ]
    },
    {
     "name": "stdout",
     "output_type": "stream",
     "text": [
      "[generic] watch?v=video(video: Downloading webpage\n",
      "[generic] watch?v=video(video: Extracting information\n"
     ]
    },
    {
     "name": "stderr",
     "output_type": "stream",
     "text": [
      "ERROR: Unsupported URL: https://www.youtube.com/watch?v=video(video\n"
     ]
    },
    {
     "name": "stdout",
     "output_type": "stream",
     "text": [
      "[generic] Society']): Requesting header\n",
      "[redirect] Following redirect to https://www.youtube.com/watch?v=video(video\n",
      "[generic] watch?v=video(video: Requesting header\n"
     ]
    },
    {
     "name": "stderr",
     "output_type": "stream",
     "text": [
      "WARNING: Falling back on generic information extractor.\n"
     ]
    },
    {
     "name": "stdout",
     "output_type": "stream",
     "text": [
      "[generic] watch?v=video(video: Downloading webpage\n",
      "[generic] watch?v=video(video: Extracting information\n"
     ]
    },
    {
     "name": "stderr",
     "output_type": "stream",
     "text": [
      "ERROR: Unsupported URL: https://www.youtube.com/watch?v=video(video\n"
     ]
    },
    {
     "name": "stdout",
     "output_type": "stream",
     "text": [
      "[generic] Lifestyle_(sociology)']): Requesting header\n",
      "[redirect] Following redirect to https://www.youtube.com/watch?v=video(video\n",
      "[generic] watch?v=video(video: Requesting header\n"
     ]
    },
    {
     "name": "stderr",
     "output_type": "stream",
     "text": [
      "WARNING: Falling back on generic information extractor.\n"
     ]
    },
    {
     "name": "stdout",
     "output_type": "stream",
     "text": [
      "[generic] watch?v=video(video: Downloading webpage\n",
      "[generic] watch?v=video(video: Extracting information\n"
     ]
    },
    {
     "name": "stderr",
     "output_type": "stream",
     "text": [
      "ERROR: Unsupported URL: https://www.youtube.com/watch?v=video(video\n"
     ]
    },
    {
     "name": "stdout",
     "output_type": "stream",
     "text": [
      "[generic] Lifestyle_(sociology)']): Requesting header\n",
      "[redirect] Following redirect to https://www.youtube.com/watch?v=video(video\n",
      "[generic] watch?v=video(video: Requesting header\n"
     ]
    },
    {
     "name": "stderr",
     "output_type": "stream",
     "text": [
      "WARNING: Falling back on generic information extractor.\n"
     ]
    },
    {
     "name": "stdout",
     "output_type": "stream",
     "text": [
      "[generic] watch?v=video(video: Downloading webpage\n",
      "[generic] watch?v=video(video: Extracting information\n"
     ]
    },
    {
     "name": "stderr",
     "output_type": "stream",
     "text": [
      "ERROR: Unsupported URL: https://www.youtube.com/watch?v=video(video\n"
     ]
    },
    {
     "name": "stdout",
     "output_type": "stream",
     "text": [
      "[generic] Lifestyle_(sociology)']): Requesting header\n",
      "[redirect] Following redirect to https://www.youtube.com/watch?v=video(video\n",
      "[generic] watch?v=video(video: Requesting header\n"
     ]
    },
    {
     "name": "stderr",
     "output_type": "stream",
     "text": [
      "WARNING: Falling back on generic information extractor.\n"
     ]
    },
    {
     "name": "stdout",
     "output_type": "stream",
     "text": [
      "[generic] watch?v=video(video: Downloading webpage\n",
      "[generic] watch?v=video(video: Extracting information\n"
     ]
    },
    {
     "name": "stderr",
     "output_type": "stream",
     "text": [
      "ERROR: Unsupported URL: https://www.youtube.com/watch?v=video(video\n"
     ]
    },
    {
     "name": "stdout",
     "output_type": "stream",
     "text": [
      "[generic] Lifestyle_(sociology)']): Requesting header\n",
      "[redirect] Following redirect to https://www.youtube.com/watch?v=video(video\n",
      "[generic] watch?v=video(video: Requesting header\n"
     ]
    },
    {
     "name": "stderr",
     "output_type": "stream",
     "text": [
      "WARNING: Falling back on generic information extractor.\n"
     ]
    },
    {
     "name": "stdout",
     "output_type": "stream",
     "text": [
      "[generic] watch?v=video(video: Downloading webpage\n",
      "[generic] watch?v=video(video: Extracting information\n"
     ]
    },
    {
     "name": "stderr",
     "output_type": "stream",
     "text": [
      "ERROR: Unsupported URL: https://www.youtube.com/watch?v=video(video\n"
     ]
    },
    {
     "name": "stdout",
     "output_type": "stream",
     "text": [
      "[generic] Health']): Requesting header\n",
      "[redirect] Following redirect to https://www.youtube.com/watch?v=video(video\n",
      "[generic] watch?v=video(video: Requesting header\n"
     ]
    },
    {
     "name": "stderr",
     "output_type": "stream",
     "text": [
      "WARNING: Falling back on generic information extractor.\n"
     ]
    },
    {
     "name": "stdout",
     "output_type": "stream",
     "text": [
      "[generic] watch?v=video(video: Downloading webpage\n",
      "[generic] watch?v=video(video: Extracting information\n"
     ]
    },
    {
     "name": "stderr",
     "output_type": "stream",
     "text": [
      "ERROR: Unsupported URL: https://www.youtube.com/watch?v=video(video\n"
     ]
    },
    {
     "name": "stdout",
     "output_type": "stream",
     "text": [
      "[generic] Society']): Requesting header\n",
      "[redirect] Following redirect to https://www.youtube.com/watch?v=video(video\n",
      "[generic] watch?v=video(video: Requesting header\n"
     ]
    },
    {
     "name": "stderr",
     "output_type": "stream",
     "text": [
      "WARNING: Falling back on generic information extractor.\n"
     ]
    },
    {
     "name": "stdout",
     "output_type": "stream",
     "text": [
      "[generic] watch?v=video(video: Downloading webpage\n",
      "[generic] watch?v=video(video: Extracting information\n"
     ]
    },
    {
     "name": "stderr",
     "output_type": "stream",
     "text": [
      "ERROR: Unsupported URL: https://www.youtube.com/watch?v=video(video\n"
     ]
    },
    {
     "name": "stdout",
     "output_type": "stream",
     "text": [
      "[generic] Health']): Requesting header\n",
      "[redirect] Following redirect to https://www.youtube.com/watch?v=video(video\n",
      "[generic] watch?v=video(video: Requesting header\n"
     ]
    },
    {
     "name": "stderr",
     "output_type": "stream",
     "text": [
      "WARNING: Falling back on generic information extractor.\n"
     ]
    },
    {
     "name": "stdout",
     "output_type": "stream",
     "text": [
      "[generic] watch?v=video(video: Downloading webpage\n",
      "[generic] watch?v=video(video: Extracting information\n"
     ]
    },
    {
     "name": "stderr",
     "output_type": "stream",
     "text": [
      "ERROR: Unsupported URL: https://www.youtube.com/watch?v=video(video\n"
     ]
    },
    {
     "name": "stdout",
     "output_type": "stream",
     "text": [
      "[generic] Health']): Requesting header\n",
      "[redirect] Following redirect to https://www.youtube.com/watch?v=video(video\n",
      "[generic] watch?v=video(video: Requesting header\n"
     ]
    },
    {
     "name": "stderr",
     "output_type": "stream",
     "text": [
      "WARNING: Falling back on generic information extractor.\n"
     ]
    },
    {
     "name": "stdout",
     "output_type": "stream",
     "text": [
      "[generic] watch?v=video(video: Downloading webpage\n",
      "[generic] watch?v=video(video: Extracting information\n"
     ]
    },
    {
     "name": "stderr",
     "output_type": "stream",
     "text": [
      "ERROR: Unsupported URL: https://www.youtube.com/watch?v=video(video\n"
     ]
    },
    {
     "name": "stdout",
     "output_type": "stream",
     "text": [
      "[generic] Society']): Requesting header\n",
      "[redirect] Following redirect to https://www.youtube.com/watch?v=video(video\n",
      "[generic] watch?v=video(video: Requesting header\n"
     ]
    },
    {
     "name": "stderr",
     "output_type": "stream",
     "text": [
      "WARNING: Falling back on generic information extractor.\n"
     ]
    },
    {
     "name": "stdout",
     "output_type": "stream",
     "text": [
      "[generic] watch?v=video(video: Downloading webpage\n",
      "[generic] watch?v=video(video: Extracting information\n"
     ]
    },
    {
     "name": "stderr",
     "output_type": "stream",
     "text": [
      "ERROR: Unsupported URL: https://www.youtube.com/watch?v=video(video\n"
     ]
    },
    {
     "name": "stdout",
     "output_type": "stream",
     "text": [
      "[generic] Health']): Requesting header\n",
      "[redirect] Following redirect to https://www.youtube.com/watch?v=video(video\n",
      "[generic] watch?v=video(video: Requesting header\n"
     ]
    },
    {
     "name": "stderr",
     "output_type": "stream",
     "text": [
      "WARNING: Falling back on generic information extractor.\n"
     ]
    },
    {
     "name": "stdout",
     "output_type": "stream",
     "text": [
      "[generic] watch?v=video(video: Downloading webpage\n",
      "[generic] watch?v=video(video: Extracting information\n"
     ]
    },
    {
     "name": "stderr",
     "output_type": "stream",
     "text": [
      "ERROR: Unsupported URL: https://www.youtube.com/watch?v=video(video\n"
     ]
    },
    {
     "name": "stdout",
     "output_type": "stream",
     "text": [
      "[generic] Lifestyle_(sociology)']): Requesting header\n",
      "[redirect] Following redirect to https://www.youtube.com/watch?v=video(video\n",
      "[generic] watch?v=video(video: Requesting header\n"
     ]
    },
    {
     "name": "stderr",
     "output_type": "stream",
     "text": [
      "WARNING: Falling back on generic information extractor.\n"
     ]
    },
    {
     "name": "stdout",
     "output_type": "stream",
     "text": [
      "[generic] watch?v=video(video: Downloading webpage\n",
      "[generic] watch?v=video(video: Extracting information\n"
     ]
    },
    {
     "name": "stderr",
     "output_type": "stream",
     "text": [
      "ERROR: Unsupported URL: https://www.youtube.com/watch?v=video(video\n"
     ]
    },
    {
     "name": "stdout",
     "output_type": "stream",
     "text": [
      "[generic] Health']): Requesting header\n",
      "[redirect] Following redirect to https://www.youtube.com/watch?v=video(video\n",
      "[generic] watch?v=video(video: Requesting header\n"
     ]
    },
    {
     "name": "stderr",
     "output_type": "stream",
     "text": [
      "WARNING: Falling back on generic information extractor.\n"
     ]
    },
    {
     "name": "stdout",
     "output_type": "stream",
     "text": [
      "[generic] watch?v=video(video: Downloading webpage\n",
      "[generic] watch?v=video(video: Extracting information\n"
     ]
    },
    {
     "name": "stderr",
     "output_type": "stream",
     "text": [
      "ERROR: Unsupported URL: https://www.youtube.com/watch?v=video(video\n"
     ]
    },
    {
     "name": "stdout",
     "output_type": "stream",
     "text": [
      "[generic] Lifestyle_(sociology)']): Requesting header\n",
      "[redirect] Following redirect to https://www.youtube.com/watch?v=video(video\n",
      "[generic] watch?v=video(video: Requesting header\n"
     ]
    },
    {
     "name": "stderr",
     "output_type": "stream",
     "text": [
      "WARNING: Falling back on generic information extractor.\n"
     ]
    },
    {
     "name": "stdout",
     "output_type": "stream",
     "text": [
      "[generic] watch?v=video(video: Downloading webpage\n",
      "[generic] watch?v=video(video: Extracting information\n"
     ]
    },
    {
     "name": "stderr",
     "output_type": "stream",
     "text": [
      "ERROR: Unsupported URL: https://www.youtube.com/watch?v=video(video\n"
     ]
    },
    {
     "name": "stdout",
     "output_type": "stream",
     "text": [
      "[generic] Society']): Requesting header\n",
      "[redirect] Following redirect to https://www.youtube.com/watch?v=video(video\n",
      "[generic] watch?v=video(video: Requesting header\n"
     ]
    },
    {
     "name": "stderr",
     "output_type": "stream",
     "text": [
      "WARNING: Falling back on generic information extractor.\n"
     ]
    },
    {
     "name": "stdout",
     "output_type": "stream",
     "text": [
      "[generic] watch?v=video(video: Downloading webpage\n",
      "[generic] watch?v=video(video: Extracting information\n"
     ]
    },
    {
     "name": "stderr",
     "output_type": "stream",
     "text": [
      "ERROR: Unsupported URL: https://www.youtube.com/watch?v=video(video\n"
     ]
    },
    {
     "name": "stdout",
     "output_type": "stream",
     "text": [
      "[generic] Society']): Requesting header\n",
      "[redirect] Following redirect to https://www.youtube.com/watch?v=video(video\n",
      "[generic] watch?v=video(video: Requesting header\n"
     ]
    },
    {
     "name": "stderr",
     "output_type": "stream",
     "text": [
      "WARNING: Falling back on generic information extractor.\n"
     ]
    },
    {
     "name": "stdout",
     "output_type": "stream",
     "text": [
      "[generic] watch?v=video(video: Downloading webpage\n",
      "[generic] watch?v=video(video: Extracting information\n"
     ]
    },
    {
     "name": "stderr",
     "output_type": "stream",
     "text": [
      "ERROR: Unsupported URL: https://www.youtube.com/watch?v=video(video\n"
     ]
    },
    {
     "name": "stdout",
     "output_type": "stream",
     "text": [
      "[generic] Society']): Requesting header\n",
      "[redirect] Following redirect to https://www.youtube.com/watch?v=video(video\n",
      "[generic] watch?v=video(video: Requesting header\n"
     ]
    },
    {
     "name": "stderr",
     "output_type": "stream",
     "text": [
      "WARNING: Falling back on generic information extractor.\n"
     ]
    },
    {
     "name": "stdout",
     "output_type": "stream",
     "text": [
      "[generic] watch?v=video(video: Downloading webpage\n",
      "[generic] watch?v=video(video: Extracting information\n"
     ]
    },
    {
     "name": "stderr",
     "output_type": "stream",
     "text": [
      "ERROR: Unsupported URL: https://www.youtube.com/watch?v=video(video\n"
     ]
    },
    {
     "name": "stdout",
     "output_type": "stream",
     "text": [
      "[generic] Society']): Requesting header\n",
      "[redirect] Following redirect to https://www.youtube.com/watch?v=video(video\n",
      "[generic] watch?v=video(video: Requesting header\n"
     ]
    },
    {
     "name": "stderr",
     "output_type": "stream",
     "text": [
      "WARNING: Falling back on generic information extractor.\n"
     ]
    },
    {
     "name": "stdout",
     "output_type": "stream",
     "text": [
      "[generic] watch?v=video(video: Downloading webpage\n",
      "[generic] watch?v=video(video: Extracting information\n"
     ]
    },
    {
     "name": "stderr",
     "output_type": "stream",
     "text": [
      "ERROR: Unsupported URL: https://www.youtube.com/watch?v=video(video\n"
     ]
    },
    {
     "name": "stdout",
     "output_type": "stream",
     "text": [
      "[generic] Society']): Requesting header\n",
      "[redirect] Following redirect to https://www.youtube.com/watch?v=video(video\n",
      "[generic] watch?v=video(video: Requesting header\n"
     ]
    },
    {
     "name": "stderr",
     "output_type": "stream",
     "text": [
      "WARNING: Falling back on generic information extractor.\n"
     ]
    },
    {
     "name": "stdout",
     "output_type": "stream",
     "text": [
      "[generic] watch?v=video(video: Downloading webpage\n",
      "[generic] watch?v=video(video: Extracting information\n"
     ]
    },
    {
     "name": "stderr",
     "output_type": "stream",
     "text": [
      "ERROR: Unsupported URL: https://www.youtube.com/watch?v=video(video\n"
     ]
    },
    {
     "name": "stdout",
     "output_type": "stream",
     "text": [
      "[generic] Society']): Requesting header\n",
      "[redirect] Following redirect to https://www.youtube.com/watch?v=video(video\n",
      "[generic] watch?v=video(video: Requesting header\n"
     ]
    },
    {
     "name": "stderr",
     "output_type": "stream",
     "text": [
      "WARNING: Falling back on generic information extractor.\n"
     ]
    },
    {
     "name": "stdout",
     "output_type": "stream",
     "text": [
      "[generic] watch?v=video(video: Downloading webpage\n",
      "[generic] watch?v=video(video: Extracting information\n"
     ]
    },
    {
     "name": "stderr",
     "output_type": "stream",
     "text": [
      "ERROR: Unsupported URL: https://www.youtube.com/watch?v=video(video\n"
     ]
    },
    {
     "name": "stdout",
     "output_type": "stream",
     "text": [
      "[generic] Society']): Requesting header\n",
      "[redirect] Following redirect to https://www.youtube.com/watch?v=video(video\n",
      "[generic] watch?v=video(video: Requesting header\n"
     ]
    },
    {
     "name": "stderr",
     "output_type": "stream",
     "text": [
      "WARNING: Falling back on generic information extractor.\n"
     ]
    },
    {
     "name": "stdout",
     "output_type": "stream",
     "text": [
      "[generic] watch?v=video(video: Downloading webpage\n",
      "[generic] watch?v=video(video: Extracting information\n"
     ]
    },
    {
     "name": "stderr",
     "output_type": "stream",
     "text": [
      "ERROR: Unsupported URL: https://www.youtube.com/watch?v=video(video\n"
     ]
    },
    {
     "name": "stdout",
     "output_type": "stream",
     "text": [
      "[generic] Society']): Requesting header\n",
      "[redirect] Following redirect to https://www.youtube.com/watch?v=video(video\n",
      "[generic] watch?v=video(video: Requesting header\n"
     ]
    },
    {
     "name": "stderr",
     "output_type": "stream",
     "text": [
      "WARNING: Falling back on generic information extractor.\n"
     ]
    },
    {
     "name": "stdout",
     "output_type": "stream",
     "text": [
      "[generic] watch?v=video(video: Downloading webpage\n",
      "[generic] watch?v=video(video: Extracting information\n"
     ]
    },
    {
     "name": "stderr",
     "output_type": "stream",
     "text": [
      "ERROR: Unsupported URL: https://www.youtube.com/watch?v=video(video\n"
     ]
    },
    {
     "name": "stdout",
     "output_type": "stream",
     "text": [
      "[generic] Society']): Requesting header\n",
      "[redirect] Following redirect to https://www.youtube.com/watch?v=video(video\n",
      "[generic] watch?v=video(video: Requesting header\n"
     ]
    },
    {
     "name": "stderr",
     "output_type": "stream",
     "text": [
      "WARNING: Falling back on generic information extractor.\n"
     ]
    },
    {
     "name": "stdout",
     "output_type": "stream",
     "text": [
      "[generic] watch?v=video(video: Downloading webpage\n",
      "[generic] watch?v=video(video: Extracting information\n"
     ]
    },
    {
     "name": "stderr",
     "output_type": "stream",
     "text": [
      "ERROR: Unsupported URL: https://www.youtube.com/watch?v=video(video\n"
     ]
    },
    {
     "name": "stdout",
     "output_type": "stream",
     "text": [
      "[generic] Society']): Requesting header\n",
      "[redirect] Following redirect to https://www.youtube.com/watch?v=video(video\n",
      "[generic] watch?v=video(video: Requesting header\n"
     ]
    },
    {
     "name": "stderr",
     "output_type": "stream",
     "text": [
      "WARNING: Falling back on generic information extractor.\n"
     ]
    },
    {
     "name": "stdout",
     "output_type": "stream",
     "text": [
      "[generic] watch?v=video(video: Downloading webpage\n",
      "[generic] watch?v=video(video: Extracting information\n"
     ]
    },
    {
     "name": "stderr",
     "output_type": "stream",
     "text": [
      "ERROR: Unsupported URL: https://www.youtube.com/watch?v=video(video\n"
     ]
    },
    {
     "name": "stdout",
     "output_type": "stream",
     "text": [
      "[generic] Society']): Requesting header\n",
      "[redirect] Following redirect to https://www.youtube.com/watch?v=video(video\n",
      "[generic] watch?v=video(video: Requesting header\n"
     ]
    },
    {
     "name": "stderr",
     "output_type": "stream",
     "text": [
      "WARNING: Falling back on generic information extractor.\n"
     ]
    },
    {
     "name": "stdout",
     "output_type": "stream",
     "text": [
      "[generic] watch?v=video(video: Downloading webpage\n",
      "[generic] watch?v=video(video: Extracting information\n"
     ]
    },
    {
     "name": "stderr",
     "output_type": "stream",
     "text": [
      "ERROR: Unsupported URL: https://www.youtube.com/watch?v=video(video\n"
     ]
    },
    {
     "name": "stdout",
     "output_type": "stream",
     "text": [
      "[generic] Society']): Requesting header\n",
      "[redirect] Following redirect to https://www.youtube.com/watch?v=video(video\n",
      "[generic] watch?v=video(video: Requesting header\n"
     ]
    },
    {
     "name": "stderr",
     "output_type": "stream",
     "text": [
      "WARNING: Falling back on generic information extractor.\n"
     ]
    },
    {
     "name": "stdout",
     "output_type": "stream",
     "text": [
      "[generic] watch?v=video(video: Downloading webpage\n",
      "[generic] watch?v=video(video: Extracting information\n"
     ]
    },
    {
     "name": "stderr",
     "output_type": "stream",
     "text": [
      "ERROR: Unsupported URL: https://www.youtube.com/watch?v=video(video\n"
     ]
    },
    {
     "name": "stdout",
     "output_type": "stream",
     "text": [
      "[generic] Society']): Requesting header\n",
      "[redirect] Following redirect to https://www.youtube.com/watch?v=video(video\n",
      "[generic] watch?v=video(video: Requesting header\n"
     ]
    },
    {
     "name": "stderr",
     "output_type": "stream",
     "text": [
      "WARNING: Falling back on generic information extractor.\n"
     ]
    },
    {
     "name": "stdout",
     "output_type": "stream",
     "text": [
      "[generic] watch?v=video(video: Downloading webpage\n",
      "[generic] watch?v=video(video: Extracting information\n"
     ]
    },
    {
     "name": "stderr",
     "output_type": "stream",
     "text": [
      "ERROR: Unsupported URL: https://www.youtube.com/watch?v=video(video\n"
     ]
    },
    {
     "name": "stdout",
     "output_type": "stream",
     "text": [
      "[generic] Music']): Requesting header\n",
      "[redirect] Following redirect to https://www.youtube.com/watch?v=video(video\n",
      "[generic] watch?v=video(video: Requesting header\n"
     ]
    },
    {
     "name": "stderr",
     "output_type": "stream",
     "text": [
      "WARNING: Falling back on generic information extractor.\n"
     ]
    },
    {
     "name": "stdout",
     "output_type": "stream",
     "text": [
      "[generic] watch?v=video(video: Downloading webpage\n",
      "[generic] watch?v=video(video: Extracting information\n"
     ]
    },
    {
     "name": "stderr",
     "output_type": "stream",
     "text": [
      "ERROR: Unsupported URL: https://www.youtube.com/watch?v=video(video\n"
     ]
    },
    {
     "name": "stdout",
     "output_type": "stream",
     "text": [
      "[generic] Music']): Requesting header\n",
      "[redirect] Following redirect to https://www.youtube.com/watch?v=video(video\n",
      "[generic] watch?v=video(video: Requesting header\n"
     ]
    },
    {
     "name": "stderr",
     "output_type": "stream",
     "text": [
      "WARNING: Falling back on generic information extractor.\n"
     ]
    },
    {
     "name": "stdout",
     "output_type": "stream",
     "text": [
      "[generic] watch?v=video(video: Downloading webpage\n",
      "[generic] watch?v=video(video: Extracting information\n"
     ]
    },
    {
     "name": "stderr",
     "output_type": "stream",
     "text": [
      "ERROR: Unsupported URL: https://www.youtube.com/watch?v=video(video\n"
     ]
    },
    {
     "name": "stdout",
     "output_type": "stream",
     "text": [
      "[generic] Society']): Requesting header\n",
      "[redirect] Following redirect to https://www.youtube.com/watch?v=video(video\n",
      "[generic] watch?v=video(video: Requesting header\n"
     ]
    },
    {
     "name": "stderr",
     "output_type": "stream",
     "text": [
      "WARNING: Falling back on generic information extractor.\n"
     ]
    },
    {
     "name": "stdout",
     "output_type": "stream",
     "text": [
      "[generic] watch?v=video(video: Downloading webpage\n",
      "[generic] watch?v=video(video: Extracting information\n"
     ]
    },
    {
     "name": "stderr",
     "output_type": "stream",
     "text": [
      "ERROR: Unsupported URL: https://www.youtube.com/watch?v=video(video\n"
     ]
    },
    {
     "name": "stdout",
     "output_type": "stream",
     "text": [
      "[generic] Society']): Requesting header\n",
      "[redirect] Following redirect to https://www.youtube.com/watch?v=video(video\n",
      "[generic] watch?v=video(video: Requesting header\n"
     ]
    },
    {
     "name": "stderr",
     "output_type": "stream",
     "text": [
      "WARNING: Falling back on generic information extractor.\n"
     ]
    },
    {
     "name": "stdout",
     "output_type": "stream",
     "text": [
      "[generic] watch?v=video(video: Downloading webpage\n",
      "[generic] watch?v=video(video: Extracting information\n"
     ]
    },
    {
     "name": "stderr",
     "output_type": "stream",
     "text": [
      "ERROR: Unsupported URL: https://www.youtube.com/watch?v=video(video\n"
     ]
    },
    {
     "name": "stdout",
     "output_type": "stream",
     "text": [
      "[generic] Society']): Requesting header\n",
      "[redirect] Following redirect to https://www.youtube.com/watch?v=video(video\n",
      "[generic] watch?v=video(video: Requesting header\n"
     ]
    },
    {
     "name": "stderr",
     "output_type": "stream",
     "text": [
      "WARNING: Falling back on generic information extractor.\n"
     ]
    },
    {
     "name": "stdout",
     "output_type": "stream",
     "text": [
      "[generic] watch?v=video(video: Downloading webpage\n",
      "[generic] watch?v=video(video: Extracting information\n"
     ]
    },
    {
     "name": "stderr",
     "output_type": "stream",
     "text": [
      "ERROR: Unsupported URL: https://www.youtube.com/watch?v=video(video\n"
     ]
    },
    {
     "name": "stdout",
     "output_type": "stream",
     "text": [
      "[generic] Society']): Requesting header\n",
      "[redirect] Following redirect to https://www.youtube.com/watch?v=video(video\n",
      "[generic] watch?v=video(video: Requesting header\n"
     ]
    },
    {
     "name": "stderr",
     "output_type": "stream",
     "text": [
      "WARNING: Falling back on generic information extractor.\n"
     ]
    },
    {
     "name": "stdout",
     "output_type": "stream",
     "text": [
      "[generic] watch?v=video(video: Downloading webpage\n",
      "[generic] watch?v=video(video: Extracting information\n"
     ]
    },
    {
     "name": "stderr",
     "output_type": "stream",
     "text": [
      "ERROR: Unsupported URL: https://www.youtube.com/watch?v=video(video\n"
     ]
    },
    {
     "name": "stdout",
     "output_type": "stream",
     "text": [
      "[generic] Society']): Requesting header\n",
      "[redirect] Following redirect to https://www.youtube.com/watch?v=video(video\n",
      "[generic] watch?v=video(video: Requesting header\n"
     ]
    },
    {
     "name": "stderr",
     "output_type": "stream",
     "text": [
      "WARNING: Falling back on generic information extractor.\n"
     ]
    },
    {
     "name": "stdout",
     "output_type": "stream",
     "text": [
      "[generic] watch?v=video(video: Downloading webpage\n",
      "[generic] watch?v=video(video: Extracting information\n"
     ]
    },
    {
     "name": "stderr",
     "output_type": "stream",
     "text": [
      "ERROR: Unsupported URL: https://www.youtube.com/watch?v=video(video\n"
     ]
    },
    {
     "name": "stdout",
     "output_type": "stream",
     "text": [
      "[generic] Music']): Requesting header\n",
      "[redirect] Following redirect to https://www.youtube.com/watch?v=video(video\n",
      "[generic] watch?v=video(video: Requesting header\n"
     ]
    },
    {
     "name": "stderr",
     "output_type": "stream",
     "text": [
      "WARNING: Falling back on generic information extractor.\n"
     ]
    },
    {
     "name": "stdout",
     "output_type": "stream",
     "text": [
      "[generic] watch?v=video(video: Downloading webpage\n",
      "[generic] watch?v=video(video: Extracting information\n"
     ]
    },
    {
     "name": "stderr",
     "output_type": "stream",
     "text": [
      "ERROR: Unsupported URL: https://www.youtube.com/watch?v=video(video\n"
     ]
    },
    {
     "name": "stdout",
     "output_type": "stream",
     "text": [
      "[generic] Society']): Requesting header\n",
      "[redirect] Following redirect to https://www.youtube.com/watch?v=video(video\n",
      "[generic] watch?v=video(video: Requesting header\n"
     ]
    },
    {
     "name": "stderr",
     "output_type": "stream",
     "text": [
      "WARNING: Falling back on generic information extractor.\n"
     ]
    },
    {
     "name": "stdout",
     "output_type": "stream",
     "text": [
      "[generic] watch?v=video(video: Downloading webpage\n",
      "[generic] watch?v=video(video: Extracting information\n"
     ]
    },
    {
     "name": "stderr",
     "output_type": "stream",
     "text": [
      "ERROR: Unsupported URL: https://www.youtube.com/watch?v=video(video\n"
     ]
    },
    {
     "name": "stdout",
     "output_type": "stream",
     "text": [
      "[generic] Society']): Requesting header\n",
      "[redirect] Following redirect to https://www.youtube.com/watch?v=video(video\n",
      "[generic] watch?v=video(video: Requesting header\n"
     ]
    },
    {
     "name": "stderr",
     "output_type": "stream",
     "text": [
      "WARNING: Falling back on generic information extractor.\n"
     ]
    },
    {
     "name": "stdout",
     "output_type": "stream",
     "text": [
      "[generic] watch?v=video(video: Downloading webpage\n",
      "[generic] watch?v=video(video: Extracting information\n"
     ]
    },
    {
     "name": "stderr",
     "output_type": "stream",
     "text": [
      "ERROR: Unsupported URL: https://www.youtube.com/watch?v=video(video\n"
     ]
    },
    {
     "name": "stdout",
     "output_type": "stream",
     "text": [
      "[generic] Entertainment']): Requesting header\n",
      "[redirect] Following redirect to https://www.youtube.com/watch?v=video(video\n",
      "[generic] watch?v=video(video: Requesting header\n"
     ]
    },
    {
     "name": "stderr",
     "output_type": "stream",
     "text": [
      "WARNING: Falling back on generic information extractor.\n"
     ]
    },
    {
     "name": "stdout",
     "output_type": "stream",
     "text": [
      "[generic] watch?v=video(video: Downloading webpage\n",
      "[generic] watch?v=video(video: Extracting information\n"
     ]
    },
    {
     "name": "stderr",
     "output_type": "stream",
     "text": [
      "ERROR: Unsupported URL: https://www.youtube.com/watch?v=video(video\n"
     ]
    },
    {
     "name": "stdout",
     "output_type": "stream",
     "text": [
      "[generic] Society']): Requesting header\n",
      "[redirect] Following redirect to https://www.youtube.com/watch?v=video(video\n",
      "[generic] watch?v=video(video: Requesting header\n"
     ]
    },
    {
     "name": "stderr",
     "output_type": "stream",
     "text": [
      "WARNING: Falling back on generic information extractor.\n"
     ]
    },
    {
     "name": "stdout",
     "output_type": "stream",
     "text": [
      "[generic] watch?v=video(video: Downloading webpage\n",
      "[generic] watch?v=video(video: Extracting information\n"
     ]
    },
    {
     "name": "stderr",
     "output_type": "stream",
     "text": [
      "ERROR: Unsupported URL: https://www.youtube.com/watch?v=video(video\n"
     ]
    },
    {
     "name": "stdout",
     "output_type": "stream",
     "text": [
      "[generic] Society']): Requesting header\n",
      "[redirect] Following redirect to https://www.youtube.com/watch?v=video(video\n",
      "[generic] watch?v=video(video: Requesting header\n"
     ]
    },
    {
     "name": "stderr",
     "output_type": "stream",
     "text": [
      "WARNING: Falling back on generic information extractor.\n"
     ]
    },
    {
     "name": "stdout",
     "output_type": "stream",
     "text": [
      "[generic] watch?v=video(video: Downloading webpage\n",
      "[generic] watch?v=video(video: Extracting information\n"
     ]
    },
    {
     "name": "stderr",
     "output_type": "stream",
     "text": [
      "ERROR: Unsupported URL: https://www.youtube.com/watch?v=video(video\n"
     ]
    },
    {
     "name": "stdout",
     "output_type": "stream",
     "text": [
      "[generic] Society']): Requesting header\n",
      "[redirect] Following redirect to https://www.youtube.com/watch?v=video(video\n",
      "[generic] watch?v=video(video: Requesting header\n"
     ]
    },
    {
     "name": "stderr",
     "output_type": "stream",
     "text": [
      "WARNING: Falling back on generic information extractor.\n"
     ]
    },
    {
     "name": "stdout",
     "output_type": "stream",
     "text": [
      "[generic] watch?v=video(video: Downloading webpage\n",
      "[generic] watch?v=video(video: Extracting information\n"
     ]
    },
    {
     "name": "stderr",
     "output_type": "stream",
     "text": [
      "ERROR: Unsupported URL: https://www.youtube.com/watch?v=video(video\n"
     ]
    },
    {
     "name": "stdout",
     "output_type": "stream",
     "text": [
      "[generic] Society']): Requesting header\n",
      "[redirect] Following redirect to https://www.youtube.com/watch?v=video(video\n",
      "[generic] watch?v=video(video: Requesting header\n"
     ]
    },
    {
     "name": "stderr",
     "output_type": "stream",
     "text": [
      "WARNING: Falling back on generic information extractor.\n"
     ]
    },
    {
     "name": "stdout",
     "output_type": "stream",
     "text": [
      "[generic] watch?v=video(video: Downloading webpage\n",
      "[generic] watch?v=video(video: Extracting information\n"
     ]
    },
    {
     "name": "stderr",
     "output_type": "stream",
     "text": [
      "ERROR: Unsupported URL: https://www.youtube.com/watch?v=video(video\n"
     ]
    },
    {
     "name": "stdout",
     "output_type": "stream",
     "text": [
      "[generic] Society']): Requesting header\n",
      "[redirect] Following redirect to https://www.youtube.com/watch?v=video(video\n",
      "[generic] watch?v=video(video: Requesting header\n"
     ]
    },
    {
     "name": "stderr",
     "output_type": "stream",
     "text": [
      "WARNING: Falling back on generic information extractor.\n"
     ]
    },
    {
     "name": "stdout",
     "output_type": "stream",
     "text": [
      "[generic] watch?v=video(video: Downloading webpage\n",
      "[generic] watch?v=video(video: Extracting information\n"
     ]
    },
    {
     "name": "stderr",
     "output_type": "stream",
     "text": [
      "ERROR: Unsupported URL: https://www.youtube.com/watch?v=video(video\n"
     ]
    },
    {
     "name": "stdout",
     "output_type": "stream",
     "text": [
      "[generic] Society']): Requesting header\n",
      "[redirect] Following redirect to https://www.youtube.com/watch?v=video(video\n",
      "[generic] watch?v=video(video: Requesting header\n"
     ]
    },
    {
     "name": "stderr",
     "output_type": "stream",
     "text": [
      "WARNING: Falling back on generic information extractor.\n"
     ]
    },
    {
     "name": "stdout",
     "output_type": "stream",
     "text": [
      "[generic] watch?v=video(video: Downloading webpage\n",
      "[generic] watch?v=video(video: Extracting information\n"
     ]
    },
    {
     "name": "stderr",
     "output_type": "stream",
     "text": [
      "ERROR: Unsupported URL: https://www.youtube.com/watch?v=video(video\n"
     ]
    },
    {
     "name": "stdout",
     "output_type": "stream",
     "text": [
      "[generic] Society']): Requesting header\n",
      "[redirect] Following redirect to https://www.youtube.com/watch?v=video(video\n",
      "[generic] watch?v=video(video: Requesting header\n"
     ]
    },
    {
     "name": "stderr",
     "output_type": "stream",
     "text": [
      "WARNING: Falling back on generic information extractor.\n"
     ]
    },
    {
     "name": "stdout",
     "output_type": "stream",
     "text": [
      "[generic] watch?v=video(video: Downloading webpage\n",
      "[generic] watch?v=video(video: Extracting information\n"
     ]
    },
    {
     "name": "stderr",
     "output_type": "stream",
     "text": [
      "ERROR: Unsupported URL: https://www.youtube.com/watch?v=video(video\n"
     ]
    },
    {
     "name": "stdout",
     "output_type": "stream",
     "text": [
      "[generic] Society']): Requesting header\n",
      "[redirect] Following redirect to https://www.youtube.com/watch?v=video(video\n",
      "[generic] watch?v=video(video: Requesting header\n"
     ]
    },
    {
     "name": "stderr",
     "output_type": "stream",
     "text": [
      "WARNING: Falling back on generic information extractor.\n"
     ]
    },
    {
     "name": "stdout",
     "output_type": "stream",
     "text": [
      "[generic] watch?v=video(video: Downloading webpage\n",
      "[generic] watch?v=video(video: Extracting information\n"
     ]
    },
    {
     "name": "stderr",
     "output_type": "stream",
     "text": [
      "ERROR: Unsupported URL: https://www.youtube.com/watch?v=video(video\n"
     ]
    },
    {
     "name": "stdout",
     "output_type": "stream",
     "text": [
      "[generic] Society']): Requesting header\n",
      "[redirect] Following redirect to https://www.youtube.com/watch?v=video(video\n",
      "[generic] watch?v=video(video: Requesting header\n"
     ]
    },
    {
     "name": "stderr",
     "output_type": "stream",
     "text": [
      "WARNING: Falling back on generic information extractor.\n"
     ]
    },
    {
     "name": "stdout",
     "output_type": "stream",
     "text": [
      "[generic] watch?v=video(video: Downloading webpage\n",
      "[generic] watch?v=video(video: Extracting information\n"
     ]
    },
    {
     "name": "stderr",
     "output_type": "stream",
     "text": [
      "ERROR: Unsupported URL: https://www.youtube.com/watch?v=video(video\n"
     ]
    },
    {
     "name": "stdout",
     "output_type": "stream",
     "text": [
      "[generic] Entertainment']): Requesting header\n",
      "[redirect] Following redirect to https://www.youtube.com/watch?v=video(video\n",
      "[generic] watch?v=video(video: Requesting header\n"
     ]
    },
    {
     "name": "stderr",
     "output_type": "stream",
     "text": [
      "WARNING: Falling back on generic information extractor.\n"
     ]
    },
    {
     "name": "stdout",
     "output_type": "stream",
     "text": [
      "[generic] watch?v=video(video: Downloading webpage\n",
      "[generic] watch?v=video(video: Extracting information\n"
     ]
    },
    {
     "name": "stderr",
     "output_type": "stream",
     "text": [
      "ERROR: Unsupported URL: https://www.youtube.com/watch?v=video(video\n"
     ]
    },
    {
     "name": "stdout",
     "output_type": "stream",
     "text": [
      "[generic] Music']): Requesting header\n",
      "[redirect] Following redirect to https://www.youtube.com/watch?v=video(video\n",
      "[generic] watch?v=video(video: Requesting header\n"
     ]
    },
    {
     "name": "stderr",
     "output_type": "stream",
     "text": [
      "WARNING: Falling back on generic information extractor.\n"
     ]
    },
    {
     "name": "stdout",
     "output_type": "stream",
     "text": [
      "[generic] watch?v=video(video: Downloading webpage\n",
      "[generic] watch?v=video(video: Extracting information\n"
     ]
    },
    {
     "name": "stderr",
     "output_type": "stream",
     "text": [
      "ERROR: Unsupported URL: https://www.youtube.com/watch?v=video(video\n"
     ]
    },
    {
     "name": "stdout",
     "output_type": "stream",
     "text": [
      "[generic] Society']): Requesting header\n",
      "[redirect] Following redirect to https://www.youtube.com/watch?v=video(video\n",
      "[generic] watch?v=video(video: Requesting header\n"
     ]
    },
    {
     "name": "stderr",
     "output_type": "stream",
     "text": [
      "WARNING: Falling back on generic information extractor.\n"
     ]
    },
    {
     "name": "stdout",
     "output_type": "stream",
     "text": [
      "[generic] watch?v=video(video: Downloading webpage\n",
      "[generic] watch?v=video(video: Extracting information\n"
     ]
    },
    {
     "name": "stderr",
     "output_type": "stream",
     "text": [
      "ERROR: Unsupported URL: https://www.youtube.com/watch?v=video(video\n"
     ]
    },
    {
     "name": "stdout",
     "output_type": "stream",
     "text": [
      "[generic] Society']): Requesting header\n",
      "[redirect] Following redirect to https://www.youtube.com/watch?v=video(video\n",
      "[generic] watch?v=video(video: Requesting header\n"
     ]
    },
    {
     "name": "stderr",
     "output_type": "stream",
     "text": [
      "WARNING: Falling back on generic information extractor.\n"
     ]
    },
    {
     "name": "stdout",
     "output_type": "stream",
     "text": [
      "[generic] watch?v=video(video: Downloading webpage\n",
      "[generic] watch?v=video(video: Extracting information\n"
     ]
    },
    {
     "name": "stderr",
     "output_type": "stream",
     "text": [
      "ERROR: Unsupported URL: https://www.youtube.com/watch?v=video(video\n"
     ]
    },
    {
     "name": "stdout",
     "output_type": "stream",
     "text": [
      "[generic] Politics']): Requesting header\n",
      "[redirect] Following redirect to https://www.youtube.com/watch?v=video(video\n",
      "[generic] watch?v=video(video: Requesting header\n"
     ]
    },
    {
     "name": "stderr",
     "output_type": "stream",
     "text": [
      "WARNING: Falling back on generic information extractor.\n"
     ]
    },
    {
     "name": "stdout",
     "output_type": "stream",
     "text": [
      "[generic] watch?v=video(video: Downloading webpage\n",
      "[generic] watch?v=video(video: Extracting information\n"
     ]
    },
    {
     "name": "stderr",
     "output_type": "stream",
     "text": [
      "ERROR: Unsupported URL: https://www.youtube.com/watch?v=video(video\n"
     ]
    },
    {
     "name": "stdout",
     "output_type": "stream",
     "text": [
      "[generic] Lifestyle_(sociology)']): Requesting header\n",
      "[redirect] Following redirect to https://www.youtube.com/watch?v=video(video\n",
      "[generic] watch?v=video(video: Requesting header\n"
     ]
    },
    {
     "name": "stderr",
     "output_type": "stream",
     "text": [
      "WARNING: Falling back on generic information extractor.\n"
     ]
    },
    {
     "name": "stdout",
     "output_type": "stream",
     "text": [
      "[generic] watch?v=video(video: Downloading webpage\n",
      "[generic] watch?v=video(video: Extracting information\n"
     ]
    },
    {
     "name": "stderr",
     "output_type": "stream",
     "text": [
      "ERROR: Unsupported URL: https://www.youtube.com/watch?v=video(video\n"
     ]
    },
    {
     "name": "stdout",
     "output_type": "stream",
     "text": [
      "[generic] Society']): Requesting header\n",
      "[redirect] Following redirect to https://www.youtube.com/watch?v=video(video\n",
      "[generic] watch?v=video(video: Requesting header\n"
     ]
    },
    {
     "name": "stderr",
     "output_type": "stream",
     "text": [
      "WARNING: Falling back on generic information extractor.\n"
     ]
    },
    {
     "name": "stdout",
     "output_type": "stream",
     "text": [
      "[generic] watch?v=video(video: Downloading webpage\n",
      "[generic] watch?v=video(video: Extracting information\n"
     ]
    },
    {
     "name": "stderr",
     "output_type": "stream",
     "text": [
      "ERROR: Unsupported URL: https://www.youtube.com/watch?v=video(video\n"
     ]
    },
    {
     "name": "stdout",
     "output_type": "stream",
     "text": [
      "[generic] Entertainment']): Requesting header\n",
      "[redirect] Following redirect to https://www.youtube.com/watch?v=video(video\n",
      "[generic] watch?v=video(video: Requesting header\n"
     ]
    },
    {
     "name": "stderr",
     "output_type": "stream",
     "text": [
      "WARNING: Falling back on generic information extractor.\n"
     ]
    },
    {
     "name": "stdout",
     "output_type": "stream",
     "text": [
      "[generic] watch?v=video(video: Downloading webpage\n",
      "[generic] watch?v=video(video: Extracting information\n"
     ]
    },
    {
     "name": "stderr",
     "output_type": "stream",
     "text": [
      "ERROR: Unsupported URL: https://www.youtube.com/watch?v=video(video\n"
     ]
    },
    {
     "name": "stdout",
     "output_type": "stream",
     "text": [
      "[generic] Society']): Requesting header\n",
      "[redirect] Following redirect to https://www.youtube.com/watch?v=video(video\n",
      "[generic] watch?v=video(video: Requesting header\n"
     ]
    },
    {
     "name": "stderr",
     "output_type": "stream",
     "text": [
      "WARNING: Falling back on generic information extractor.\n"
     ]
    },
    {
     "name": "stdout",
     "output_type": "stream",
     "text": [
      "[generic] watch?v=video(video: Downloading webpage\n",
      "[generic] watch?v=video(video: Extracting information\n"
     ]
    },
    {
     "name": "stderr",
     "output_type": "stream",
     "text": [
      "ERROR: Unsupported URL: https://www.youtube.com/watch?v=video(video\n"
     ]
    },
    {
     "name": "stdout",
     "output_type": "stream",
     "text": [
      "[generic] Society']): Requesting header\n",
      "[redirect] Following redirect to https://www.youtube.com/watch?v=video(video\n",
      "[generic] watch?v=video(video: Requesting header\n"
     ]
    },
    {
     "name": "stderr",
     "output_type": "stream",
     "text": [
      "WARNING: Falling back on generic information extractor.\n"
     ]
    },
    {
     "name": "stdout",
     "output_type": "stream",
     "text": [
      "[generic] watch?v=video(video: Downloading webpage\n",
      "[generic] watch?v=video(video: Extracting information\n"
     ]
    },
    {
     "name": "stderr",
     "output_type": "stream",
     "text": [
      "ERROR: Unsupported URL: https://www.youtube.com/watch?v=video(video\n"
     ]
    },
    {
     "name": "stdout",
     "output_type": "stream",
     "text": [
      "[generic] Entertainment']): Requesting header\n",
      "[redirect] Following redirect to https://www.youtube.com/watch?v=video(video\n",
      "[generic] watch?v=video(video: Requesting header\n"
     ]
    },
    {
     "name": "stderr",
     "output_type": "stream",
     "text": [
      "WARNING: Falling back on generic information extractor.\n"
     ]
    },
    {
     "name": "stdout",
     "output_type": "stream",
     "text": [
      "[generic] watch?v=video(video: Downloading webpage\n",
      "[generic] watch?v=video(video: Extracting information\n"
     ]
    },
    {
     "name": "stderr",
     "output_type": "stream",
     "text": [
      "ERROR: Unsupported URL: https://www.youtube.com/watch?v=video(video\n"
     ]
    },
    {
     "name": "stdout",
     "output_type": "stream",
     "text": [
      "[generic] Music']): Requesting header\n",
      "[redirect] Following redirect to https://www.youtube.com/watch?v=video(video\n",
      "[generic] watch?v=video(video: Requesting header\n"
     ]
    },
    {
     "name": "stderr",
     "output_type": "stream",
     "text": [
      "WARNING: Falling back on generic information extractor.\n"
     ]
    },
    {
     "name": "stdout",
     "output_type": "stream",
     "text": [
      "[generic] watch?v=video(video: Downloading webpage\n",
      "[generic] watch?v=video(video: Extracting information\n"
     ]
    },
    {
     "name": "stderr",
     "output_type": "stream",
     "text": [
      "ERROR: Unsupported URL: https://www.youtube.com/watch?v=video(video\n"
     ]
    },
    {
     "name": "stdout",
     "output_type": "stream",
     "text": [
      "[generic] Lifestyle_(sociology)']): Requesting header\n",
      "[redirect] Following redirect to https://www.youtube.com/watch?v=video(video\n",
      "[generic] watch?v=video(video: Requesting header\n"
     ]
    },
    {
     "name": "stderr",
     "output_type": "stream",
     "text": [
      "WARNING: Falling back on generic information extractor.\n"
     ]
    },
    {
     "name": "stdout",
     "output_type": "stream",
     "text": [
      "[generic] watch?v=video(video: Downloading webpage\n",
      "[generic] watch?v=video(video: Extracting information\n"
     ]
    },
    {
     "name": "stderr",
     "output_type": "stream",
     "text": [
      "ERROR: Unsupported URL: https://www.youtube.com/watch?v=video(video\n"
     ]
    },
    {
     "name": "stdout",
     "output_type": "stream",
     "text": [
      "[generic] Music']): Requesting header\n",
      "[redirect] Following redirect to https://www.youtube.com/watch?v=video(video\n",
      "[generic] watch?v=video(video: Requesting header\n"
     ]
    },
    {
     "name": "stderr",
     "output_type": "stream",
     "text": [
      "WARNING: Falling back on generic information extractor.\n"
     ]
    },
    {
     "name": "stdout",
     "output_type": "stream",
     "text": [
      "[generic] watch?v=video(video: Downloading webpage\n",
      "[generic] watch?v=video(video: Extracting information\n"
     ]
    },
    {
     "name": "stderr",
     "output_type": "stream",
     "text": [
      "ERROR: Unsupported URL: https://www.youtube.com/watch?v=video(video\n"
     ]
    },
    {
     "name": "stdout",
     "output_type": "stream",
     "text": [
      "[generic] Politics']): Requesting header\n",
      "[redirect] Following redirect to https://www.youtube.com/watch?v=video(video\n",
      "[generic] watch?v=video(video: Requesting header\n"
     ]
    },
    {
     "name": "stderr",
     "output_type": "stream",
     "text": [
      "WARNING: Falling back on generic information extractor.\n"
     ]
    },
    {
     "name": "stdout",
     "output_type": "stream",
     "text": [
      "[generic] watch?v=video(video: Downloading webpage\n",
      "[generic] watch?v=video(video: Extracting information\n"
     ]
    },
    {
     "name": "stderr",
     "output_type": "stream",
     "text": [
      "ERROR: Unsupported URL: https://www.youtube.com/watch?v=video(video\n"
     ]
    },
    {
     "name": "stdout",
     "output_type": "stream",
     "text": [
      "[generic] Lifestyle_(sociology)']): Requesting header\n",
      "[redirect] Following redirect to https://www.youtube.com/watch?v=video(video\n",
      "[generic] watch?v=video(video: Requesting header\n"
     ]
    },
    {
     "name": "stderr",
     "output_type": "stream",
     "text": [
      "WARNING: Falling back on generic information extractor.\n"
     ]
    },
    {
     "name": "stdout",
     "output_type": "stream",
     "text": [
      "[generic] watch?v=video(video: Downloading webpage\n",
      "[generic] watch?v=video(video: Extracting information\n"
     ]
    },
    {
     "name": "stderr",
     "output_type": "stream",
     "text": [
      "ERROR: Unsupported URL: https://www.youtube.com/watch?v=video(video\n"
     ]
    },
    {
     "name": "stdout",
     "output_type": "stream",
     "text": [
      "[generic] Lifestyle_(sociology)']): Requesting header\n",
      "[redirect] Following redirect to https://www.youtube.com/watch?v=video(video\n",
      "[generic] watch?v=video(video: Requesting header\n"
     ]
    },
    {
     "name": "stderr",
     "output_type": "stream",
     "text": [
      "WARNING: Falling back on generic information extractor.\n"
     ]
    },
    {
     "name": "stdout",
     "output_type": "stream",
     "text": [
      "[generic] watch?v=video(video: Downloading webpage\n",
      "[generic] watch?v=video(video: Extracting information\n"
     ]
    },
    {
     "name": "stderr",
     "output_type": "stream",
     "text": [
      "ERROR: Unsupported URL: https://www.youtube.com/watch?v=video(video\n"
     ]
    },
    {
     "name": "stdout",
     "output_type": "stream",
     "text": [
      "[generic] Society']): Requesting header\n",
      "[redirect] Following redirect to https://www.youtube.com/watch?v=video(video\n",
      "[generic] watch?v=video(video: Requesting header\n"
     ]
    },
    {
     "name": "stderr",
     "output_type": "stream",
     "text": [
      "WARNING: Falling back on generic information extractor.\n"
     ]
    },
    {
     "name": "stdout",
     "output_type": "stream",
     "text": [
      "[generic] watch?v=video(video: Downloading webpage\n",
      "[generic] watch?v=video(video: Extracting information\n"
     ]
    },
    {
     "name": "stderr",
     "output_type": "stream",
     "text": [
      "ERROR: Unsupported URL: https://www.youtube.com/watch?v=video(video\n"
     ]
    },
    {
     "name": "stdout",
     "output_type": "stream",
     "text": [
      "[generic] Society']): Requesting header\n",
      "[redirect] Following redirect to https://www.youtube.com/watch?v=video(video\n",
      "[generic] watch?v=video(video: Requesting header\n"
     ]
    },
    {
     "name": "stderr",
     "output_type": "stream",
     "text": [
      "WARNING: Falling back on generic information extractor.\n"
     ]
    },
    {
     "name": "stdout",
     "output_type": "stream",
     "text": [
      "[generic] watch?v=video(video: Downloading webpage\n",
      "[generic] watch?v=video(video: Extracting information\n"
     ]
    },
    {
     "name": "stderr",
     "output_type": "stream",
     "text": [
      "ERROR: Unsupported URL: https://www.youtube.com/watch?v=video(video\n"
     ]
    },
    {
     "name": "stdout",
     "output_type": "stream",
     "text": [
      "[generic] Society']): Requesting header\n",
      "[redirect] Following redirect to https://www.youtube.com/watch?v=video(video\n",
      "[generic] watch?v=video(video: Requesting header\n"
     ]
    },
    {
     "name": "stderr",
     "output_type": "stream",
     "text": [
      "WARNING: Falling back on generic information extractor.\n"
     ]
    },
    {
     "name": "stdout",
     "output_type": "stream",
     "text": [
      "[generic] watch?v=video(video: Downloading webpage\n",
      "[generic] watch?v=video(video: Extracting information\n"
     ]
    },
    {
     "name": "stderr",
     "output_type": "stream",
     "text": [
      "ERROR: Unsupported URL: https://www.youtube.com/watch?v=video(video\n"
     ]
    },
    {
     "name": "stdout",
     "output_type": "stream",
     "text": [
      "[generic] Society']): Requesting header\n",
      "[redirect] Following redirect to https://www.youtube.com/watch?v=video(video\n",
      "[generic] watch?v=video(video: Requesting header\n"
     ]
    },
    {
     "name": "stderr",
     "output_type": "stream",
     "text": [
      "WARNING: Falling back on generic information extractor.\n"
     ]
    },
    {
     "name": "stdout",
     "output_type": "stream",
     "text": [
      "[generic] watch?v=video(video: Downloading webpage\n",
      "[generic] watch?v=video(video: Extracting information\n"
     ]
    },
    {
     "name": "stderr",
     "output_type": "stream",
     "text": [
      "ERROR: Unsupported URL: https://www.youtube.com/watch?v=video(video\n"
     ]
    },
    {
     "name": "stdout",
     "output_type": "stream",
     "text": [
      "[generic] Politics']): Requesting header\n",
      "[redirect] Following redirect to https://www.youtube.com/watch?v=video(video\n",
      "[generic] watch?v=video(video: Requesting header\n"
     ]
    },
    {
     "name": "stderr",
     "output_type": "stream",
     "text": [
      "WARNING: Falling back on generic information extractor.\n"
     ]
    },
    {
     "name": "stdout",
     "output_type": "stream",
     "text": [
      "[generic] watch?v=video(video: Downloading webpage\n",
      "[generic] watch?v=video(video: Extracting information\n"
     ]
    },
    {
     "name": "stderr",
     "output_type": "stream",
     "text": [
      "ERROR: Unsupported URL: https://www.youtube.com/watch?v=video(video\n"
     ]
    },
    {
     "name": "stdout",
     "output_type": "stream",
     "text": [
      "[generic] Society']): Requesting header\n",
      "[redirect] Following redirect to https://www.youtube.com/watch?v=video(video\n",
      "[generic] watch?v=video(video: Requesting header\n"
     ]
    },
    {
     "name": "stderr",
     "output_type": "stream",
     "text": [
      "WARNING: Falling back on generic information extractor.\n"
     ]
    },
    {
     "name": "stdout",
     "output_type": "stream",
     "text": [
      "[generic] watch?v=video(video: Downloading webpage\n",
      "[generic] watch?v=video(video: Extracting information\n"
     ]
    },
    {
     "name": "stderr",
     "output_type": "stream",
     "text": [
      "ERROR: Unsupported URL: https://www.youtube.com/watch?v=video(video\n"
     ]
    },
    {
     "name": "stdout",
     "output_type": "stream",
     "text": [
      "[generic] Society']): Requesting header\n",
      "[redirect] Following redirect to https://www.youtube.com/watch?v=video(video\n",
      "[generic] watch?v=video(video: Requesting header\n"
     ]
    },
    {
     "name": "stderr",
     "output_type": "stream",
     "text": [
      "WARNING: Falling back on generic information extractor.\n"
     ]
    },
    {
     "name": "stdout",
     "output_type": "stream",
     "text": [
      "[generic] watch?v=video(video: Downloading webpage\n",
      "[generic] watch?v=video(video: Extracting information\n"
     ]
    },
    {
     "name": "stderr",
     "output_type": "stream",
     "text": [
      "ERROR: Unsupported URL: https://www.youtube.com/watch?v=video(video\n"
     ]
    },
    {
     "name": "stdout",
     "output_type": "stream",
     "text": [
      "[generic] Society']): Requesting header\n",
      "[redirect] Following redirect to https://www.youtube.com/watch?v=video(video\n",
      "[generic] watch?v=video(video: Requesting header\n"
     ]
    },
    {
     "name": "stderr",
     "output_type": "stream",
     "text": [
      "WARNING: Falling back on generic information extractor.\n"
     ]
    },
    {
     "name": "stdout",
     "output_type": "stream",
     "text": [
      "[generic] watch?v=video(video: Downloading webpage\n",
      "[generic] watch?v=video(video: Extracting information\n"
     ]
    },
    {
     "name": "stderr",
     "output_type": "stream",
     "text": [
      "ERROR: Unsupported URL: https://www.youtube.com/watch?v=video(video\n"
     ]
    },
    {
     "name": "stdout",
     "output_type": "stream",
     "text": [
      "[generic] Society']): Requesting header\n",
      "[redirect] Following redirect to https://www.youtube.com/watch?v=video(video\n",
      "[generic] watch?v=video(video: Requesting header\n"
     ]
    },
    {
     "name": "stderr",
     "output_type": "stream",
     "text": [
      "WARNING: Falling back on generic information extractor.\n"
     ]
    },
    {
     "name": "stdout",
     "output_type": "stream",
     "text": [
      "[generic] watch?v=video(video: Downloading webpage\n",
      "[generic] watch?v=video(video: Extracting information\n"
     ]
    },
    {
     "name": "stderr",
     "output_type": "stream",
     "text": [
      "ERROR: Unsupported URL: https://www.youtube.com/watch?v=video(video\n"
     ]
    },
    {
     "name": "stdout",
     "output_type": "stream",
     "text": [
      "[generic] Society']): Requesting header\n",
      "[redirect] Following redirect to https://www.youtube.com/watch?v=video(video\n",
      "[generic] watch?v=video(video: Requesting header\n"
     ]
    },
    {
     "name": "stderr",
     "output_type": "stream",
     "text": [
      "WARNING: Falling back on generic information extractor.\n"
     ]
    },
    {
     "name": "stdout",
     "output_type": "stream",
     "text": [
      "[generic] watch?v=video(video: Downloading webpage\n",
      "[generic] watch?v=video(video: Extracting information\n"
     ]
    },
    {
     "name": "stderr",
     "output_type": "stream",
     "text": [
      "ERROR: Unsupported URL: https://www.youtube.com/watch?v=video(video\n"
     ]
    },
    {
     "name": "stdout",
     "output_type": "stream",
     "text": [
      "[generic] Society']): Requesting header\n",
      "[redirect] Following redirect to https://www.youtube.com/watch?v=video(video\n",
      "[generic] watch?v=video(video: Requesting header\n"
     ]
    },
    {
     "name": "stderr",
     "output_type": "stream",
     "text": [
      "WARNING: Falling back on generic information extractor.\n"
     ]
    },
    {
     "name": "stdout",
     "output_type": "stream",
     "text": [
      "[generic] watch?v=video(video: Downloading webpage\n",
      "[generic] watch?v=video(video: Extracting information\n"
     ]
    },
    {
     "name": "stderr",
     "output_type": "stream",
     "text": [
      "ERROR: Unsupported URL: https://www.youtube.com/watch?v=video(video\n"
     ]
    },
    {
     "name": "stdout",
     "output_type": "stream",
     "text": [
      "[generic] Society']): Requesting header\n",
      "[redirect] Following redirect to https://www.youtube.com/watch?v=video(video\n",
      "[generic] watch?v=video(video: Requesting header\n"
     ]
    },
    {
     "name": "stderr",
     "output_type": "stream",
     "text": [
      "WARNING: Falling back on generic information extractor.\n"
     ]
    },
    {
     "name": "stdout",
     "output_type": "stream",
     "text": [
      "[generic] watch?v=video(video: Downloading webpage\n",
      "[generic] watch?v=video(video: Extracting information\n"
     ]
    },
    {
     "name": "stderr",
     "output_type": "stream",
     "text": [
      "ERROR: Unsupported URL: https://www.youtube.com/watch?v=video(video\n"
     ]
    },
    {
     "name": "stdout",
     "output_type": "stream",
     "text": [
      "[generic] Society']): Requesting header\n",
      "[redirect] Following redirect to https://www.youtube.com/watch?v=video(video\n",
      "[generic] watch?v=video(video: Requesting header\n"
     ]
    },
    {
     "name": "stderr",
     "output_type": "stream",
     "text": [
      "WARNING: Falling back on generic information extractor.\n"
     ]
    },
    {
     "name": "stdout",
     "output_type": "stream",
     "text": [
      "[generic] watch?v=video(video: Downloading webpage\n",
      "[generic] watch?v=video(video: Extracting information\n"
     ]
    },
    {
     "name": "stderr",
     "output_type": "stream",
     "text": [
      "ERROR: Unsupported URL: https://www.youtube.com/watch?v=video(video\n"
     ]
    },
    {
     "name": "stdout",
     "output_type": "stream",
     "text": [
      "[generic] Society']): Requesting header\n",
      "[redirect] Following redirect to https://www.youtube.com/watch?v=video(video\n",
      "[generic] watch?v=video(video: Requesting header\n"
     ]
    },
    {
     "name": "stderr",
     "output_type": "stream",
     "text": [
      "WARNING: Falling back on generic information extractor.\n"
     ]
    },
    {
     "name": "stdout",
     "output_type": "stream",
     "text": [
      "[generic] watch?v=video(video: Downloading webpage\n",
      "[generic] watch?v=video(video: Extracting information\n"
     ]
    },
    {
     "name": "stderr",
     "output_type": "stream",
     "text": [
      "ERROR: Unsupported URL: https://www.youtube.com/watch?v=video(video\n"
     ]
    },
    {
     "name": "stdout",
     "output_type": "stream",
     "text": [
      "[generic] Society']): Requesting header\n",
      "[redirect] Following redirect to https://www.youtube.com/watch?v=video(video\n",
      "[generic] watch?v=video(video: Requesting header\n"
     ]
    },
    {
     "name": "stderr",
     "output_type": "stream",
     "text": [
      "WARNING: Falling back on generic information extractor.\n"
     ]
    },
    {
     "name": "stdout",
     "output_type": "stream",
     "text": [
      "[generic] watch?v=video(video: Downloading webpage\n",
      "[generic] watch?v=video(video: Extracting information\n"
     ]
    },
    {
     "name": "stderr",
     "output_type": "stream",
     "text": [
      "ERROR: Unsupported URL: https://www.youtube.com/watch?v=video(video\n"
     ]
    },
    {
     "name": "stdout",
     "output_type": "stream",
     "text": [
      "[generic] Society']): Requesting header\n",
      "[redirect] Following redirect to https://www.youtube.com/watch?v=video(video\n",
      "[generic] watch?v=video(video: Requesting header\n"
     ]
    },
    {
     "name": "stderr",
     "output_type": "stream",
     "text": [
      "WARNING: Falling back on generic information extractor.\n"
     ]
    },
    {
     "name": "stdout",
     "output_type": "stream",
     "text": [
      "[generic] watch?v=video(video: Downloading webpage\n",
      "[generic] watch?v=video(video: Extracting information\n"
     ]
    },
    {
     "name": "stderr",
     "output_type": "stream",
     "text": [
      "ERROR: Unsupported URL: https://www.youtube.com/watch?v=video(video\n"
     ]
    },
    {
     "name": "stdout",
     "output_type": "stream",
     "text": [
      "[generic] Society']): Requesting header\n",
      "[redirect] Following redirect to https://www.youtube.com/watch?v=video(video\n",
      "[generic] watch?v=video(video: Requesting header\n"
     ]
    },
    {
     "name": "stderr",
     "output_type": "stream",
     "text": [
      "WARNING: Falling back on generic information extractor.\n"
     ]
    },
    {
     "name": "stdout",
     "output_type": "stream",
     "text": [
      "[generic] watch?v=video(video: Downloading webpage\n",
      "[generic] watch?v=video(video: Extracting information\n"
     ]
    },
    {
     "name": "stderr",
     "output_type": "stream",
     "text": [
      "ERROR: Unsupported URL: https://www.youtube.com/watch?v=video(video\n"
     ]
    },
    {
     "name": "stdout",
     "output_type": "stream",
     "text": [
      "[generic] Society']): Requesting header\n",
      "[redirect] Following redirect to https://www.youtube.com/watch?v=video(video\n",
      "[generic] watch?v=video(video: Requesting header\n"
     ]
    },
    {
     "name": "stderr",
     "output_type": "stream",
     "text": [
      "WARNING: Could not send HEAD request to https://www.youtube.com/watch?v=video(video: HTTP Error 404: Not Found\n"
     ]
    },
    {
     "name": "stdout",
     "output_type": "stream",
     "text": [
      "[generic] watch?v=video(video: Downloading webpage\n"
     ]
    },
    {
     "name": "stderr",
     "output_type": "stream",
     "text": [
      "WARNING: Falling back on generic information extractor.\n"
     ]
    },
    {
     "name": "stdout",
     "output_type": "stream",
     "text": [
      "[generic] watch?v=video(video: Extracting information\n"
     ]
    },
    {
     "name": "stderr",
     "output_type": "stream",
     "text": [
      "ERROR: Unsupported URL: https://www.youtube.com/watch?v=video(video\n"
     ]
    },
    {
     "name": "stdout",
     "output_type": "stream",
     "text": [
      "[generic] Society']): Requesting header\n",
      "[redirect] Following redirect to https://www.youtube.com/watch?v=video(video\n",
      "[generic] watch?v=video(video: Requesting header\n"
     ]
    },
    {
     "name": "stderr",
     "output_type": "stream",
     "text": [
      "WARNING: Falling back on generic information extractor.\n"
     ]
    },
    {
     "name": "stdout",
     "output_type": "stream",
     "text": [
      "[generic] watch?v=video(video: Downloading webpage\n",
      "[generic] watch?v=video(video: Extracting information\n"
     ]
    },
    {
     "name": "stderr",
     "output_type": "stream",
     "text": [
      "ERROR: Unsupported URL: https://www.youtube.com/watch?v=video(video\n"
     ]
    },
    {
     "name": "stdout",
     "output_type": "stream",
     "text": [
      "[generic] Society']): Requesting header\n",
      "[redirect] Following redirect to https://www.youtube.com/watch?v=video(video\n",
      "[generic] watch?v=video(video: Requesting header\n"
     ]
    },
    {
     "name": "stderr",
     "output_type": "stream",
     "text": [
      "WARNING: Falling back on generic information extractor.\n"
     ]
    },
    {
     "name": "stdout",
     "output_type": "stream",
     "text": [
      "[generic] watch?v=video(video: Downloading webpage\n",
      "[generic] watch?v=video(video: Extracting information\n"
     ]
    },
    {
     "name": "stderr",
     "output_type": "stream",
     "text": [
      "ERROR: Unsupported URL: https://www.youtube.com/watch?v=video(video\n"
     ]
    },
    {
     "name": "stdout",
     "output_type": "stream",
     "text": [
      "[generic] Society']): Requesting header\n",
      "[redirect] Following redirect to https://www.youtube.com/watch?v=video(video\n",
      "[generic] watch?v=video(video: Requesting header\n"
     ]
    },
    {
     "name": "stderr",
     "output_type": "stream",
     "text": [
      "WARNING: Falling back on generic information extractor.\n"
     ]
    },
    {
     "name": "stdout",
     "output_type": "stream",
     "text": [
      "[generic] watch?v=video(video: Downloading webpage\n",
      "[generic] watch?v=video(video: Extracting information\n"
     ]
    },
    {
     "name": "stderr",
     "output_type": "stream",
     "text": [
      "ERROR: Unsupported URL: https://www.youtube.com/watch?v=video(video\n"
     ]
    },
    {
     "name": "stdout",
     "output_type": "stream",
     "text": [
      "[generic] Society']): Requesting header\n",
      "[redirect] Following redirect to https://www.youtube.com/watch?v=video(video\n",
      "[generic] watch?v=video(video: Requesting header\n"
     ]
    },
    {
     "name": "stderr",
     "output_type": "stream",
     "text": [
      "WARNING: Falling back on generic information extractor.\n"
     ]
    },
    {
     "name": "stdout",
     "output_type": "stream",
     "text": [
      "[generic] watch?v=video(video: Downloading webpage\n",
      "[generic] watch?v=video(video: Extracting information\n"
     ]
    },
    {
     "name": "stderr",
     "output_type": "stream",
     "text": [
      "ERROR: Unsupported URL: https://www.youtube.com/watch?v=video(video\n"
     ]
    },
    {
     "name": "stdout",
     "output_type": "stream",
     "text": [
      "[generic] Society']): Requesting header\n",
      "[redirect] Following redirect to https://www.youtube.com/watch?v=video(video\n",
      "[generic] watch?v=video(video: Requesting header\n"
     ]
    },
    {
     "name": "stderr",
     "output_type": "stream",
     "text": [
      "WARNING: Falling back on generic information extractor.\n"
     ]
    },
    {
     "name": "stdout",
     "output_type": "stream",
     "text": [
      "[generic] watch?v=video(video: Downloading webpage\n",
      "[generic] watch?v=video(video: Extracting information\n"
     ]
    },
    {
     "name": "stderr",
     "output_type": "stream",
     "text": [
      "ERROR: Unsupported URL: https://www.youtube.com/watch?v=video(video\n"
     ]
    },
    {
     "name": "stdout",
     "output_type": "stream",
     "text": [
      "[generic] Society']): Requesting header\n",
      "[redirect] Following redirect to https://www.youtube.com/watch?v=video(video\n",
      "[generic] watch?v=video(video: Requesting header\n"
     ]
    },
    {
     "name": "stderr",
     "output_type": "stream",
     "text": [
      "WARNING: Falling back on generic information extractor.\n"
     ]
    },
    {
     "name": "stdout",
     "output_type": "stream",
     "text": [
      "[generic] watch?v=video(video: Downloading webpage\n",
      "[generic] watch?v=video(video: Extracting information\n"
     ]
    },
    {
     "name": "stderr",
     "output_type": "stream",
     "text": [
      "ERROR: Unsupported URL: https://www.youtube.com/watch?v=video(video\n"
     ]
    },
    {
     "name": "stdout",
     "output_type": "stream",
     "text": [
      "[generic] Music']): Requesting header\n",
      "[redirect] Following redirect to https://www.youtube.com/watch?v=video(video\n",
      "[generic] watch?v=video(video: Requesting header\n"
     ]
    },
    {
     "name": "stderr",
     "output_type": "stream",
     "text": [
      "WARNING: Falling back on generic information extractor.\n"
     ]
    },
    {
     "name": "stdout",
     "output_type": "stream",
     "text": [
      "[generic] watch?v=video(video: Downloading webpage\n",
      "[generic] watch?v=video(video: Extracting information\n"
     ]
    },
    {
     "name": "stderr",
     "output_type": "stream",
     "text": [
      "ERROR: Unsupported URL: https://www.youtube.com/watch?v=video(video\n"
     ]
    },
    {
     "name": "stdout",
     "output_type": "stream",
     "text": [
      "[generic] Society']): Requesting header\n",
      "[redirect] Following redirect to https://www.youtube.com/watch?v=video(video\n",
      "[generic] watch?v=video(video: Requesting header\n"
     ]
    },
    {
     "name": "stderr",
     "output_type": "stream",
     "text": [
      "WARNING: Falling back on generic information extractor.\n"
     ]
    },
    {
     "name": "stdout",
     "output_type": "stream",
     "text": [
      "[generic] watch?v=video(video: Downloading webpage\n",
      "[generic] watch?v=video(video: Extracting information\n"
     ]
    },
    {
     "name": "stderr",
     "output_type": "stream",
     "text": [
      "ERROR: Unsupported URL: https://www.youtube.com/watch?v=video(video\n"
     ]
    },
    {
     "name": "stdout",
     "output_type": "stream",
     "text": [
      "[generic] Society']): Requesting header\n",
      "[redirect] Following redirect to https://www.youtube.com/watch?v=video(video\n",
      "[generic] watch?v=video(video: Requesting header\n"
     ]
    },
    {
     "name": "stderr",
     "output_type": "stream",
     "text": [
      "WARNING: Falling back on generic information extractor.\n"
     ]
    },
    {
     "name": "stdout",
     "output_type": "stream",
     "text": [
      "[generic] watch?v=video(video: Downloading webpage\n",
      "[generic] watch?v=video(video: Extracting information\n"
     ]
    },
    {
     "name": "stderr",
     "output_type": "stream",
     "text": [
      "ERROR: Unsupported URL: https://www.youtube.com/watch?v=video(video\n"
     ]
    },
    {
     "name": "stdout",
     "output_type": "stream",
     "text": [
      "[generic] Society']): Requesting header\n",
      "[redirect] Following redirect to https://www.youtube.com/watch?v=video(video\n",
      "[generic] watch?v=video(video: Requesting header\n"
     ]
    },
    {
     "name": "stderr",
     "output_type": "stream",
     "text": [
      "WARNING: Falling back on generic information extractor.\n"
     ]
    },
    {
     "name": "stdout",
     "output_type": "stream",
     "text": [
      "[generic] watch?v=video(video: Downloading webpage\n",
      "[generic] watch?v=video(video: Extracting information\n"
     ]
    },
    {
     "name": "stderr",
     "output_type": "stream",
     "text": [
      "ERROR: Unsupported URL: https://www.youtube.com/watch?v=video(video\n"
     ]
    },
    {
     "name": "stdout",
     "output_type": "stream",
     "text": [
      "[generic] Society']): Requesting header\n",
      "[redirect] Following redirect to https://www.youtube.com/watch?v=video(video\n",
      "[generic] watch?v=video(video: Requesting header\n"
     ]
    },
    {
     "name": "stderr",
     "output_type": "stream",
     "text": [
      "WARNING: Falling back on generic information extractor.\n"
     ]
    },
    {
     "name": "stdout",
     "output_type": "stream",
     "text": [
      "[generic] watch?v=video(video: Downloading webpage\n",
      "[generic] watch?v=video(video: Extracting information\n"
     ]
    },
    {
     "name": "stderr",
     "output_type": "stream",
     "text": [
      "ERROR: Unsupported URL: https://www.youtube.com/watch?v=video(video\n"
     ]
    },
    {
     "name": "stdout",
     "output_type": "stream",
     "text": [
      "[generic] Society']): Requesting header\n",
      "[redirect] Following redirect to https://www.youtube.com/watch?v=video(video\n",
      "[generic] watch?v=video(video: Requesting header\n"
     ]
    },
    {
     "name": "stderr",
     "output_type": "stream",
     "text": [
      "WARNING: Falling back on generic information extractor.\n"
     ]
    },
    {
     "name": "stdout",
     "output_type": "stream",
     "text": [
      "[generic] watch?v=video(video: Downloading webpage\n",
      "[generic] watch?v=video(video: Extracting information\n"
     ]
    },
    {
     "name": "stderr",
     "output_type": "stream",
     "text": [
      "ERROR: Unsupported URL: https://www.youtube.com/watch?v=video(video\n"
     ]
    },
    {
     "name": "stdout",
     "output_type": "stream",
     "text": [
      "[generic] Society']): Requesting header\n",
      "[redirect] Following redirect to https://www.youtube.com/watch?v=video(video\n",
      "[generic] watch?v=video(video: Requesting header\n"
     ]
    },
    {
     "name": "stderr",
     "output_type": "stream",
     "text": [
      "WARNING: Falling back on generic information extractor.\n"
     ]
    },
    {
     "name": "stdout",
     "output_type": "stream",
     "text": [
      "[generic] watch?v=video(video: Downloading webpage\n",
      "[generic] watch?v=video(video: Extracting information\n"
     ]
    },
    {
     "name": "stderr",
     "output_type": "stream",
     "text": [
      "ERROR: Unsupported URL: https://www.youtube.com/watch?v=video(video\n"
     ]
    },
    {
     "name": "stdout",
     "output_type": "stream",
     "text": [
      "[generic] Lifestyle_(sociology)']): Requesting header\n",
      "[redirect] Following redirect to https://www.youtube.com/watch?v=video(video\n",
      "[generic] watch?v=video(video: Requesting header\n"
     ]
    },
    {
     "name": "stderr",
     "output_type": "stream",
     "text": [
      "WARNING: Falling back on generic information extractor.\n"
     ]
    },
    {
     "name": "stdout",
     "output_type": "stream",
     "text": [
      "[generic] watch?v=video(video: Downloading webpage\n",
      "[generic] watch?v=video(video: Extracting information\n"
     ]
    },
    {
     "name": "stderr",
     "output_type": "stream",
     "text": [
      "ERROR: Unsupported URL: https://www.youtube.com/watch?v=video(video\n"
     ]
    },
    {
     "name": "stdout",
     "output_type": "stream",
     "text": [
      "[generic] Society']): Requesting header\n",
      "[redirect] Following redirect to https://www.youtube.com/watch?v=video(video\n",
      "[generic] watch?v=video(video: Requesting header\n"
     ]
    },
    {
     "name": "stderr",
     "output_type": "stream",
     "text": [
      "WARNING: Falling back on generic information extractor.\n"
     ]
    },
    {
     "name": "stdout",
     "output_type": "stream",
     "text": [
      "[generic] watch?v=video(video: Downloading webpage\n",
      "[generic] watch?v=video(video: Extracting information\n"
     ]
    },
    {
     "name": "stderr",
     "output_type": "stream",
     "text": [
      "ERROR: Unsupported URL: https://www.youtube.com/watch?v=video(video\n"
     ]
    },
    {
     "name": "stdout",
     "output_type": "stream",
     "text": [
      "[generic] Society']): Requesting header\n",
      "[redirect] Following redirect to https://www.youtube.com/watch?v=video(video\n",
      "[generic] watch?v=video(video: Requesting header\n"
     ]
    },
    {
     "name": "stderr",
     "output_type": "stream",
     "text": [
      "WARNING: Falling back on generic information extractor.\n"
     ]
    },
    {
     "name": "stdout",
     "output_type": "stream",
     "text": [
      "[generic] watch?v=video(video: Downloading webpage\n",
      "[generic] watch?v=video(video: Extracting information\n"
     ]
    },
    {
     "name": "stderr",
     "output_type": "stream",
     "text": [
      "ERROR: Unsupported URL: https://www.youtube.com/watch?v=video(video\n"
     ]
    },
    {
     "name": "stdout",
     "output_type": "stream",
     "text": [
      "[generic] Society']): Requesting header\n",
      "[redirect] Following redirect to https://www.youtube.com/watch?v=video(video\n",
      "[generic] watch?v=video(video: Requesting header\n"
     ]
    },
    {
     "name": "stderr",
     "output_type": "stream",
     "text": [
      "WARNING: Falling back on generic information extractor.\n"
     ]
    },
    {
     "name": "stdout",
     "output_type": "stream",
     "text": [
      "[generic] watch?v=video(video: Downloading webpage\n",
      "[generic] watch?v=video(video: Extracting information\n"
     ]
    },
    {
     "name": "stderr",
     "output_type": "stream",
     "text": [
      "ERROR: Unsupported URL: https://www.youtube.com/watch?v=video(video\n"
     ]
    },
    {
     "name": "stdout",
     "output_type": "stream",
     "text": [
      "[generic] Society']): Requesting header\n",
      "[redirect] Following redirect to https://www.youtube.com/watch?v=video(video\n",
      "[generic] watch?v=video(video: Requesting header\n"
     ]
    },
    {
     "name": "stderr",
     "output_type": "stream",
     "text": [
      "WARNING: Falling back on generic information extractor.\n"
     ]
    },
    {
     "name": "stdout",
     "output_type": "stream",
     "text": [
      "[generic] watch?v=video(video: Downloading webpage\n",
      "[generic] watch?v=video(video: Extracting information\n"
     ]
    },
    {
     "name": "stderr",
     "output_type": "stream",
     "text": [
      "ERROR: Unsupported URL: https://www.youtube.com/watch?v=video(video\n"
     ]
    },
    {
     "name": "stdout",
     "output_type": "stream",
     "text": [
      "[generic] Society']): Requesting header\n",
      "[redirect] Following redirect to https://www.youtube.com/watch?v=video(video\n",
      "[generic] watch?v=video(video: Requesting header\n"
     ]
    },
    {
     "name": "stderr",
     "output_type": "stream",
     "text": [
      "WARNING: Falling back on generic information extractor.\n"
     ]
    },
    {
     "name": "stdout",
     "output_type": "stream",
     "text": [
      "[generic] watch?v=video(video: Downloading webpage\n",
      "[generic] watch?v=video(video: Extracting information\n"
     ]
    },
    {
     "name": "stderr",
     "output_type": "stream",
     "text": [
      "ERROR: Unsupported URL: https://www.youtube.com/watch?v=video(video\n"
     ]
    },
    {
     "name": "stdout",
     "output_type": "stream",
     "text": [
      "[generic] Society']): Requesting header\n",
      "[redirect] Following redirect to https://www.youtube.com/watch?v=video(video\n",
      "[generic] watch?v=video(video: Requesting header\n"
     ]
    },
    {
     "name": "stderr",
     "output_type": "stream",
     "text": [
      "WARNING: Falling back on generic information extractor.\n"
     ]
    },
    {
     "name": "stdout",
     "output_type": "stream",
     "text": [
      "[generic] watch?v=video(video: Downloading webpage\n",
      "[generic] watch?v=video(video: Extracting information\n"
     ]
    },
    {
     "name": "stderr",
     "output_type": "stream",
     "text": [
      "ERROR: Unsupported URL: https://www.youtube.com/watch?v=video(video\n"
     ]
    },
    {
     "name": "stdout",
     "output_type": "stream",
     "text": [
      "[generic] Society']): Requesting header\n",
      "[redirect] Following redirect to https://www.youtube.com/watch?v=video(video\n",
      "[generic] watch?v=video(video: Requesting header\n"
     ]
    },
    {
     "name": "stderr",
     "output_type": "stream",
     "text": [
      "WARNING: Falling back on generic information extractor.\n"
     ]
    },
    {
     "name": "stdout",
     "output_type": "stream",
     "text": [
      "[generic] watch?v=video(video: Downloading webpage\n",
      "[generic] watch?v=video(video: Extracting information\n"
     ]
    },
    {
     "name": "stderr",
     "output_type": "stream",
     "text": [
      "ERROR: Unsupported URL: https://www.youtube.com/watch?v=video(video\n"
     ]
    },
    {
     "name": "stdout",
     "output_type": "stream",
     "text": [
      "[generic] Society']): Requesting header\n",
      "[redirect] Following redirect to https://www.youtube.com/watch?v=video(video\n",
      "[generic] watch?v=video(video: Requesting header\n"
     ]
    },
    {
     "name": "stderr",
     "output_type": "stream",
     "text": [
      "WARNING: Falling back on generic information extractor.\n"
     ]
    },
    {
     "name": "stdout",
     "output_type": "stream",
     "text": [
      "[generic] watch?v=video(video: Downloading webpage\n",
      "[generic] watch?v=video(video: Extracting information\n"
     ]
    },
    {
     "name": "stderr",
     "output_type": "stream",
     "text": [
      "ERROR: Unsupported URL: https://www.youtube.com/watch?v=video(video\n"
     ]
    },
    {
     "name": "stdout",
     "output_type": "stream",
     "text": [
      "[generic] Military']): Requesting header\n",
      "[redirect] Following redirect to https://www.youtube.com/watch?v=video(video\n",
      "[generic] watch?v=video(video: Requesting header\n"
     ]
    },
    {
     "name": "stderr",
     "output_type": "stream",
     "text": [
      "WARNING: Falling back on generic information extractor.\n"
     ]
    },
    {
     "name": "stdout",
     "output_type": "stream",
     "text": [
      "[generic] watch?v=video(video: Downloading webpage\n",
      "[generic] watch?v=video(video: Extracting information\n"
     ]
    },
    {
     "name": "stderr",
     "output_type": "stream",
     "text": [
      "ERROR: Unsupported URL: https://www.youtube.com/watch?v=video(video\n"
     ]
    },
    {
     "name": "stdout",
     "output_type": "stream",
     "text": [
      "[generic] Society']): Requesting header\n",
      "[redirect] Following redirect to https://www.youtube.com/watch?v=video(video\n",
      "[generic] watch?v=video(video: Requesting header\n"
     ]
    },
    {
     "name": "stderr",
     "output_type": "stream",
     "text": [
      "WARNING: Falling back on generic information extractor.\n"
     ]
    },
    {
     "name": "stdout",
     "output_type": "stream",
     "text": [
      "[generic] watch?v=video(video: Downloading webpage\n",
      "[generic] watch?v=video(video: Extracting information\n"
     ]
    },
    {
     "name": "stderr",
     "output_type": "stream",
     "text": [
      "ERROR: Unsupported URL: https://www.youtube.com/watch?v=video(video\n"
     ]
    },
    {
     "name": "stdout",
     "output_type": "stream",
     "text": [
      "[generic] Society']): Requesting header\n",
      "[redirect] Following redirect to https://www.youtube.com/watch?v=video(video\n",
      "[generic] watch?v=video(video: Requesting header\n"
     ]
    },
    {
     "name": "stderr",
     "output_type": "stream",
     "text": [
      "WARNING: Falling back on generic information extractor.\n"
     ]
    },
    {
     "name": "stdout",
     "output_type": "stream",
     "text": [
      "[generic] watch?v=video(video: Downloading webpage\n",
      "[generic] watch?v=video(video: Extracting information\n"
     ]
    },
    {
     "name": "stderr",
     "output_type": "stream",
     "text": [
      "ERROR: Unsupported URL: https://www.youtube.com/watch?v=video(video\n"
     ]
    },
    {
     "name": "stdout",
     "output_type": "stream",
     "text": [
      "[generic] Society']): Requesting header\n",
      "[redirect] Following redirect to https://www.youtube.com/watch?v=video(video\n",
      "[generic] watch?v=video(video: Requesting header\n"
     ]
    },
    {
     "name": "stderr",
     "output_type": "stream",
     "text": [
      "WARNING: Falling back on generic information extractor.\n"
     ]
    },
    {
     "name": "stdout",
     "output_type": "stream",
     "text": [
      "[generic] watch?v=video(video: Downloading webpage\n",
      "[generic] watch?v=video(video: Extracting information\n"
     ]
    },
    {
     "name": "stderr",
     "output_type": "stream",
     "text": [
      "ERROR: Unsupported URL: https://www.youtube.com/watch?v=video(video\n"
     ]
    },
    {
     "name": "stdout",
     "output_type": "stream",
     "text": [
      "[generic] Society']): Requesting header\n",
      "[redirect] Following redirect to https://www.youtube.com/watch?v=video(video\n",
      "[generic] watch?v=video(video: Requesting header\n"
     ]
    },
    {
     "name": "stderr",
     "output_type": "stream",
     "text": [
      "WARNING: Falling back on generic information extractor.\n"
     ]
    },
    {
     "name": "stdout",
     "output_type": "stream",
     "text": [
      "[generic] watch?v=video(video: Downloading webpage\n",
      "[generic] watch?v=video(video: Extracting information\n"
     ]
    },
    {
     "name": "stderr",
     "output_type": "stream",
     "text": [
      "ERROR: Unsupported URL: https://www.youtube.com/watch?v=video(video\n"
     ]
    },
    {
     "name": "stdout",
     "output_type": "stream",
     "text": [
      "[generic] Physical_fitness']): Requesting header\n",
      "[redirect] Following redirect to https://www.youtube.com/watch?v=video(video\n",
      "[generic] watch?v=video(video: Requesting header\n"
     ]
    },
    {
     "name": "stderr",
     "output_type": "stream",
     "text": [
      "WARNING: Falling back on generic information extractor.\n"
     ]
    },
    {
     "name": "stdout",
     "output_type": "stream",
     "text": [
      "[generic] watch?v=video(video: Downloading webpage\n",
      "[generic] watch?v=video(video: Extracting information\n"
     ]
    },
    {
     "name": "stderr",
     "output_type": "stream",
     "text": [
      "ERROR: Unsupported URL: https://www.youtube.com/watch?v=video(video\n"
     ]
    },
    {
     "name": "stdout",
     "output_type": "stream",
     "text": [
      "[generic] Society']): Requesting header\n",
      "[redirect] Following redirect to https://www.youtube.com/watch?v=video(video\n",
      "[generic] watch?v=video(video: Requesting header\n"
     ]
    },
    {
     "name": "stderr",
     "output_type": "stream",
     "text": [
      "WARNING: Falling back on generic information extractor.\n"
     ]
    },
    {
     "name": "stdout",
     "output_type": "stream",
     "text": [
      "[generic] watch?v=video(video: Downloading webpage\n",
      "[generic] watch?v=video(video: Extracting information\n"
     ]
    },
    {
     "name": "stderr",
     "output_type": "stream",
     "text": [
      "ERROR: Unsupported URL: https://www.youtube.com/watch?v=video(video\n"
     ]
    },
    {
     "name": "stdout",
     "output_type": "stream",
     "text": [
      "[generic] rooshv', video_channel_title='Roosh V', video_tags=['roosh', 'roosh v', 'rooshv', 'poland', 'polish girls', 'polish guys', 'poznan', 'polish people', 'poles', 'daryush', 'valizadeh', 'daryush valizadeh', 'daryush valizadeh is a man beast'], video_category_id='22', video_default_language='not set', video_duration='PT4M26S', video_view_count='95360', video_comment_count='323', video_likes_count='675', video_dislikes_count='142', video_topic_ids='not set', video_topic_categories='not set'): Requesting header\n",
      "[redirect] Following redirect to https://www.youtube.com/watch?v=video(video\n",
      "[generic] watch?v=video(video: Requesting header\n"
     ]
    },
    {
     "name": "stderr",
     "output_type": "stream",
     "text": [
      "WARNING: Falling back on generic information extractor.\n"
     ]
    },
    {
     "name": "stdout",
     "output_type": "stream",
     "text": [
      "[generic] watch?v=video(video: Downloading webpage\n",
      "[generic] watch?v=video(video: Extracting information\n"
     ]
    },
    {
     "name": "stderr",
     "output_type": "stream",
     "text": [
      "ERROR: Unsupported URL: https://www.youtube.com/watch?v=video(video\n"
     ]
    },
    {
     "name": "stdout",
     "output_type": "stream",
     "text": [
      "[generic] Music']): Requesting header\n",
      "[redirect] Following redirect to https://www.youtube.com/watch?v=video(video\n",
      "[generic] watch?v=video(video: Requesting header\n"
     ]
    },
    {
     "name": "stderr",
     "output_type": "stream",
     "text": [
      "WARNING: Falling back on generic information extractor.\n"
     ]
    },
    {
     "name": "stdout",
     "output_type": "stream",
     "text": [
      "[generic] watch?v=video(video: Downloading webpage\n",
      "[generic] watch?v=video(video: Extracting information\n"
     ]
    },
    {
     "name": "stderr",
     "output_type": "stream",
     "text": [
      "ERROR: Unsupported URL: https://www.youtube.com/watch?v=video(video\n"
     ]
    },
    {
     "name": "stdout",
     "output_type": "stream",
     "text": [
      "[generic] Music']): Requesting header\n",
      "[redirect] Following redirect to https://www.youtube.com/watch?v=video(video\n",
      "[generic] watch?v=video(video: Requesting header\n"
     ]
    },
    {
     "name": "stderr",
     "output_type": "stream",
     "text": [
      "WARNING: Falling back on generic information extractor.\n"
     ]
    },
    {
     "name": "stdout",
     "output_type": "stream",
     "text": [
      "[generic] watch?v=video(video: Downloading webpage\n",
      "[generic] watch?v=video(video: Extracting information\n"
     ]
    },
    {
     "name": "stderr",
     "output_type": "stream",
     "text": [
      "ERROR: Unsupported URL: https://www.youtube.com/watch?v=video(video\n"
     ]
    },
    {
     "name": "stdout",
     "output_type": "stream",
     "text": [
      "[generic] Lifestyle_(sociology)']): Requesting header\n",
      "[redirect] Following redirect to https://www.youtube.com/watch?v=video(video\n",
      "[generic] watch?v=video(video: Requesting header\n"
     ]
    },
    {
     "name": "stderr",
     "output_type": "stream",
     "text": [
      "WARNING: Falling back on generic information extractor.\n"
     ]
    },
    {
     "name": "stdout",
     "output_type": "stream",
     "text": [
      "[generic] watch?v=video(video: Downloading webpage\n",
      "[generic] watch?v=video(video: Extracting information\n"
     ]
    },
    {
     "name": "stderr",
     "output_type": "stream",
     "text": [
      "ERROR: Unsupported URL: https://www.youtube.com/watch?v=video(video\n"
     ]
    },
    {
     "name": "stdout",
     "output_type": "stream",
     "text": [
      "[generic] Lifestyle_(sociology)']): Requesting header\n",
      "[redirect] Following redirect to https://www.youtube.com/watch?v=video(video\n",
      "[generic] watch?v=video(video: Requesting header\n"
     ]
    },
    {
     "name": "stderr",
     "output_type": "stream",
     "text": [
      "WARNING: Falling back on generic information extractor.\n"
     ]
    },
    {
     "name": "stdout",
     "output_type": "stream",
     "text": [
      "[generic] watch?v=video(video: Downloading webpage\n",
      "[generic] watch?v=video(video: Extracting information\n"
     ]
    },
    {
     "name": "stderr",
     "output_type": "stream",
     "text": [
      "ERROR: Unsupported URL: https://www.youtube.com/watch?v=video(video\n"
     ]
    },
    {
     "name": "stdout",
     "output_type": "stream",
     "text": [
      "[generic] Health']): Requesting header\n",
      "[redirect] Following redirect to https://www.youtube.com/watch?v=video(video\n",
      "[generic] watch?v=video(video: Requesting header\n"
     ]
    },
    {
     "name": "stderr",
     "output_type": "stream",
     "text": [
      "WARNING: Falling back on generic information extractor.\n"
     ]
    },
    {
     "name": "stdout",
     "output_type": "stream",
     "text": [
      "[generic] watch?v=video(video: Downloading webpage\n",
      "[generic] watch?v=video(video: Extracting information\n"
     ]
    },
    {
     "name": "stderr",
     "output_type": "stream",
     "text": [
      "ERROR: Unsupported URL: https://www.youtube.com/watch?v=video(video\n"
     ]
    },
    {
     "name": "stdout",
     "output_type": "stream",
     "text": [
      "[generic] Music']): Requesting header\n",
      "[redirect] Following redirect to https://www.youtube.com/watch?v=video(video\n",
      "[generic] watch?v=video(video: Requesting header\n"
     ]
    },
    {
     "name": "stderr",
     "output_type": "stream",
     "text": [
      "WARNING: Falling back on generic information extractor.\n"
     ]
    },
    {
     "name": "stdout",
     "output_type": "stream",
     "text": [
      "[generic] watch?v=video(video: Downloading webpage\n",
      "[generic] watch?v=video(video: Extracting information\n"
     ]
    },
    {
     "name": "stderr",
     "output_type": "stream",
     "text": [
      "ERROR: Unsupported URL: https://www.youtube.com/watch?v=video(video\n"
     ]
    },
    {
     "name": "stdout",
     "output_type": "stream",
     "text": [
      "[generic] Society']): Requesting header\n",
      "[redirect] Following redirect to https://www.youtube.com/watch?v=video(video\n",
      "[generic] watch?v=video(video: Requesting header\n"
     ]
    },
    {
     "name": "stderr",
     "output_type": "stream",
     "text": [
      "WARNING: Falling back on generic information extractor.\n"
     ]
    },
    {
     "name": "stdout",
     "output_type": "stream",
     "text": [
      "[generic] watch?v=video(video: Downloading webpage\n",
      "[generic] watch?v=video(video: Extracting information\n"
     ]
    },
    {
     "name": "stderr",
     "output_type": "stream",
     "text": [
      "ERROR: Unsupported URL: https://www.youtube.com/watch?v=video(video\n"
     ]
    },
    {
     "name": "stdout",
     "output_type": "stream",
     "text": [
      "[generic] Entertainment']): Requesting header\n",
      "[redirect] Following redirect to https://www.youtube.com/watch?v=video(video\n",
      "[generic] watch?v=video(video: Requesting header\n"
     ]
    },
    {
     "name": "stderr",
     "output_type": "stream",
     "text": [
      "WARNING: Falling back on generic information extractor.\n"
     ]
    },
    {
     "name": "stdout",
     "output_type": "stream",
     "text": [
      "[generic] watch?v=video(video: Downloading webpage\n",
      "[generic] watch?v=video(video: Extracting information\n"
     ]
    },
    {
     "name": "stderr",
     "output_type": "stream",
     "text": [
      "ERROR: Unsupported URL: https://www.youtube.com/watch?v=video(video\n"
     ]
    },
    {
     "name": "stdout",
     "output_type": "stream",
     "text": [
      "[generic] Society']): Requesting header\n",
      "[redirect] Following redirect to https://www.youtube.com/watch?v=video(video\n",
      "[generic] watch?v=video(video: Requesting header\n"
     ]
    },
    {
     "name": "stderr",
     "output_type": "stream",
     "text": [
      "WARNING: Falling back on generic information extractor.\n"
     ]
    },
    {
     "name": "stdout",
     "output_type": "stream",
     "text": [
      "[generic] watch?v=video(video: Downloading webpage\n",
      "[generic] watch?v=video(video: Extracting information\n"
     ]
    },
    {
     "name": "stderr",
     "output_type": "stream",
     "text": [
      "ERROR: Unsupported URL: https://www.youtube.com/watch?v=video(video\n"
     ]
    },
    {
     "name": "stdout",
     "output_type": "stream",
     "text": [
      "[generic] Society']): Requesting header\n",
      "[redirect] Following redirect to https://www.youtube.com/watch?v=video(video\n",
      "[generic] watch?v=video(video: Requesting header\n"
     ]
    },
    {
     "name": "stderr",
     "output_type": "stream",
     "text": [
      "WARNING: Falling back on generic information extractor.\n"
     ]
    },
    {
     "name": "stdout",
     "output_type": "stream",
     "text": [
      "[generic] watch?v=video(video: Downloading webpage\n",
      "[generic] watch?v=video(video: Extracting information\n"
     ]
    },
    {
     "name": "stderr",
     "output_type": "stream",
     "text": [
      "ERROR: Unsupported URL: https://www.youtube.com/watch?v=video(video\n"
     ]
    },
    {
     "name": "stdout",
     "output_type": "stream",
     "text": [
      "[generic] Food']): Requesting header\n",
      "[redirect] Following redirect to https://www.youtube.com/watch?v=video(video\n",
      "[generic] watch?v=video(video: Requesting header\n"
     ]
    },
    {
     "name": "stderr",
     "output_type": "stream",
     "text": [
      "WARNING: Falling back on generic information extractor.\n"
     ]
    },
    {
     "name": "stdout",
     "output_type": "stream",
     "text": [
      "[generic] watch?v=video(video: Downloading webpage\n",
      "[generic] watch?v=video(video: Extracting information\n"
     ]
    },
    {
     "name": "stderr",
     "output_type": "stream",
     "text": [
      "ERROR: Unsupported URL: https://www.youtube.com/watch?v=video(video\n"
     ]
    },
    {
     "name": "stdout",
     "output_type": "stream",
     "text": [
      "[generic] Society']): Requesting header\n",
      "[redirect] Following redirect to https://www.youtube.com/watch?v=video(video\n",
      "[generic] watch?v=video(video: Requesting header\n"
     ]
    },
    {
     "name": "stderr",
     "output_type": "stream",
     "text": [
      "WARNING: Falling back on generic information extractor.\n"
     ]
    },
    {
     "name": "stdout",
     "output_type": "stream",
     "text": [
      "[generic] watch?v=video(video: Downloading webpage\n",
      "[generic] watch?v=video(video: Extracting information\n"
     ]
    },
    {
     "name": "stderr",
     "output_type": "stream",
     "text": [
      "ERROR: Unsupported URL: https://www.youtube.com/watch?v=video(video\n"
     ]
    },
    {
     "name": "stdout",
     "output_type": "stream",
     "text": [
      "[generic] Society']): Requesting header\n",
      "[redirect] Following redirect to https://www.youtube.com/watch?v=video(video\n",
      "[generic] watch?v=video(video: Requesting header\n"
     ]
    },
    {
     "name": "stderr",
     "output_type": "stream",
     "text": [
      "WARNING: Falling back on generic information extractor.\n"
     ]
    },
    {
     "name": "stdout",
     "output_type": "stream",
     "text": [
      "[generic] watch?v=video(video: Downloading webpage\n",
      "[generic] watch?v=video(video: Extracting information\n"
     ]
    },
    {
     "name": "stderr",
     "output_type": "stream",
     "text": [
      "ERROR: Unsupported URL: https://www.youtube.com/watch?v=video(video\n"
     ]
    },
    {
     "name": "stdout",
     "output_type": "stream",
     "text": [
      "[generic] Society']): Requesting header\n",
      "[redirect] Following redirect to https://www.youtube.com/watch?v=video(video\n",
      "[generic] watch?v=video(video: Requesting header\n"
     ]
    },
    {
     "name": "stderr",
     "output_type": "stream",
     "text": [
      "WARNING: Falling back on generic information extractor.\n"
     ]
    },
    {
     "name": "stdout",
     "output_type": "stream",
     "text": [
      "[generic] watch?v=video(video: Downloading webpage\n",
      "[generic] watch?v=video(video: Extracting information\n"
     ]
    },
    {
     "name": "stderr",
     "output_type": "stream",
     "text": [
      "ERROR: Unsupported URL: https://www.youtube.com/watch?v=video(video\n"
     ]
    },
    {
     "name": "stdout",
     "output_type": "stream",
     "text": [
      "[generic] Lifestyle_(sociology)']): Requesting header\n",
      "[redirect] Following redirect to https://www.youtube.com/watch?v=video(video\n",
      "[generic] watch?v=video(video: Requesting header\n"
     ]
    },
    {
     "name": "stderr",
     "output_type": "stream",
     "text": [
      "WARNING: Falling back on generic information extractor.\n"
     ]
    },
    {
     "name": "stdout",
     "output_type": "stream",
     "text": [
      "[generic] watch?v=video(video: Downloading webpage\n",
      "[generic] watch?v=video(video: Extracting information\n"
     ]
    },
    {
     "name": "stderr",
     "output_type": "stream",
     "text": [
      "ERROR: Unsupported URL: https://www.youtube.com/watch?v=video(video\n"
     ]
    },
    {
     "name": "stdout",
     "output_type": "stream",
     "text": [
      "[generic] Music']): Requesting header\n",
      "[redirect] Following redirect to https://www.youtube.com/watch?v=video(video\n",
      "[generic] watch?v=video(video: Requesting header\n"
     ]
    },
    {
     "name": "stderr",
     "output_type": "stream",
     "text": [
      "WARNING: Falling back on generic information extractor.\n"
     ]
    },
    {
     "name": "stdout",
     "output_type": "stream",
     "text": [
      "[generic] watch?v=video(video: Downloading webpage\n",
      "[generic] watch?v=video(video: Extracting information\n"
     ]
    },
    {
     "name": "stderr",
     "output_type": "stream",
     "text": [
      "ERROR: Unsupported URL: https://www.youtube.com/watch?v=video(video\n"
     ]
    },
    {
     "name": "stdout",
     "output_type": "stream",
     "text": [
      "[generic] Society']): Requesting header\n",
      "[redirect] Following redirect to https://www.youtube.com/watch?v=video(video\n",
      "[generic] watch?v=video(video: Requesting header\n"
     ]
    },
    {
     "name": "stderr",
     "output_type": "stream",
     "text": [
      "WARNING: Falling back on generic information extractor.\n"
     ]
    },
    {
     "name": "stdout",
     "output_type": "stream",
     "text": [
      "[generic] watch?v=video(video: Downloading webpage\n",
      "[generic] watch?v=video(video: Extracting information\n"
     ]
    },
    {
     "name": "stderr",
     "output_type": "stream",
     "text": [
      "ERROR: Unsupported URL: https://www.youtube.com/watch?v=video(video\n"
     ]
    },
    {
     "name": "stdout",
     "output_type": "stream",
     "text": [
      "[generic] Society']): Requesting header\n",
      "[redirect] Following redirect to https://www.youtube.com/watch?v=video(video\n",
      "[generic] watch?v=video(video: Requesting header\n"
     ]
    },
    {
     "name": "stderr",
     "output_type": "stream",
     "text": [
      "WARNING: Falling back on generic information extractor.\n"
     ]
    },
    {
     "name": "stdout",
     "output_type": "stream",
     "text": [
      "[generic] watch?v=video(video: Downloading webpage\n",
      "[generic] watch?v=video(video: Extracting information\n"
     ]
    },
    {
     "name": "stderr",
     "output_type": "stream",
     "text": [
      "ERROR: Unsupported URL: https://www.youtube.com/watch?v=video(video\n"
     ]
    },
    {
     "name": "stdout",
     "output_type": "stream",
     "text": [
      "[generic] Society']): Requesting header\n",
      "[redirect] Following redirect to https://www.youtube.com/watch?v=video(video\n",
      "[generic] watch?v=video(video: Requesting header\n"
     ]
    },
    {
     "name": "stderr",
     "output_type": "stream",
     "text": [
      "WARNING: Falling back on generic information extractor.\n"
     ]
    },
    {
     "name": "stdout",
     "output_type": "stream",
     "text": [
      "[generic] watch?v=video(video: Downloading webpage\n",
      "[generic] watch?v=video(video: Extracting information\n"
     ]
    },
    {
     "name": "stderr",
     "output_type": "stream",
     "text": [
      "ERROR: Unsupported URL: https://www.youtube.com/watch?v=video(video\n"
     ]
    },
    {
     "name": "stdout",
     "output_type": "stream",
     "text": [
      "[youtube:playlist] Downloading playlist UUJm5yR1KFcysl_0I3x-iReg - add --no-playlist to just download video video(video_id='tMDUl0jISfw', video_published='2014-10-14T14:02:31.000Z', channel_id='UC16j6EppP0K85CzYMduNCqw', video_title='Meet Your New Youtube Censors: Laci Green, Tyler Oakley, Shane Dawson, Kendall Rae', video_description='These four individuals played an active role in the witch hunt against Sam Pepper which resulted in the cancellation of his Youtube Partner status.\\n\\nMy first video on this issue which argues against mob censorship: \\nhttps://www.youtube.com/watch?v=eNz_3aDlrIg\\n\\nEverything you need to know about social justice warriors: \\nhttp://www.rooshv.com/what-is-a-social-justice-warrior-sjw\\n\\nLaci Green:\\nSam Green exposed - https://www.youtube.com/watch?v=r9qVaMhnJB8\n",
      "[youtube:playlist] UUJm5yR1KFcysl_0I3x-iReg: Downloading webpage\n",
      "[download] Downloading playlist: Uploads from lacigreen\n",
      "[youtube:playlist] UUJm5yR1KFcysl_0I3x-iReg: Downloading page #1\n",
      "[youtube:playlist] playlist Uploads from lacigreen: Downloading 179 videos\n",
      "[download] Downloading video 1 of 179\n",
      "[youtube] OqjrLJS3JrQ: Downloading webpage\n",
      "[youtube] OqjrLJS3JrQ: Downloading video info webpage\n",
      "[youtube] OqjrLJS3JrQ: Looking for automatic captions\n",
      "[info] Writing video subtitles to: MY PREGNANCY SCARE!-OqjrLJS3JrQ.en.vtt\n",
      "[download] Downloading video 2 of 179\n",
      "[youtube] -H8KVubVRNw: Downloading webpage\n",
      "[youtube] -H8KVubVRNw: Downloading video info webpage\n",
      "[youtube] -H8KVubVRNw: Looking for automatic captions\n",
      "[info] Writing video subtitles to: FURRY FETISHES!--H8KVubVRNw.en.vtt\n",
      "[download] Downloading video 3 of 179\n",
      "[youtube] lSDB6WyPfVI: Downloading webpage\n",
      "[youtube] lSDB6WyPfVI: Downloading video info webpage\n",
      "[youtube] lSDB6WyPfVI: Looking for automatic captions\n",
      "[info] Writing video subtitles to: IN DEFENSE OF ONLINE FEMINISM-lSDB6WyPfVI.en.vtt\n",
      "[download] Downloading video 4 of 179\n",
      "[youtube] 0EIBgMJFB8Y: Downloading webpage\n",
      "[youtube] 0EIBgMJFB8Y: Downloading video info webpage\n",
      "[youtube] 0EIBgMJFB8Y: Looking for automatic captions\n",
      "[info] Writing video subtitles to: SOCIAL MEDIA WAS A MISTAKE-0EIBgMJFB8Y.en.vtt\n",
      "[download] Downloading video 5 of 179\n",
      "[youtube] cOZ9dyrbl-U: Downloading webpage\n",
      "[youtube] cOZ9dyrbl-U: Downloading video info webpage\n",
      "[youtube] cOZ9dyrbl-U: Looking for automatic captions\n",
      "[info] Writing video subtitles to: THE CUCKENING!!-cOZ9dyrbl-U.en.vtt\n",
      "[download] Downloading video 6 of 179\n",
      "[youtube] r2Q_WEG7bTI: Downloading webpage\n",
      "[youtube] r2Q_WEG7bTI: Downloading video info webpage\n",
      "[youtube] r2Q_WEG7bTI: Looking for automatic captions\n",
      "[info] Writing video subtitles to: MY NEW AGE VAGEEN-r2Q_WEG7bTI.en.vtt\n",
      "[download] Downloading video 7 of 179\n",
      "[youtube] PwmUWpgQ3kU: Downloading webpage\n",
      "[youtube] PwmUWpgQ3kU: Downloading video info webpage\n",
      "[youtube] PwmUWpgQ3kU: Looking for automatic captions\n",
      "[info] Writing video subtitles to: OMG. I wrote a BOOK!!-PwmUWpgQ3kU.en.vtt\n",
      "[download] Downloading video 8 of 179\n",
      "[youtube] Q0lVtYgjglc: Downloading webpage\n",
      "[youtube] Q0lVtYgjglc: Downloading embed webpage\n",
      "[youtube] Q0lVtYgjglc: Refetching age-gated info webpage\n",
      "[youtube] Q0lVtYgjglc: Looking for automatic captions\n"
     ]
    },
    {
     "name": "stderr",
     "output_type": "stream",
     "text": [
      "WARNING: Couldn't find automatic captions for Q0lVtYgjglc\n"
     ]
    },
    {
     "name": "stdout",
     "output_type": "stream",
     "text": [
      "[download] Downloading video 9 of 179\n",
      "[youtube] 11VrbzYEJ9s: Downloading webpage\n",
      "[youtube] 11VrbzYEJ9s: Downloading video info webpage\n",
      "[youtube] 11VrbzYEJ9s: Looking for automatic captions\n",
      "[info] Writing video subtitles to: Is Drag OK For Kids-11VrbzYEJ9s.en.vtt\n",
      "[download] Downloading video 10 of 179\n",
      "[youtube] i5juyXjDnJ0: Downloading webpage\n",
      "[youtube] i5juyXjDnJ0: Downloading video info webpage\n",
      "[youtube] i5juyXjDnJ0: Looking for automatic captions\n",
      "[info] Writing video subtitles to: TOXIC MASCULINITY!-i5juyXjDnJ0.en.vtt\n",
      "[download] Downloading video 11 of 179\n",
      "[youtube] VHI22F8KfXA: Downloading webpage\n",
      "[youtube] VHI22F8KfXA: Downloading video info webpage\n",
      "[youtube] VHI22F8KfXA: Looking for automatic captions\n",
      "[info] Writing video subtitles to: wut do-VHI22F8KfXA.en.vtt\n",
      "[download] Downloading video 12 of 179\n",
      "[youtube] HPdVDjQ9BE8: Downloading webpage\n",
      "[youtube] HPdVDjQ9BE8: Downloading video info webpage\n",
      "[youtube] HPdVDjQ9BE8: Looking for automatic captions\n",
      "[info] Writing video subtitles to: HOW MANY FREAKIN GENDERS - part 2 (feminism & my take)-HPdVDjQ9BE8.en.vtt\n",
      "[download] Downloading video 13 of 179\n",
      "[youtube] t8S4hMjFTSI: Downloading webpage\n",
      "[youtube] t8S4hMjFTSI: Downloading video info webpage\n",
      "[youtube] t8S4hMjFTSI: Looking for automatic captions\n",
      "[info] Writing video subtitles to: HOW MANY FREAKIN GENDERS-t8S4hMjFTSI.en.vtt\n",
      "[download] Downloading video 14 of 179\n",
      "[youtube] AZGVlb9cwYg: Downloading webpage\n",
      "[youtube] AZGVlb9cwYg: Downloading video info webpage\n",
      "[youtube] AZGVlb9cwYg: Looking for automatic captions\n",
      "[info] Writing video subtitles to: Caught between extremes.  [Red Pill 2]-AZGVlb9cwYg.en.vtt\n",
      "[download] Downloading video 15 of 179\n",
      "[youtube] nQ1ga8yuM50: Downloading webpage\n",
      "[youtube] nQ1ga8yuM50: Downloading video info webpage\n",
      "[youtube] nQ1ga8yuM50: Looking for automatic captions\n",
      "[info] Writing video subtitles to: TAKING THE RED PILL-nQ1ga8yuM50.en.vtt\n",
      "[download] Downloading video 16 of 179\n",
      "[youtube] 7XA1HCU8MqA: Downloading webpage\n",
      "[youtube] 7XA1HCU8MqA: Downloading video info webpage\n",
      "[youtube] 7XA1HCU8MqA: Looking for automatic captions\n",
      "[info] Writing video subtitles to: LESBIAN STUFF! ft. Ingrid Nilsen-7XA1HCU8MqA.en.vtt\n",
      "[download] Downloading video 17 of 179\n",
      "[youtube] a-SCGntJD_k: Downloading webpage\n",
      "[youtube] a-SCGntJD_k: Downloading video info webpage\n",
      "[youtube] a-SCGntJD_k: Looking for automatic captions\n",
      "[info] Writing video subtitles to: LEAVING YOUTUBE!-a-SCGntJD_k.en.vtt\n",
      "[download] Downloading video 18 of 179\n",
      "[youtube] 5Y8jjdcxXHc: Downloading webpage\n",
      "[youtube] 5Y8jjdcxXHc: Downloading video info webpage\n",
      "[youtube] 5Y8jjdcxXHc: Looking for automatic captions\n",
      "[info] Writing video subtitles to: THE BIG ONE - HIV_AIDS-5Y8jjdcxXHc.en.vtt\n",
      "[download] Downloading video 19 of 179\n",
      "[youtube] DJXE8R1gByM: Downloading webpage\n",
      "[youtube] DJXE8R1gByM: Downloading video info webpage\n",
      "[youtube] DJXE8R1gByM: Looking for automatic captions\n",
      "[info] Writing video subtitles to: TRUMPOCALYPSE-DJXE8R1gByM.en.vtt\n",
      "[download] Downloading video 20 of 179\n",
      "[youtube] XWxDevsbPHw: Downloading webpage\n",
      "[youtube] XWxDevsbPHw: Downloading video info webpage\n",
      "[youtube] XWxDevsbPHw: Looking for automatic captions\n",
      "[info] Writing video subtitles to: MALE PLEASURE!-XWxDevsbPHw.en.vtt\n",
      "[download] Downloading video 21 of 179\n",
      "[youtube] 30hdiekok7A: Downloading webpage\n",
      "[youtube] 30hdiekok7A: Downloading video info webpage\n",
      "[youtube] 30hdiekok7A: Looking for automatic captions\n",
      "[info] Writing video subtitles to: I have HPV!-30hdiekok7A.en.vtt\n",
      "[download] Downloading video 22 of 179\n",
      "[youtube] S33oPN-ej7g: Downloading webpage\n",
      "[youtube] S33oPN-ej7g: Downloading video info webpage\n",
      "[youtube] S33oPN-ej7g: Looking for automatic captions\n",
      "[info] Writing video subtitles to: TRIGGER WARNING!! - A Defense-S33oPN-ej7g.en.vtt\n",
      "[download] Downloading video 23 of 179\n",
      "[youtube] m-TmwP3-rYo: Downloading webpage\n",
      "[youtube] m-TmwP3-rYo: Downloading video info webpage\n",
      "[youtube] m-TmwP3-rYo: Looking for automatic captions\n",
      "[info] Writing video subtitles to: IS CIRCUMCISION ANTI-MASTURBATION-m-TmwP3-rYo.en.vtt\n",
      "[download] Downloading video 24 of 179\n",
      "[youtube] KxZaU9_v1qE: Downloading webpage\n",
      "[youtube] KxZaU9_v1qE: Downloading video info webpage\n",
      "[youtube] KxZaU9_v1qE: Looking for automatic captions\n",
      "[info] Writing video subtitles to: Asking Congress About Sex Ed! (and other stuff)-KxZaU9_v1qE.en.vtt\n",
      "[download] Downloading video 25 of 179\n",
      "[youtube] y18AwEnYdP0: Downloading webpage\n",
      "[youtube] y18AwEnYdP0: Downloading video info webpage\n",
      "[youtube] y18AwEnYdP0: Looking for automatic captions\n",
      "[info] Writing video subtitles to: The Truth About Herpes!-y18AwEnYdP0.en.vtt\n",
      "[download] Downloading video 26 of 179\n",
      "[youtube] hUB0A-a1ROs: Downloading webpage\n",
      "[youtube] hUB0A-a1ROs: Downloading video info webpage\n",
      "[youtube] hUB0A-a1ROs: Looking for automatic captions\n",
      "[info] Writing video subtitles to: How To Help Her Orgasm-hUB0A-a1ROs.en.vtt\n",
      "[download] Downloading video 27 of 179\n",
      "[youtube] fR8OHlQ0E1E: Downloading webpage\n",
      "[youtube] fR8OHlQ0E1E: Downloading video info webpage\n",
      "[youtube] fR8OHlQ0E1E: Looking for automatic captions\n",
      "[info] Writing video subtitles to: BATHROOM PANIC!!!-fR8OHlQ0E1E.en.vtt\n",
      "[download] Downloading video 28 of 179\n",
      "[youtube] Z0SXaoZobd8: Downloading webpage\n",
      "[youtube] Z0SXaoZobd8: Downloading video info webpage\n",
      "[youtube] Z0SXaoZobd8: Looking for automatic captions\n",
      "[info] Writing video subtitles to: PAINFUL SEX-Z0SXaoZobd8.en.vtt\n",
      "[download] Downloading video 29 of 179\n",
      "[youtube] NOJz0HKITLY: Downloading webpage\n",
      "[youtube] NOJz0HKITLY: Downloading video info webpage\n",
      "[youtube] NOJz0HKITLY: Looking for automatic captions\n",
      "[info] Writing video subtitles to: FALSE RAPE ACCUSATIONS-NOJz0HKITLY.en.vtt\n",
      "[download] Downloading video 30 of 179\n",
      "[youtube] EBSG98qzaPc: Downloading webpage\n",
      "[youtube] EBSG98qzaPc: Downloading video info webpage\n",
      "[youtube] EBSG98qzaPc: Looking for automatic captions\n",
      "[info] Writing video subtitles to: Is Porn Addictive-EBSG98qzaPc.en.vtt\n",
      "[download] Downloading video 31 of 179\n",
      "[youtube] d4pfv0N8Cgs: Downloading webpage\n",
      "[youtube] d4pfv0N8Cgs: Downloading video info webpage\n",
      "[youtube] d4pfv0N8Cgs: Looking for automatic captions\n",
      "[info] Writing video subtitles to: DATING APPS-d4pfv0N8Cgs.en.vtt\n",
      "[download] Downloading video 32 of 179\n",
      "[youtube] 3oYo1e8WRnE: Downloading webpage\n",
      "[youtube] 3oYo1e8WRnE: Downloading video info webpage\n",
      "[youtube] 3oYo1e8WRnE: Looking for automatic captions\n",
      "[info] Writing video subtitles to: LUBE 101!!-3oYo1e8WRnE.en.vtt\n",
      "[download] Downloading video 33 of 179\n",
      "[youtube] xKRHwHS0elg: Downloading webpage\n",
      "[youtube] xKRHwHS0elg: Downloading video info webpage\n",
      "[youtube] xKRHwHS0elg: Looking for automatic captions\n",
      "[info] Writing video subtitles to: ABORTION UNDER ATTACK-xKRHwHS0elg.en.vtt\n",
      "[download] Downloading video 34 of 179\n",
      "[youtube] PQvZ_8UhGP8: Downloading webpage\n",
      "[youtube] PQvZ_8UhGP8: Downloading video info webpage\n",
      "[youtube] PQvZ_8UhGP8: Looking for automatic captions\n",
      "[info] Writing video subtitles to: HOW TO SELF CARE!-PQvZ_8UhGP8.en.vtt\n",
      "[download] Downloading video 35 of 179\n",
      "[youtube] 4IJyHxQH2eY: Downloading webpage\n",
      "[youtube] 4IJyHxQH2eY: Downloading video info webpage\n",
      "[youtube] 4IJyHxQH2eY: Looking for automatic captions\n",
      "[info] Writing video subtitles to: INTERSEX!-4IJyHxQH2eY.en.vtt\n",
      "[download] Downloading video 36 of 179\n",
      "[youtube] HYJS2zz3G-M: Downloading webpage\n",
      "[youtube] HYJS2zz3G-M: Downloading video info webpage\n",
      "[youtube] HYJS2zz3G-M: Looking for automatic captions\n",
      "[info] Writing video subtitles to: CONDOM TIPS FOR THE LADIES-HYJS2zz3G-M.en.vtt\n",
      "[download] Downloading video 37 of 179\n",
      "[youtube] gASR_ySC2rU: Downloading webpage\n",
      "[youtube] gASR_ySC2rU: Downloading video info webpage\n",
      "[youtube] gASR_ySC2rU: Looking for automatic captions\n",
      "[info] Writing video subtitles to: HAPPY BOOBIE GUIDE!-gASR_ySC2rU.en.vtt\n",
      "[download] Downloading video 38 of 179\n",
      "[youtube] ukJoVHfEBGs: Downloading webpage\n",
      "[youtube] ukJoVHfEBGs: Downloading video info webpage\n",
      "[youtube] ukJoVHfEBGs: Looking for automatic captions\n",
      "[info] Writing video subtitles to: IT'S JUST A JOKE.-ukJoVHfEBGs.en.vtt\n",
      "[download] Downloading video 39 of 179\n",
      "[youtube] pdCRE2gP66U: Downloading webpage\n",
      "[youtube] pdCRE2gP66U: Downloading video info webpage\n",
      "[youtube] pdCRE2gP66U: Looking for automatic captions\n",
      "[info] Writing video subtitles to: TALK CONDOMS TO ME BBY-pdCRE2gP66U.en.vtt\n"
     ]
    },
    {
     "name": "stdout",
     "output_type": "stream",
     "text": [
      "[download] Downloading video 40 of 179\n",
      "[youtube] VH8ymwaS0BY: Downloading webpage\n",
      "[youtube] VH8ymwaS0BY: Downloading embed webpage\n",
      "[youtube] VH8ymwaS0BY: Refetching age-gated info webpage\n",
      "[youtube] VH8ymwaS0BY: Looking for automatic captions\n"
     ]
    },
    {
     "name": "stderr",
     "output_type": "stream",
     "text": [
      "WARNING: Couldn't find automatic captions for VH8ymwaS0BY\n"
     ]
    },
    {
     "name": "stdout",
     "output_type": "stream",
     "text": [
      "[download] Downloading video 41 of 179\n",
      "[youtube] YjMKFALIN3k: Downloading webpage\n",
      "[youtube] YjMKFALIN3k: Downloading video info webpage\n",
      "[youtube] YjMKFALIN3k: Looking for automatic captions\n",
      "[info] Writing video subtitles to: PROSTITUTION = CRIME-YjMKFALIN3k.en.vtt\n",
      "[download] Downloading video 42 of 179\n",
      "[youtube] Fnh3NPqIZ2c: Downloading webpage\n",
      "[youtube] Fnh3NPqIZ2c: Downloading video info webpage\n",
      "[youtube] Fnh3NPqIZ2c: Looking for automatic captions\n",
      "[info] Writing video subtitles to: depression-Fnh3NPqIZ2c.en.vtt\n",
      "[download] Downloading video 43 of 179\n",
      "[youtube] LeMmkCBE37g: Downloading webpage\n",
      "[youtube] LeMmkCBE37g: Downloading video info webpage\n",
      "[youtube] LeMmkCBE37g: Looking for automatic captions\n",
      "[info] Writing video subtitles to: WAIT, IS MAKEUP SEXIST-LeMmkCBE37g.en.vtt\n",
      "[download] Downloading video 44 of 179\n",
      "[youtube] Xf2vfTRy_Ow: Downloading webpage\n",
      "[youtube] Xf2vfTRy_Ow: Downloading video info webpage\n",
      "[youtube] Xf2vfTRy_Ow: Looking for automatic captions\n",
      "[info] Writing video subtitles to: MASTURBATION!-Xf2vfTRy_Ow.en.vtt\n",
      "[download] Downloading video 45 of 179\n",
      "[youtube] h_hx30zOi9I: Downloading webpage\n",
      "[youtube] h_hx30zOi9I: Downloading video info webpage\n",
      "[youtube] h_hx30zOi9I: Looking for automatic captions\n",
      "[info] Writing video subtitles to: IS RACISM OVER YET-h_hx30zOi9I.en.vtt\n",
      "[download] Downloading video 46 of 179\n",
      "[youtube] yWiDi1vdZEs: Downloading webpage\n",
      "[youtube] yWiDi1vdZEs: Downloading video info webpage\n",
      "[youtube] yWiDi1vdZEs: Looking for automatic captions\n",
      "[info] Writing video subtitles to: MY LIFE BE LIKE...-yWiDi1vdZEs.en.vtt\n",
      "[download] Downloading video 47 of 179\n",
      "[youtube] 41J4XBjgOrw: Downloading webpage\n",
      "[youtube] 41J4XBjgOrw: Downloading video info webpage\n",
      "[youtube] 41J4XBjgOrw: Looking for automatic captions\n",
      "[info] Writing video subtitles to: DRESS CODE SEXISM-41J4XBjgOrw.en.vtt\n",
      "[download] Downloading video 48 of 179\n",
      "[youtube] OgX0rWRQHS4: Downloading webpage\n",
      "[youtube] OgX0rWRQHS4: Downloading video info webpage\n",
      "[youtube] OgX0rWRQHS4: Looking for automatic captions\n",
      "[info] Writing video subtitles to: #DearMe - You Are Good Enough-OgX0rWRQHS4.en.vtt\n",
      "[download] Downloading video 49 of 179\n",
      "[youtube] lqNEAMLjC2Q: Downloading webpage\n",
      "[youtube] lqNEAMLjC2Q: Downloading video info webpage\n",
      "[youtube] lqNEAMLjC2Q: Looking for automatic captions\n",
      "[info] Writing video subtitles to: BDSM 101!-lqNEAMLjC2Q.en.vtt\n",
      "[download] Downloading video 50 of 179\n",
      "[youtube] Br0fqr1jQKY: Downloading webpage\n",
      "[youtube] Br0fqr1jQKY: Downloading video info webpage\n",
      "[youtube] Br0fqr1jQKY: Looking for automatic captions\n",
      "[info] Writing video subtitles to: BORED WITH SEX-Br0fqr1jQKY.en.vtt\n",
      "[download] Downloading video 51 of 179\n",
      "[youtube] aa_WEcC1uBw: Downloading webpage\n",
      "[youtube] aa_WEcC1uBw: Downloading embed webpage\n",
      "[youtube] aa_WEcC1uBw: Refetching age-gated info webpage\n",
      "[youtube] aa_WEcC1uBw: Looking for automatic captions\n"
     ]
    },
    {
     "name": "stderr",
     "output_type": "stream",
     "text": [
      "WARNING: Couldn't find automatic captions for aa_WEcC1uBw\n"
     ]
    },
    {
     "name": "stdout",
     "output_type": "stream",
     "text": [
      "[download] Downloading video 52 of 179\n",
      "[youtube] pGFEDYrkDek: Downloading webpage\n",
      "[youtube] pGFEDYrkDek: Downloading video info webpage\n",
      "[youtube] pGFEDYrkDek: Looking for automatic captions\n",
      "[info] Writing video subtitles to: PRAY THE GAY AWAY - EXPOSED-pGFEDYrkDek.en.vtt\n",
      "[download] Downloading video 53 of 179\n",
      "[youtube] JajhN-WpWBk: Downloading webpage\n",
      "[youtube] JajhN-WpWBk: Downloading video info webpage\n",
      "[youtube] JajhN-WpWBk: Looking for automatic captions\n",
      "[info] Writing video subtitles to: SEX POSITIVE RESOLUTIONS!-JajhN-WpWBk.en.vtt\n",
      "[download] Downloading video 54 of 179\n",
      "[youtube] _Tje5iGw_Zg: Downloading webpage\n",
      "[youtube] _Tje5iGw_Zg: Downloading video info webpage\n",
      "[youtube] _Tje5iGw_Zg: Looking for automatic captions\n",
      "[info] Writing video subtitles to: Furries! Haters! Queefs-_Tje5iGw_Zg.en.vtt\n",
      "[download] Downloading video 55 of 179\n",
      "[youtube] VdD1eLzEgow: Downloading webpage\n",
      "[youtube] VdD1eLzEgow: Downloading video info webpage\n",
      "[youtube] VdD1eLzEgow: Looking for automatic captions\n",
      "[info] Writing video subtitles to: 10 SECRET VAGINA FACTS-VdD1eLzEgow.en.vtt\n",
      "[download] Downloading video 56 of 179\n",
      "[youtube] iwQBlNVqL-E: Downloading webpage\n",
      "[youtube] iwQBlNVqL-E: Downloading video info webpage\n",
      "[youtube] iwQBlNVqL-E: Looking for automatic captions\n",
      "[info] Writing video subtitles to: DOES SEXISM HURT MEN-iwQBlNVqL-E.en.vtt\n",
      "[download] Downloading video 57 of 179\n",
      "[youtube] D60yS55rEV4: Downloading webpage\n",
      "[youtube] D60yS55rEV4: Downloading video info webpage\n",
      "[youtube] D60yS55rEV4: Downloading js player vflFHLzOL\n"
     ]
    },
    {
     "name": "stderr",
     "output_type": "stream",
     "text": [
      "ERROR: Signature extraction failed: Traceback (most recent call last):\n",
      "  File \"/home/dim/.local/lib/python3.6/site-packages/youtube_dl/extractor/youtube.py\", line 1221, in _decrypt_signature\n",
      "    video_id, player_url, s\n",
      "  File \"/home/dim/.local/lib/python3.6/site-packages/youtube_dl/extractor/youtube.py\", line 1130, in _extract_signature_function\n",
      "    res = self._parse_sig_js(code)\n",
      "  File \"/home/dim/.local/lib/python3.6/site-packages/youtube_dl/extractor/youtube.py\", line 1193, in _parse_sig_js\n",
      "    jscode, 'Initial JS player signature function name', group='sig')\n",
      "  File \"/home/dim/.local/lib/python3.6/site-packages/youtube_dl/extractor/common.py\", line 978, in _search_regex\n",
      "    raise RegexNotFoundError('Unable to extract %s' % _name)\n",
      "youtube_dl.utils.RegexNotFoundError: Unable to extract Initial JS player signature function name; please report this issue on https://yt-dl.org/bug . Make sure you are using the latest version; see  https://yt-dl.org/update  on how to update. Be sure to call youtube-dl with the --verbose flag and include its complete output.\n",
      " (caused by RegexNotFoundError('Unable to extract Initial JS player signature function name; please report this issue on https://yt-dl.org/bug . Make sure you are using the latest version; see  https://yt-dl.org/update  on how to update. Be sure to call youtube-dl with the --verbose flag and include its complete output.',)); please report this issue on https://yt-dl.org/bug . Make sure you are using the latest version; see  https://yt-dl.org/update  on how to update. Be sure to call youtube-dl with the --verbose flag and include its complete output.\n"
     ]
    },
    {
     "name": "stdout",
     "output_type": "stream",
     "text": [
      "[generic] Society']): Requesting header\n",
      "[redirect] Following redirect to https://www.youtube.com/watch?v=video(video\n",
      "[generic] watch?v=video(video: Requesting header\n"
     ]
    },
    {
     "name": "stderr",
     "output_type": "stream",
     "text": [
      "WARNING: Falling back on generic information extractor.\n"
     ]
    },
    {
     "name": "stdout",
     "output_type": "stream",
     "text": [
      "[generic] watch?v=video(video: Downloading webpage\n",
      "[generic] watch?v=video(video: Extracting information\n"
     ]
    },
    {
     "name": "stderr",
     "output_type": "stream",
     "text": [
      "ERROR: Unsupported URL: https://www.youtube.com/watch?v=video(video\n"
     ]
    },
    {
     "name": "stdout",
     "output_type": "stream",
     "text": [
      "[generic] Music']): Requesting header\n",
      "[redirect] Following redirect to https://www.youtube.com/watch?v=video(video\n",
      "[generic] watch?v=video(video: Requesting header\n"
     ]
    },
    {
     "name": "stderr",
     "output_type": "stream",
     "text": [
      "WARNING: Falling back on generic information extractor.\n"
     ]
    },
    {
     "name": "stdout",
     "output_type": "stream",
     "text": [
      "[generic] watch?v=video(video: Downloading webpage\n",
      "[generic] watch?v=video(video: Extracting information\n"
     ]
    },
    {
     "name": "stderr",
     "output_type": "stream",
     "text": [
      "ERROR: Unsupported URL: https://www.youtube.com/watch?v=video(video\n"
     ]
    },
    {
     "name": "stdout",
     "output_type": "stream",
     "text": [
      "[generic] Lifestyle_(sociology)']): Requesting header\n",
      "[redirect] Following redirect to https://www.youtube.com/watch?v=video(video\n",
      "[generic] watch?v=video(video: Requesting header\n"
     ]
    },
    {
     "name": "stderr",
     "output_type": "stream",
     "text": [
      "WARNING: Falling back on generic information extractor.\n"
     ]
    },
    {
     "name": "stdout",
     "output_type": "stream",
     "text": [
      "[generic] watch?v=video(video: Downloading webpage\n",
      "[generic] watch?v=video(video: Extracting information\n"
     ]
    },
    {
     "name": "stderr",
     "output_type": "stream",
     "text": [
      "ERROR: Unsupported URL: https://www.youtube.com/watch?v=video(video\n"
     ]
    },
    {
     "name": "stdout",
     "output_type": "stream",
     "text": [
      "[generic] Lifestyle_(sociology)']): Requesting header\n",
      "[redirect] Following redirect to https://www.youtube.com/watch?v=video(video\n",
      "[generic] watch?v=video(video: Requesting header\n"
     ]
    },
    {
     "name": "stderr",
     "output_type": "stream",
     "text": [
      "WARNING: Falling back on generic information extractor.\n"
     ]
    },
    {
     "name": "stdout",
     "output_type": "stream",
     "text": [
      "[generic] watch?v=video(video: Downloading webpage\n",
      "[generic] watch?v=video(video: Extracting information\n"
     ]
    },
    {
     "name": "stderr",
     "output_type": "stream",
     "text": [
      "ERROR: Unsupported URL: https://www.youtube.com/watch?v=video(video\n"
     ]
    },
    {
     "name": "stdout",
     "output_type": "stream",
     "text": [
      "[generic] Society']): Requesting header\n",
      "[redirect] Following redirect to https://www.youtube.com/watch?v=video(video\n",
      "[generic] watch?v=video(video: Requesting header\n"
     ]
    },
    {
     "name": "stderr",
     "output_type": "stream",
     "text": [
      "WARNING: Falling back on generic information extractor.\n"
     ]
    },
    {
     "name": "stdout",
     "output_type": "stream",
     "text": [
      "[generic] watch?v=video(video: Downloading webpage\n",
      "[generic] watch?v=video(video: Extracting information\n"
     ]
    },
    {
     "name": "stderr",
     "output_type": "stream",
     "text": [
      "ERROR: Unsupported URL: https://www.youtube.com/watch?v=video(video\n"
     ]
    },
    {
     "name": "stdout",
     "output_type": "stream",
     "text": [
      "[generic] Lifestyle_(sociology)']): Requesting header\n",
      "[redirect] Following redirect to https://www.youtube.com/watch?v=video(video\n",
      "[generic] watch?v=video(video: Requesting header\n"
     ]
    },
    {
     "name": "stderr",
     "output_type": "stream",
     "text": [
      "WARNING: Falling back on generic information extractor.\n"
     ]
    },
    {
     "name": "stdout",
     "output_type": "stream",
     "text": [
      "[generic] watch?v=video(video: Downloading webpage\n",
      "[generic] watch?v=video(video: Extracting information\n"
     ]
    },
    {
     "name": "stderr",
     "output_type": "stream",
     "text": [
      "ERROR: Unsupported URL: https://www.youtube.com/watch?v=video(video\n"
     ]
    },
    {
     "name": "stdout",
     "output_type": "stream",
     "text": [
      "[generic] Lifestyle_(sociology)']): Requesting header\n",
      "[redirect] Following redirect to https://www.youtube.com/watch?v=video(video\n",
      "[generic] watch?v=video(video: Requesting header\n"
     ]
    },
    {
     "name": "stderr",
     "output_type": "stream",
     "text": [
      "WARNING: Falling back on generic information extractor.\n"
     ]
    },
    {
     "name": "stdout",
     "output_type": "stream",
     "text": [
      "[generic] watch?v=video(video: Downloading webpage\n",
      "[generic] watch?v=video(video: Extracting information\n"
     ]
    },
    {
     "name": "stderr",
     "output_type": "stream",
     "text": [
      "ERROR: Unsupported URL: https://www.youtube.com/watch?v=video(video\n"
     ]
    },
    {
     "name": "stdout",
     "output_type": "stream",
     "text": [
      "[generic] Lifestyle_(sociology)']): Requesting header\n",
      "[redirect] Following redirect to https://www.youtube.com/watch?v=video(video\n",
      "[generic] watch?v=video(video: Requesting header\n"
     ]
    },
    {
     "name": "stderr",
     "output_type": "stream",
     "text": [
      "WARNING: Falling back on generic information extractor.\n"
     ]
    },
    {
     "name": "stdout",
     "output_type": "stream",
     "text": [
      "[generic] watch?v=video(video: Downloading webpage\n",
      "[generic] watch?v=video(video: Extracting information\n"
     ]
    },
    {
     "name": "stderr",
     "output_type": "stream",
     "text": [
      "ERROR: Unsupported URL: https://www.youtube.com/watch?v=video(video\n"
     ]
    },
    {
     "name": "stdout",
     "output_type": "stream",
     "text": [
      "[generic] Physical_fitness']): Requesting header\n",
      "[redirect] Following redirect to https://www.youtube.com/watch?v=video(video\n",
      "[generic] watch?v=video(video: Requesting header\n"
     ]
    },
    {
     "name": "stderr",
     "output_type": "stream",
     "text": [
      "WARNING: Falling back on generic information extractor.\n"
     ]
    },
    {
     "name": "stdout",
     "output_type": "stream",
     "text": [
      "[generic] watch?v=video(video: Downloading webpage\n",
      "[generic] watch?v=video(video: Extracting information\n"
     ]
    },
    {
     "name": "stderr",
     "output_type": "stream",
     "text": [
      "ERROR: Unsupported URL: https://www.youtube.com/watch?v=video(video\n"
     ]
    },
    {
     "name": "stdout",
     "output_type": "stream",
     "text": [
      "[generic] Health']): Requesting header\n",
      "[redirect] Following redirect to https://www.youtube.com/watch?v=video(video\n",
      "[generic] watch?v=video(video: Requesting header\n"
     ]
    },
    {
     "name": "stderr",
     "output_type": "stream",
     "text": [
      "WARNING: Falling back on generic information extractor.\n"
     ]
    },
    {
     "name": "stdout",
     "output_type": "stream",
     "text": [
      "[generic] watch?v=video(video: Downloading webpage\n",
      "[generic] watch?v=video(video: Extracting information\n"
     ]
    },
    {
     "name": "stderr",
     "output_type": "stream",
     "text": [
      "ERROR: Unsupported URL: https://www.youtube.com/watch?v=video(video\n"
     ]
    },
    {
     "name": "stdout",
     "output_type": "stream",
     "text": [
      "[generic] Society']): Requesting header\n",
      "[redirect] Following redirect to https://www.youtube.com/watch?v=video(video\n",
      "[generic] watch?v=video(video: Requesting header\n"
     ]
    },
    {
     "name": "stderr",
     "output_type": "stream",
     "text": [
      "WARNING: Falling back on generic information extractor.\n"
     ]
    },
    {
     "name": "stdout",
     "output_type": "stream",
     "text": [
      "[generic] watch?v=video(video: Downloading webpage\n",
      "[generic] watch?v=video(video: Extracting information\n"
     ]
    },
    {
     "name": "stderr",
     "output_type": "stream",
     "text": [
      "ERROR: Unsupported URL: https://www.youtube.com/watch?v=video(video\n"
     ]
    },
    {
     "name": "stdout",
     "output_type": "stream",
     "text": [
      "[generic] Lifestyle_(sociology)']): Requesting header\n",
      "[redirect] Following redirect to https://www.youtube.com/watch?v=video(video\n",
      "[generic] watch?v=video(video: Requesting header\n"
     ]
    },
    {
     "name": "stderr",
     "output_type": "stream",
     "text": [
      "WARNING: Falling back on generic information extractor.\n"
     ]
    },
    {
     "name": "stdout",
     "output_type": "stream",
     "text": [
      "[generic] watch?v=video(video: Downloading webpage\n",
      "[generic] watch?v=video(video: Extracting information\n"
     ]
    },
    {
     "name": "stderr",
     "output_type": "stream",
     "text": [
      "ERROR: Unsupported URL: https://www.youtube.com/watch?v=video(video\n"
     ]
    },
    {
     "name": "stdout",
     "output_type": "stream",
     "text": [
      "[generic] Lifestyle_(sociology)']): Requesting header\n",
      "[redirect] Following redirect to https://www.youtube.com/watch?v=video(video\n",
      "[generic] watch?v=video(video: Requesting header\n"
     ]
    },
    {
     "name": "stderr",
     "output_type": "stream",
     "text": [
      "WARNING: Falling back on generic information extractor.\n"
     ]
    },
    {
     "name": "stdout",
     "output_type": "stream",
     "text": [
      "[generic] watch?v=video(video: Downloading webpage\n",
      "[generic] watch?v=video(video: Extracting information\n"
     ]
    },
    {
     "name": "stderr",
     "output_type": "stream",
     "text": [
      "ERROR: Unsupported URL: https://www.youtube.com/watch?v=video(video\n"
     ]
    },
    {
     "name": "stdout",
     "output_type": "stream",
     "text": [
      "[generic] Lifestyle_(sociology)']): Requesting header\n",
      "[redirect] Following redirect to https://www.youtube.com/watch?v=video(video\n",
      "[generic] watch?v=video(video: Requesting header\n"
     ]
    },
    {
     "name": "stderr",
     "output_type": "stream",
     "text": [
      "WARNING: Falling back on generic information extractor.\n"
     ]
    },
    {
     "name": "stdout",
     "output_type": "stream",
     "text": [
      "[generic] watch?v=video(video: Downloading webpage\n",
      "[generic] watch?v=video(video: Extracting information\n"
     ]
    },
    {
     "name": "stderr",
     "output_type": "stream",
     "text": [
      "ERROR: Unsupported URL: https://www.youtube.com/watch?v=video(video\n"
     ]
    },
    {
     "name": "stdout",
     "output_type": "stream",
     "text": [
      "[generic] Technology']): Requesting header\n",
      "[redirect] Following redirect to https://www.youtube.com/watch?v=video(video\n",
      "[generic] watch?v=video(video: Requesting header\n"
     ]
    },
    {
     "name": "stderr",
     "output_type": "stream",
     "text": [
      "WARNING: Falling back on generic information extractor.\n"
     ]
    },
    {
     "name": "stdout",
     "output_type": "stream",
     "text": [
      "[generic] watch?v=video(video: Downloading webpage\n",
      "[generic] watch?v=video(video: Extracting information\n"
     ]
    },
    {
     "name": "stderr",
     "output_type": "stream",
     "text": [
      "ERROR: Unsupported URL: https://www.youtube.com/watch?v=video(video\n"
     ]
    },
    {
     "name": "stdout",
     "output_type": "stream",
     "text": [
      "[generic] Society']): Requesting header\n",
      "[redirect] Following redirect to https://www.youtube.com/watch?v=video(video\n",
      "[generic] watch?v=video(video: Requesting header\n"
     ]
    },
    {
     "name": "stderr",
     "output_type": "stream",
     "text": [
      "WARNING: Falling back on generic information extractor.\n"
     ]
    },
    {
     "name": "stdout",
     "output_type": "stream",
     "text": [
      "[generic] watch?v=video(video: Downloading webpage\n",
      "[generic] watch?v=video(video: Extracting information\n"
     ]
    },
    {
     "name": "stderr",
     "output_type": "stream",
     "text": [
      "ERROR: Unsupported URL: https://www.youtube.com/watch?v=video(video\n"
     ]
    },
    {
     "name": "stdout",
     "output_type": "stream",
     "text": [
      "[generic] Society']): Requesting header\n",
      "[redirect] Following redirect to https://www.youtube.com/watch?v=video(video\n",
      "[generic] watch?v=video(video: Requesting header\n"
     ]
    },
    {
     "name": "stderr",
     "output_type": "stream",
     "text": [
      "WARNING: Falling back on generic information extractor.\n"
     ]
    },
    {
     "name": "stdout",
     "output_type": "stream",
     "text": [
      "[generic] watch?v=video(video: Downloading webpage\n",
      "[generic] watch?v=video(video: Extracting information\n"
     ]
    },
    {
     "name": "stderr",
     "output_type": "stream",
     "text": [
      "ERROR: Unsupported URL: https://www.youtube.com/watch?v=video(video\n"
     ]
    },
    {
     "name": "stdout",
     "output_type": "stream",
     "text": [
      "[generic] Society']): Requesting header\n",
      "[redirect] Following redirect to https://www.youtube.com/watch?v=video(video\n",
      "[generic] watch?v=video(video: Requesting header\n"
     ]
    },
    {
     "name": "stderr",
     "output_type": "stream",
     "text": [
      "WARNING: Falling back on generic information extractor.\n"
     ]
    },
    {
     "name": "stdout",
     "output_type": "stream",
     "text": [
      "[generic] watch?v=video(video: Downloading webpage\n",
      "[generic] watch?v=video(video: Extracting information\n"
     ]
    },
    {
     "name": "stderr",
     "output_type": "stream",
     "text": [
      "ERROR: Unsupported URL: https://www.youtube.com/watch?v=video(video\n"
     ]
    },
    {
     "name": "stdout",
     "output_type": "stream",
     "text": [
      "[generic] Society']): Requesting header\n",
      "[redirect] Following redirect to https://www.youtube.com/watch?v=video(video\n",
      "[generic] watch?v=video(video: Requesting header\n"
     ]
    },
    {
     "name": "stderr",
     "output_type": "stream",
     "text": [
      "WARNING: Falling back on generic information extractor.\n"
     ]
    },
    {
     "name": "stdout",
     "output_type": "stream",
     "text": [
      "[generic] watch?v=video(video: Downloading webpage\n",
      "[generic] watch?v=video(video: Extracting information\n"
     ]
    },
    {
     "name": "stderr",
     "output_type": "stream",
     "text": [
      "ERROR: Unsupported URL: https://www.youtube.com/watch?v=video(video\n"
     ]
    },
    {
     "name": "stdout",
     "output_type": "stream",
     "text": [
      "[generic] Health']): Requesting header\n",
      "[redirect] Following redirect to https://www.youtube.com/watch?v=video(video\n",
      "[generic] watch?v=video(video: Requesting header\n"
     ]
    },
    {
     "name": "stderr",
     "output_type": "stream",
     "text": [
      "WARNING: Falling back on generic information extractor.\n"
     ]
    },
    {
     "name": "stdout",
     "output_type": "stream",
     "text": [
      "[generic] watch?v=video(video: Downloading webpage\n",
      "[generic] watch?v=video(video: Extracting information\n"
     ]
    },
    {
     "name": "stderr",
     "output_type": "stream",
     "text": [
      "ERROR: Unsupported URL: https://www.youtube.com/watch?v=video(video\n"
     ]
    },
    {
     "name": "stdout",
     "output_type": "stream",
     "text": [
      "[generic] Society']): Requesting header\n",
      "[redirect] Following redirect to https://www.youtube.com/watch?v=video(video\n",
      "[generic] watch?v=video(video: Requesting header\n"
     ]
    },
    {
     "name": "stderr",
     "output_type": "stream",
     "text": [
      "WARNING: Falling back on generic information extractor.\n"
     ]
    },
    {
     "name": "stdout",
     "output_type": "stream",
     "text": [
      "[generic] watch?v=video(video: Downloading webpage\n",
      "[generic] watch?v=video(video: Extracting information\n"
     ]
    },
    {
     "name": "stderr",
     "output_type": "stream",
     "text": [
      "ERROR: Unsupported URL: https://www.youtube.com/watch?v=video(video\n"
     ]
    },
    {
     "name": "stdout",
     "output_type": "stream",
     "text": [
      "[generic] Entertainment']): Requesting header\n",
      "[redirect] Following redirect to https://www.youtube.com/watch?v=video(video\n",
      "[generic] watch?v=video(video: Requesting header\n"
     ]
    },
    {
     "name": "stderr",
     "output_type": "stream",
     "text": [
      "WARNING: Falling back on generic information extractor.\n"
     ]
    },
    {
     "name": "stdout",
     "output_type": "stream",
     "text": [
      "[generic] watch?v=video(video: Downloading webpage\n",
      "[generic] watch?v=video(video: Extracting information\n"
     ]
    },
    {
     "name": "stderr",
     "output_type": "stream",
     "text": [
      "ERROR: Unsupported URL: https://www.youtube.com/watch?v=video(video\n"
     ]
    },
    {
     "name": "stdout",
     "output_type": "stream",
     "text": [
      "[generic] Society']): Requesting header\n",
      "[redirect] Following redirect to https://www.youtube.com/watch?v=video(video\n",
      "[generic] watch?v=video(video: Requesting header\n"
     ]
    },
    {
     "name": "stderr",
     "output_type": "stream",
     "text": [
      "WARNING: Falling back on generic information extractor.\n"
     ]
    },
    {
     "name": "stdout",
     "output_type": "stream",
     "text": [
      "[generic] watch?v=video(video: Downloading webpage\n",
      "[generic] watch?v=video(video: Extracting information\n"
     ]
    },
    {
     "name": "stderr",
     "output_type": "stream",
     "text": [
      "ERROR: Unsupported URL: https://www.youtube.com/watch?v=video(video\n"
     ]
    },
    {
     "name": "stdout",
     "output_type": "stream",
     "text": [
      "[generic] Health']): Requesting header\n",
      "[redirect] Following redirect to https://www.youtube.com/watch?v=video(video\n",
      "[generic] watch?v=video(video: Requesting header\n"
     ]
    },
    {
     "name": "stderr",
     "output_type": "stream",
     "text": [
      "WARNING: Falling back on generic information extractor.\n"
     ]
    },
    {
     "name": "stdout",
     "output_type": "stream",
     "text": [
      "[generic] watch?v=video(video: Downloading webpage\n",
      "[generic] watch?v=video(video: Extracting information\n"
     ]
    },
    {
     "name": "stderr",
     "output_type": "stream",
     "text": [
      "ERROR: Unsupported URL: https://www.youtube.com/watch?v=video(video\n"
     ]
    },
    {
     "name": "stdout",
     "output_type": "stream",
     "text": [
      "[generic] Health']): Requesting header\n",
      "[redirect] Following redirect to https://www.youtube.com/watch?v=video(video\n",
      "[generic] watch?v=video(video: Requesting header\n"
     ]
    },
    {
     "name": "stderr",
     "output_type": "stream",
     "text": [
      "WARNING: Falling back on generic information extractor.\n"
     ]
    },
    {
     "name": "stdout",
     "output_type": "stream",
     "text": [
      "[generic] watch?v=video(video: Downloading webpage\n",
      "[generic] watch?v=video(video: Extracting information\n"
     ]
    },
    {
     "name": "stderr",
     "output_type": "stream",
     "text": [
      "ERROR: Unsupported URL: https://www.youtube.com/watch?v=video(video\n"
     ]
    },
    {
     "name": "stdout",
     "output_type": "stream",
     "text": [
      "[generic] Lifestyle_(sociology)']): Requesting header\n",
      "[redirect] Following redirect to https://www.youtube.com/watch?v=video(video\n",
      "[generic] watch?v=video(video: Requesting header\n"
     ]
    },
    {
     "name": "stderr",
     "output_type": "stream",
     "text": [
      "WARNING: Falling back on generic information extractor.\n"
     ]
    },
    {
     "name": "stdout",
     "output_type": "stream",
     "text": [
      "[generic] watch?v=video(video: Downloading webpage\n",
      "[generic] watch?v=video(video: Extracting information\n"
     ]
    },
    {
     "name": "stderr",
     "output_type": "stream",
     "text": [
      "ERROR: Unsupported URL: https://www.youtube.com/watch?v=video(video\n"
     ]
    },
    {
     "name": "stdout",
     "output_type": "stream",
     "text": [
      "[generic] Entertainment']): Requesting header\n",
      "[redirect] Following redirect to https://www.youtube.com/watch?v=video(video\n",
      "[generic] watch?v=video(video: Requesting header\n"
     ]
    },
    {
     "name": "stderr",
     "output_type": "stream",
     "text": [
      "WARNING: Falling back on generic information extractor.\n"
     ]
    },
    {
     "name": "stdout",
     "output_type": "stream",
     "text": [
      "[generic] watch?v=video(video: Downloading webpage\n",
      "[generic] watch?v=video(video: Extracting information\n"
     ]
    },
    {
     "name": "stderr",
     "output_type": "stream",
     "text": [
      "ERROR: Unsupported URL: https://www.youtube.com/watch?v=video(video\n"
     ]
    },
    {
     "name": "stdout",
     "output_type": "stream",
     "text": [
      "[generic] Society']): Requesting header\n",
      "[redirect] Following redirect to https://www.youtube.com/watch?v=video(video\n",
      "[generic] watch?v=video(video: Requesting header\n"
     ]
    },
    {
     "name": "stderr",
     "output_type": "stream",
     "text": [
      "WARNING: Falling back on generic information extractor.\n"
     ]
    },
    {
     "name": "stdout",
     "output_type": "stream",
     "text": [
      "[generic] watch?v=video(video: Downloading webpage\n",
      "[generic] watch?v=video(video: Extracting information\n"
     ]
    },
    {
     "name": "stderr",
     "output_type": "stream",
     "text": [
      "ERROR: Unsupported URL: https://www.youtube.com/watch?v=video(video\n"
     ]
    },
    {
     "name": "stdout",
     "output_type": "stream",
     "text": [
      "[generic] Health']): Requesting header\n",
      "[redirect] Following redirect to https://www.youtube.com/watch?v=video(video\n",
      "[generic] watch?v=video(video: Requesting header\n"
     ]
    },
    {
     "name": "stderr",
     "output_type": "stream",
     "text": [
      "WARNING: Falling back on generic information extractor.\n"
     ]
    },
    {
     "name": "stdout",
     "output_type": "stream",
     "text": [
      "[generic] watch?v=video(video: Downloading webpage\n",
      "[generic] watch?v=video(video: Extracting information\n"
     ]
    },
    {
     "name": "stderr",
     "output_type": "stream",
     "text": [
      "ERROR: Unsupported URL: https://www.youtube.com/watch?v=video(video\n"
     ]
    },
    {
     "name": "stdout",
     "output_type": "stream",
     "text": [
      "[generic] Society']): Requesting header\n",
      "[redirect] Following redirect to https://www.youtube.com/watch?v=video(video\n",
      "[generic] watch?v=video(video: Requesting header\n"
     ]
    },
    {
     "name": "stderr",
     "output_type": "stream",
     "text": [
      "WARNING: Falling back on generic information extractor.\n"
     ]
    },
    {
     "name": "stdout",
     "output_type": "stream",
     "text": [
      "[generic] watch?v=video(video: Downloading webpage\n",
      "[generic] watch?v=video(video: Extracting information\n"
     ]
    },
    {
     "name": "stderr",
     "output_type": "stream",
     "text": [
      "ERROR: Unsupported URL: https://www.youtube.com/watch?v=video(video\n"
     ]
    },
    {
     "name": "stdout",
     "output_type": "stream",
     "text": [
      "[generic] Lifestyle_(sociology)']): Requesting header\n",
      "[redirect] Following redirect to https://www.youtube.com/watch?v=video(video\n",
      "[generic] watch?v=video(video: Requesting header\n"
     ]
    },
    {
     "name": "stderr",
     "output_type": "stream",
     "text": [
      "WARNING: Falling back on generic information extractor.\n"
     ]
    },
    {
     "name": "stdout",
     "output_type": "stream",
     "text": [
      "[generic] watch?v=video(video: Downloading webpage\n",
      "[generic] watch?v=video(video: Extracting information\n"
     ]
    },
    {
     "name": "stderr",
     "output_type": "stream",
     "text": [
      "ERROR: Unsupported URL: https://www.youtube.com/watch?v=video(video\n"
     ]
    },
    {
     "name": "stdout",
     "output_type": "stream",
     "text": [
      "[generic] Lifestyle_(sociology)']): Requesting header\n",
      "[redirect] Following redirect to https://www.youtube.com/watch?v=video(video\n",
      "[generic] watch?v=video(video: Requesting header\n"
     ]
    },
    {
     "name": "stderr",
     "output_type": "stream",
     "text": [
      "WARNING: Falling back on generic information extractor.\n"
     ]
    },
    {
     "name": "stdout",
     "output_type": "stream",
     "text": [
      "[generic] watch?v=video(video: Downloading webpage\n",
      "[generic] watch?v=video(video: Extracting information\n"
     ]
    },
    {
     "name": "stderr",
     "output_type": "stream",
     "text": [
      "ERROR: Unsupported URL: https://www.youtube.com/watch?v=video(video\n"
     ]
    },
    {
     "name": "stdout",
     "output_type": "stream",
     "text": [
      "[generic] Music']): Requesting header\n",
      "[redirect] Following redirect to https://www.youtube.com/watch?v=video(video\n",
      "[generic] watch?v=video(video: Requesting header\n"
     ]
    },
    {
     "name": "stderr",
     "output_type": "stream",
     "text": [
      "WARNING: Falling back on generic information extractor.\n"
     ]
    },
    {
     "name": "stdout",
     "output_type": "stream",
     "text": [
      "[generic] watch?v=video(video: Downloading webpage\n",
      "[generic] watch?v=video(video: Extracting information\n"
     ]
    },
    {
     "name": "stderr",
     "output_type": "stream",
     "text": [
      "ERROR: Unsupported URL: https://www.youtube.com/watch?v=video(video\n"
     ]
    },
    {
     "name": "stdout",
     "output_type": "stream",
     "text": [
      "[generic] Television_program']): Requesting header\n",
      "[redirect] Following redirect to https://www.youtube.com/watch?v=video(video\n",
      "[generic] watch?v=video(video: Requesting header\n"
     ]
    },
    {
     "name": "stderr",
     "output_type": "stream",
     "text": [
      "WARNING: Falling back on generic information extractor.\n"
     ]
    },
    {
     "name": "stdout",
     "output_type": "stream",
     "text": [
      "[generic] watch?v=video(video: Downloading webpage\n",
      "[generic] watch?v=video(video: Extracting information\n"
     ]
    },
    {
     "name": "stderr",
     "output_type": "stream",
     "text": [
      "ERROR: Unsupported URL: https://www.youtube.com/watch?v=video(video\n"
     ]
    },
    {
     "name": "stdout",
     "output_type": "stream",
     "text": [
      "[generic] Entertainment']): Requesting header\n",
      "[redirect] Following redirect to https://www.youtube.com/watch?v=video(video\n",
      "[generic] watch?v=video(video: Requesting header\n"
     ]
    },
    {
     "name": "stderr",
     "output_type": "stream",
     "text": [
      "WARNING: Falling back on generic information extractor.\n"
     ]
    },
    {
     "name": "stdout",
     "output_type": "stream",
     "text": [
      "[generic] watch?v=video(video: Downloading webpage\n",
      "[generic] watch?v=video(video: Extracting information\n"
     ]
    },
    {
     "name": "stderr",
     "output_type": "stream",
     "text": [
      "ERROR: Unsupported URL: https://www.youtube.com/watch?v=video(video\n"
     ]
    },
    {
     "name": "stdout",
     "output_type": "stream",
     "text": [
      "[generic] Television_program']): Requesting header\n",
      "[redirect] Following redirect to https://www.youtube.com/watch?v=video(video\n",
      "[generic] watch?v=video(video: Requesting header\n"
     ]
    },
    {
     "name": "stderr",
     "output_type": "stream",
     "text": [
      "WARNING: Falling back on generic information extractor.\n"
     ]
    },
    {
     "name": "stdout",
     "output_type": "stream",
     "text": [
      "[generic] watch?v=video(video: Downloading webpage\n",
      "[generic] watch?v=video(video: Extracting information\n"
     ]
    },
    {
     "name": "stderr",
     "output_type": "stream",
     "text": [
      "ERROR: Unsupported URL: https://www.youtube.com/watch?v=video(video\n"
     ]
    },
    {
     "name": "stdout",
     "output_type": "stream",
     "text": [
      "[generic] Society']): Requesting header\n",
      "[redirect] Following redirect to https://www.youtube.com/watch?v=video(video\n",
      "[generic] watch?v=video(video: Requesting header\n"
     ]
    },
    {
     "name": "stderr",
     "output_type": "stream",
     "text": [
      "WARNING: Falling back on generic information extractor.\n"
     ]
    },
    {
     "name": "stdout",
     "output_type": "stream",
     "text": [
      "[generic] watch?v=video(video: Downloading webpage\n",
      "[generic] watch?v=video(video: Extracting information\n"
     ]
    },
    {
     "name": "stderr",
     "output_type": "stream",
     "text": [
      "ERROR: Unsupported URL: https://www.youtube.com/watch?v=video(video\n"
     ]
    },
    {
     "name": "stdout",
     "output_type": "stream",
     "text": [
      "[generic] Society']): Requesting header\n",
      "[redirect] Following redirect to https://www.youtube.com/watch?v=video(video\n",
      "[generic] watch?v=video(video: Requesting header\n"
     ]
    },
    {
     "name": "stderr",
     "output_type": "stream",
     "text": [
      "WARNING: Falling back on generic information extractor.\n"
     ]
    },
    {
     "name": "stdout",
     "output_type": "stream",
     "text": [
      "[generic] watch?v=video(video: Downloading webpage\n",
      "[generic] watch?v=video(video: Extracting information\n"
     ]
    },
    {
     "name": "stderr",
     "output_type": "stream",
     "text": [
      "ERROR: Unsupported URL: https://www.youtube.com/watch?v=video(video\n"
     ]
    },
    {
     "name": "stdout",
     "output_type": "stream",
     "text": [
      "[generic] Music']): Requesting header\n",
      "[redirect] Following redirect to https://www.youtube.com/watch?v=video(video\n",
      "[generic] watch?v=video(video: Requesting header\n"
     ]
    },
    {
     "name": "stderr",
     "output_type": "stream",
     "text": [
      "WARNING: Falling back on generic information extractor.\n"
     ]
    },
    {
     "name": "stdout",
     "output_type": "stream",
     "text": [
      "[generic] watch?v=video(video: Downloading webpage\n",
      "[generic] watch?v=video(video: Extracting information\n"
     ]
    },
    {
     "name": "stderr",
     "output_type": "stream",
     "text": [
      "ERROR: Unsupported URL: https://www.youtube.com/watch?v=video(video\n"
     ]
    },
    {
     "name": "stdout",
     "output_type": "stream",
     "text": [
      "[generic] Entertainment']): Requesting header\n",
      "[redirect] Following redirect to https://www.youtube.com/watch?v=video(video\n",
      "[generic] watch?v=video(video: Requesting header\n"
     ]
    },
    {
     "name": "stderr",
     "output_type": "stream",
     "text": [
      "WARNING: Falling back on generic information extractor.\n"
     ]
    },
    {
     "name": "stdout",
     "output_type": "stream",
     "text": [
      "[generic] watch?v=video(video: Downloading webpage\n",
      "[generic] watch?v=video(video: Extracting information\n"
     ]
    },
    {
     "name": "stderr",
     "output_type": "stream",
     "text": [
      "ERROR: Unsupported URL: https://www.youtube.com/watch?v=video(video\n"
     ]
    },
    {
     "name": "stdout",
     "output_type": "stream",
     "text": [
      "[generic] Lifestyle_(sociology)']): Requesting header\n",
      "[redirect] Following redirect to https://www.youtube.com/watch?v=video(video\n",
      "[generic] watch?v=video(video: Requesting header\n"
     ]
    },
    {
     "name": "stderr",
     "output_type": "stream",
     "text": [
      "WARNING: Falling back on generic information extractor.\n"
     ]
    },
    {
     "name": "stdout",
     "output_type": "stream",
     "text": [
      "[generic] watch?v=video(video: Downloading webpage\n",
      "[generic] watch?v=video(video: Extracting information\n"
     ]
    },
    {
     "name": "stderr",
     "output_type": "stream",
     "text": [
      "ERROR: Unsupported URL: https://www.youtube.com/watch?v=video(video\n"
     ]
    },
    {
     "name": "stdout",
     "output_type": "stream",
     "text": [
      "[generic] Health']): Requesting header\n",
      "[redirect] Following redirect to https://www.youtube.com/watch?v=video(video\n",
      "[generic] watch?v=video(video: Requesting header\n"
     ]
    },
    {
     "name": "stderr",
     "output_type": "stream",
     "text": [
      "WARNING: Falling back on generic information extractor.\n"
     ]
    },
    {
     "name": "stdout",
     "output_type": "stream",
     "text": [
      "[generic] watch?v=video(video: Downloading webpage\n",
      "[generic] watch?v=video(video: Extracting information\n"
     ]
    },
    {
     "name": "stderr",
     "output_type": "stream",
     "text": [
      "ERROR: Unsupported URL: https://www.youtube.com/watch?v=video(video\n"
     ]
    },
    {
     "name": "stdout",
     "output_type": "stream",
     "text": [
      "[generic] Music']): Requesting header\n",
      "[redirect] Following redirect to https://www.youtube.com/watch?v=video(video\n",
      "[generic] watch?v=video(video: Requesting header\n"
     ]
    },
    {
     "name": "stderr",
     "output_type": "stream",
     "text": [
      "WARNING: Falling back on generic information extractor.\n"
     ]
    },
    {
     "name": "stdout",
     "output_type": "stream",
     "text": [
      "[generic] watch?v=video(video: Downloading webpage\n",
      "[generic] watch?v=video(video: Extracting information\n"
     ]
    },
    {
     "name": "stderr",
     "output_type": "stream",
     "text": [
      "ERROR: Unsupported URL: https://www.youtube.com/watch?v=video(video\n"
     ]
    },
    {
     "name": "stdout",
     "output_type": "stream",
     "text": [
      "[generic] Society']): Requesting header\n",
      "[redirect] Following redirect to https://www.youtube.com/watch?v=video(video\n",
      "[generic] watch?v=video(video: Requesting header\n"
     ]
    },
    {
     "name": "stderr",
     "output_type": "stream",
     "text": [
      "WARNING: Falling back on generic information extractor.\n"
     ]
    },
    {
     "name": "stdout",
     "output_type": "stream",
     "text": [
      "[generic] watch?v=video(video: Downloading webpage\n",
      "[generic] watch?v=video(video: Extracting information\n"
     ]
    },
    {
     "name": "stderr",
     "output_type": "stream",
     "text": [
      "ERROR: Unsupported URL: https://www.youtube.com/watch?v=video(video\n"
     ]
    },
    {
     "name": "stdout",
     "output_type": "stream",
     "text": [
      "[generic] Society']): Requesting header\n",
      "[redirect] Following redirect to https://www.youtube.com/watch?v=video(video\n",
      "[generic] watch?v=video(video: Requesting header\n"
     ]
    },
    {
     "name": "stderr",
     "output_type": "stream",
     "text": [
      "WARNING: Falling back on generic information extractor.\n"
     ]
    },
    {
     "name": "stdout",
     "output_type": "stream",
     "text": [
      "[generic] watch?v=video(video: Downloading webpage\n",
      "[generic] watch?v=video(video: Extracting information\n"
     ]
    },
    {
     "name": "stderr",
     "output_type": "stream",
     "text": [
      "ERROR: Unsupported URL: https://www.youtube.com/watch?v=video(video\n"
     ]
    },
    {
     "name": "stdout",
     "output_type": "stream",
     "text": [
      "[generic] Lifestyle_(sociology)']): Requesting header\n",
      "[redirect] Following redirect to https://www.youtube.com/watch?v=video(video\n",
      "[generic] watch?v=video(video: Requesting header\n"
     ]
    },
    {
     "name": "stderr",
     "output_type": "stream",
     "text": [
      "WARNING: Falling back on generic information extractor.\n"
     ]
    },
    {
     "name": "stdout",
     "output_type": "stream",
     "text": [
      "[generic] watch?v=video(video: Downloading webpage\n",
      "[generic] watch?v=video(video: Extracting information\n"
     ]
    },
    {
     "name": "stderr",
     "output_type": "stream",
     "text": [
      "ERROR: Unsupported URL: https://www.youtube.com/watch?v=video(video\n"
     ]
    },
    {
     "name": "stdout",
     "output_type": "stream",
     "text": [
      "[generic] Lifestyle_(sociology)']): Requesting header\n",
      "[redirect] Following redirect to https://www.youtube.com/watch?v=video(video\n",
      "[generic] watch?v=video(video: Requesting header\n"
     ]
    },
    {
     "name": "stderr",
     "output_type": "stream",
     "text": [
      "WARNING: Could not send HEAD request to https://www.youtube.com/watch?v=video(video: HTTP Error 404: Not Found\n"
     ]
    },
    {
     "name": "stdout",
     "output_type": "stream",
     "text": [
      "[generic] watch?v=video(video: Downloading webpage\n"
     ]
    },
    {
     "name": "stderr",
     "output_type": "stream",
     "text": [
      "WARNING: Falling back on generic information extractor.\n"
     ]
    },
    {
     "name": "stdout",
     "output_type": "stream",
     "text": [
      "[generic] watch?v=video(video: Extracting information\n"
     ]
    },
    {
     "name": "stderr",
     "output_type": "stream",
     "text": [
      "ERROR: Unsupported URL: https://www.youtube.com/watch?v=video(video\n"
     ]
    },
    {
     "name": "stdout",
     "output_type": "stream",
     "text": [
      "[generic] Entertainment']): Requesting header\n",
      "[redirect] Following redirect to https://www.youtube.com/watch?v=video(video\n",
      "[generic] watch?v=video(video: Requesting header\n"
     ]
    },
    {
     "name": "stderr",
     "output_type": "stream",
     "text": [
      "WARNING: Falling back on generic information extractor.\n"
     ]
    },
    {
     "name": "stdout",
     "output_type": "stream",
     "text": [
      "[generic] watch?v=video(video: Downloading webpage\n",
      "[generic] watch?v=video(video: Extracting information\n"
     ]
    },
    {
     "name": "stderr",
     "output_type": "stream",
     "text": [
      "ERROR: Unsupported URL: https://www.youtube.com/watch?v=video(video\n"
     ]
    },
    {
     "name": "stdout",
     "output_type": "stream",
     "text": [
      "[generic] Entertainment']): Requesting header\n",
      "[redirect] Following redirect to https://www.youtube.com/watch?v=video(video\n",
      "[generic] watch?v=video(video: Requesting header\n"
     ]
    },
    {
     "name": "stderr",
     "output_type": "stream",
     "text": [
      "WARNING: Falling back on generic information extractor.\n"
     ]
    },
    {
     "name": "stdout",
     "output_type": "stream",
     "text": [
      "[generic] watch?v=video(video: Downloading webpage\n",
      "[generic] watch?v=video(video: Extracting information\n"
     ]
    },
    {
     "name": "stderr",
     "output_type": "stream",
     "text": [
      "ERROR: Unsupported URL: https://www.youtube.com/watch?v=video(video\n"
     ]
    },
    {
     "name": "stdout",
     "output_type": "stream",
     "text": [
      "[generic] Lifestyle_(sociology)']): Requesting header\n",
      "[redirect] Following redirect to https://www.youtube.com/watch?v=video(video\n",
      "[generic] watch?v=video(video: Requesting header\n"
     ]
    },
    {
     "name": "stderr",
     "output_type": "stream",
     "text": [
      "WARNING: Falling back on generic information extractor.\n"
     ]
    },
    {
     "name": "stdout",
     "output_type": "stream",
     "text": [
      "[generic] watch?v=video(video: Downloading webpage\n",
      "[generic] watch?v=video(video: Extracting information\n"
     ]
    },
    {
     "name": "stderr",
     "output_type": "stream",
     "text": [
      "ERROR: Unsupported URL: https://www.youtube.com/watch?v=video(video\n"
     ]
    },
    {
     "name": "stdout",
     "output_type": "stream",
     "text": [
      "[generic] Entertainment']): Requesting header\n",
      "[redirect] Following redirect to https://www.youtube.com/watch?v=video(video\n",
      "[generic] watch?v=video(video: Requesting header\n"
     ]
    },
    {
     "name": "stderr",
     "output_type": "stream",
     "text": [
      "WARNING: Falling back on generic information extractor.\n"
     ]
    },
    {
     "name": "stdout",
     "output_type": "stream",
     "text": [
      "[generic] watch?v=video(video: Downloading webpage\n",
      "[generic] watch?v=video(video: Extracting information\n"
     ]
    },
    {
     "name": "stderr",
     "output_type": "stream",
     "text": [
      "ERROR: Unsupported URL: https://www.youtube.com/watch?v=video(video\n"
     ]
    },
    {
     "name": "stdout",
     "output_type": "stream",
     "text": [
      "[generic] Music']): Requesting header\n",
      "[redirect] Following redirect to https://www.youtube.com/watch?v=video(video\n",
      "[generic] watch?v=video(video: Requesting header\n"
     ]
    },
    {
     "name": "stderr",
     "output_type": "stream",
     "text": [
      "WARNING: Falling back on generic information extractor.\n"
     ]
    },
    {
     "name": "stdout",
     "output_type": "stream",
     "text": [
      "[generic] watch?v=video(video: Downloading webpage\n",
      "[generic] watch?v=video(video: Extracting information\n"
     ]
    },
    {
     "name": "stderr",
     "output_type": "stream",
     "text": [
      "ERROR: Unsupported URL: https://www.youtube.com/watch?v=video(video\n"
     ]
    },
    {
     "name": "stdout",
     "output_type": "stream",
     "text": [
      "[generic] Music']): Requesting header\n",
      "[redirect] Following redirect to https://www.youtube.com/watch?v=video(video\n",
      "[generic] watch?v=video(video: Requesting header\n"
     ]
    },
    {
     "name": "stderr",
     "output_type": "stream",
     "text": [
      "WARNING: Falling back on generic information extractor.\n"
     ]
    },
    {
     "name": "stdout",
     "output_type": "stream",
     "text": [
      "[generic] watch?v=video(video: Downloading webpage\n",
      "[generic] watch?v=video(video: Extracting information\n"
     ]
    },
    {
     "name": "stderr",
     "output_type": "stream",
     "text": [
      "ERROR: Unsupported URL: https://www.youtube.com/watch?v=video(video\n"
     ]
    },
    {
     "name": "stdout",
     "output_type": "stream",
     "text": [
      "[generic] Music']): Requesting header\n",
      "[redirect] Following redirect to https://www.youtube.com/watch?v=video(video\n",
      "[generic] watch?v=video(video: Requesting header\n"
     ]
    },
    {
     "name": "stderr",
     "output_type": "stream",
     "text": [
      "WARNING: Falling back on generic information extractor.\n"
     ]
    },
    {
     "name": "stdout",
     "output_type": "stream",
     "text": [
      "[generic] watch?v=video(video: Downloading webpage\n",
      "[generic] watch?v=video(video: Extracting information\n"
     ]
    },
    {
     "name": "stderr",
     "output_type": "stream",
     "text": [
      "ERROR: Unsupported URL: https://www.youtube.com/watch?v=video(video\n"
     ]
    },
    {
     "name": "stdout",
     "output_type": "stream",
     "text": [
      "[generic] Music']): Requesting header\n",
      "[redirect] Following redirect to https://www.youtube.com/watch?v=video(video\n",
      "[generic] watch?v=video(video: Requesting header\n"
     ]
    },
    {
     "name": "stderr",
     "output_type": "stream",
     "text": [
      "WARNING: Falling back on generic information extractor.\n"
     ]
    },
    {
     "name": "stdout",
     "output_type": "stream",
     "text": [
      "[generic] watch?v=video(video: Downloading webpage\n",
      "[generic] watch?v=video(video: Extracting information\n"
     ]
    },
    {
     "name": "stderr",
     "output_type": "stream",
     "text": [
      "ERROR: Unsupported URL: https://www.youtube.com/watch?v=video(video\n"
     ]
    },
    {
     "name": "stdout",
     "output_type": "stream",
     "text": [
      "[generic] Entertainment']): Requesting header\n",
      "[redirect] Following redirect to https://www.youtube.com/watch?v=video(video\n",
      "[generic] watch?v=video(video: Requesting header\n"
     ]
    },
    {
     "name": "stderr",
     "output_type": "stream",
     "text": [
      "WARNING: Falling back on generic information extractor.\n"
     ]
    },
    {
     "name": "stdout",
     "output_type": "stream",
     "text": [
      "[generic] watch?v=video(video: Downloading webpage\n",
      "[generic] watch?v=video(video: Extracting information\n"
     ]
    },
    {
     "name": "stderr",
     "output_type": "stream",
     "text": [
      "ERROR: Unsupported URL: https://www.youtube.com/watch?v=video(video\n"
     ]
    },
    {
     "name": "stdout",
     "output_type": "stream",
     "text": [
      "[generic] Lifestyle_(sociology)']): Requesting header\n",
      "[redirect] Following redirect to https://www.youtube.com/watch?v=video(video\n",
      "[generic] watch?v=video(video: Requesting header\n"
     ]
    },
    {
     "name": "stderr",
     "output_type": "stream",
     "text": [
      "WARNING: Falling back on generic information extractor.\n"
     ]
    },
    {
     "name": "stdout",
     "output_type": "stream",
     "text": [
      "[generic] watch?v=video(video: Downloading webpage\n",
      "[generic] watch?v=video(video: Extracting information\n"
     ]
    },
    {
     "name": "stderr",
     "output_type": "stream",
     "text": [
      "ERROR: Unsupported URL: https://www.youtube.com/watch?v=video(video\n"
     ]
    },
    {
     "name": "stdout",
     "output_type": "stream",
     "text": [
      "[generic] Lifestyle_(sociology)']): Requesting header\n",
      "[redirect] Following redirect to https://www.youtube.com/watch?v=video(video\n",
      "[generic] watch?v=video(video: Requesting header\n"
     ]
    },
    {
     "name": "stderr",
     "output_type": "stream",
     "text": [
      "WARNING: Falling back on generic information extractor.\n"
     ]
    },
    {
     "name": "stdout",
     "output_type": "stream",
     "text": [
      "[generic] watch?v=video(video: Downloading webpage\n",
      "[generic] watch?v=video(video: Extracting information\n"
     ]
    },
    {
     "name": "stderr",
     "output_type": "stream",
     "text": [
      "ERROR: Unsupported URL: https://www.youtube.com/watch?v=video(video\n"
     ]
    },
    {
     "name": "stdout",
     "output_type": "stream",
     "text": [
      "[generic] Lifestyle_(sociology)']): Requesting header\n",
      "[redirect] Following redirect to https://www.youtube.com/watch?v=video(video\n",
      "[generic] watch?v=video(video: Requesting header\n"
     ]
    },
    {
     "name": "stderr",
     "output_type": "stream",
     "text": [
      "WARNING: Falling back on generic information extractor.\n"
     ]
    },
    {
     "name": "stdout",
     "output_type": "stream",
     "text": [
      "[generic] watch?v=video(video: Downloading webpage\n",
      "[generic] watch?v=video(video: Extracting information\n"
     ]
    },
    {
     "name": "stderr",
     "output_type": "stream",
     "text": [
      "ERROR: Unsupported URL: https://www.youtube.com/watch?v=video(video\n"
     ]
    },
    {
     "name": "stdout",
     "output_type": "stream",
     "text": [
      "[generic] Society']): Requesting header\n",
      "[redirect] Following redirect to https://www.youtube.com/watch?v=video(video\n",
      "[generic] watch?v=video(video: Requesting header\n"
     ]
    },
    {
     "name": "stderr",
     "output_type": "stream",
     "text": [
      "WARNING: Falling back on generic information extractor.\n"
     ]
    },
    {
     "name": "stdout",
     "output_type": "stream",
     "text": [
      "[generic] watch?v=video(video: Downloading webpage\n",
      "[generic] watch?v=video(video: Extracting information\n"
     ]
    },
    {
     "name": "stderr",
     "output_type": "stream",
     "text": [
      "ERROR: Unsupported URL: https://www.youtube.com/watch?v=video(video\n"
     ]
    },
    {
     "name": "stdout",
     "output_type": "stream",
     "text": [
      "[generic] Entertainment']): Requesting header\n",
      "[redirect] Following redirect to https://www.youtube.com/watch?v=video(video\n",
      "[generic] watch?v=video(video: Requesting header\n"
     ]
    },
    {
     "name": "stderr",
     "output_type": "stream",
     "text": [
      "WARNING: Falling back on generic information extractor.\n"
     ]
    },
    {
     "name": "stdout",
     "output_type": "stream",
     "text": [
      "[generic] watch?v=video(video: Downloading webpage\n",
      "[generic] watch?v=video(video: Extracting information\n"
     ]
    },
    {
     "name": "stderr",
     "output_type": "stream",
     "text": [
      "ERROR: Unsupported URL: https://www.youtube.com/watch?v=video(video\n"
     ]
    },
    {
     "name": "stdout",
     "output_type": "stream",
     "text": [
      "[generic] Performing_arts']): Requesting header\n",
      "[redirect] Following redirect to https://www.youtube.com/watch?v=video(video\n",
      "[generic] watch?v=video(video: Requesting header\n"
     ]
    },
    {
     "name": "stderr",
     "output_type": "stream",
     "text": [
      "WARNING: Falling back on generic information extractor.\n"
     ]
    },
    {
     "name": "stdout",
     "output_type": "stream",
     "text": [
      "[generic] watch?v=video(video: Downloading webpage\n",
      "[generic] watch?v=video(video: Extracting information\n"
     ]
    },
    {
     "name": "stderr",
     "output_type": "stream",
     "text": [
      "ERROR: Unsupported URL: https://www.youtube.com/watch?v=video(video\n"
     ]
    },
    {
     "name": "stdout",
     "output_type": "stream",
     "text": [
      "[generic] Lifestyle_(sociology)']): Requesting header\n",
      "[redirect] Following redirect to https://www.youtube.com/watch?v=video(video\n",
      "[generic] watch?v=video(video: Requesting header\n"
     ]
    },
    {
     "name": "stderr",
     "output_type": "stream",
     "text": [
      "WARNING: Falling back on generic information extractor.\n"
     ]
    },
    {
     "name": "stdout",
     "output_type": "stream",
     "text": [
      "[generic] watch?v=video(video: Downloading webpage\n",
      "[generic] watch?v=video(video: Extracting information\n"
     ]
    },
    {
     "name": "stderr",
     "output_type": "stream",
     "text": [
      "ERROR: Unsupported URL: https://www.youtube.com/watch?v=video(video\n"
     ]
    },
    {
     "name": "stdout",
     "output_type": "stream",
     "text": [
      "[generic] Lifestyle_(sociology)']): Requesting header\n",
      "[redirect] Following redirect to https://www.youtube.com/watch?v=video(video\n",
      "[generic] watch?v=video(video: Requesting header\n"
     ]
    },
    {
     "name": "stderr",
     "output_type": "stream",
     "text": [
      "WARNING: Falling back on generic information extractor.\n"
     ]
    },
    {
     "name": "stdout",
     "output_type": "stream",
     "text": [
      "[generic] watch?v=video(video: Downloading webpage\n",
      "[generic] watch?v=video(video: Extracting information\n"
     ]
    },
    {
     "name": "stderr",
     "output_type": "stream",
     "text": [
      "ERROR: Unsupported URL: https://www.youtube.com/watch?v=video(video\n"
     ]
    },
    {
     "name": "stdout",
     "output_type": "stream",
     "text": [
      "[generic] Music']): Requesting header\n",
      "[redirect] Following redirect to https://www.youtube.com/watch?v=video(video\n",
      "[generic] watch?v=video(video: Requesting header\n"
     ]
    },
    {
     "name": "stderr",
     "output_type": "stream",
     "text": [
      "WARNING: Falling back on generic information extractor.\n"
     ]
    },
    {
     "name": "stdout",
     "output_type": "stream",
     "text": [
      "[generic] watch?v=video(video: Downloading webpage\n",
      "[generic] watch?v=video(video: Extracting information\n"
     ]
    },
    {
     "name": "stderr",
     "output_type": "stream",
     "text": [
      "ERROR: Unsupported URL: https://www.youtube.com/watch?v=video(video\n"
     ]
    },
    {
     "name": "stdout",
     "output_type": "stream",
     "text": [
      "[generic] Music']): Requesting header\n",
      "[redirect] Following redirect to https://www.youtube.com/watch?v=video(video\n",
      "[generic] watch?v=video(video: Requesting header\n"
     ]
    },
    {
     "name": "stderr",
     "output_type": "stream",
     "text": [
      "WARNING: Falling back on generic information extractor.\n"
     ]
    },
    {
     "name": "stdout",
     "output_type": "stream",
     "text": [
      "[generic] watch?v=video(video: Downloading webpage\n",
      "[generic] watch?v=video(video: Extracting information\n"
     ]
    },
    {
     "name": "stderr",
     "output_type": "stream",
     "text": [
      "ERROR: Unsupported URL: https://www.youtube.com/watch?v=video(video\n"
     ]
    },
    {
     "name": "stdout",
     "output_type": "stream",
     "text": [
      "[generic] Film']): Requesting header\n",
      "[redirect] Following redirect to https://www.youtube.com/watch?v=video(video\n",
      "[generic] watch?v=video(video: Requesting header\n"
     ]
    },
    {
     "name": "stderr",
     "output_type": "stream",
     "text": [
      "WARNING: Falling back on generic information extractor.\n"
     ]
    },
    {
     "name": "stdout",
     "output_type": "stream",
     "text": [
      "[generic] watch?v=video(video: Downloading webpage\n",
      "[generic] watch?v=video(video: Extracting information\n"
     ]
    },
    {
     "name": "stderr",
     "output_type": "stream",
     "text": [
      "ERROR: Unsupported URL: https://www.youtube.com/watch?v=video(video\n"
     ]
    },
    {
     "name": "stdout",
     "output_type": "stream",
     "text": [
      "[generic] Entertainment']): Requesting header\n",
      "[redirect] Following redirect to https://www.youtube.com/watch?v=video(video\n",
      "[generic] watch?v=video(video: Requesting header\n"
     ]
    },
    {
     "name": "stderr",
     "output_type": "stream",
     "text": [
      "WARNING: Falling back on generic information extractor.\n"
     ]
    },
    {
     "name": "stdout",
     "output_type": "stream",
     "text": [
      "[generic] watch?v=video(video: Downloading webpage\n",
      "[generic] watch?v=video(video: Extracting information\n"
     ]
    },
    {
     "name": "stderr",
     "output_type": "stream",
     "text": [
      "ERROR: Unsupported URL: https://www.youtube.com/watch?v=video(video\n"
     ]
    },
    {
     "name": "stdout",
     "output_type": "stream",
     "text": [
      "[generic] Sports_game']): Requesting header\n",
      "[redirect] Following redirect to https://www.youtube.com/watch?v=video(video\n",
      "[generic] watch?v=video(video: Requesting header\n"
     ]
    },
    {
     "name": "stderr",
     "output_type": "stream",
     "text": [
      "WARNING: Falling back on generic information extractor.\n"
     ]
    },
    {
     "name": "stdout",
     "output_type": "stream",
     "text": [
      "[generic] watch?v=video(video: Downloading webpage\n",
      "[generic] watch?v=video(video: Extracting information\n"
     ]
    },
    {
     "name": "stderr",
     "output_type": "stream",
     "text": [
      "ERROR: Unsupported URL: https://www.youtube.com/watch?v=video(video\n"
     ]
    },
    {
     "name": "stdout",
     "output_type": "stream",
     "text": [
      "[generic] Film']): Requesting header\n",
      "[redirect] Following redirect to https://www.youtube.com/watch?v=video(video\n",
      "[generic] watch?v=video(video: Requesting header\n"
     ]
    },
    {
     "name": "stderr",
     "output_type": "stream",
     "text": [
      "WARNING: Falling back on generic information extractor.\n"
     ]
    },
    {
     "name": "stdout",
     "output_type": "stream",
     "text": [
      "[generic] watch?v=video(video: Downloading webpage\n",
      "[generic] watch?v=video(video: Extracting information\n"
     ]
    },
    {
     "name": "stderr",
     "output_type": "stream",
     "text": [
      "ERROR: Unsupported URL: https://www.youtube.com/watch?v=video(video\n"
     ]
    },
    {
     "name": "stdout",
     "output_type": "stream",
     "text": [
      "[generic] Entertainment']): Requesting header\n",
      "[redirect] Following redirect to https://www.youtube.com/watch?v=video(video\n",
      "[generic] watch?v=video(video: Requesting header\n"
     ]
    },
    {
     "name": "stderr",
     "output_type": "stream",
     "text": [
      "WARNING: Falling back on generic information extractor.\n"
     ]
    },
    {
     "name": "stdout",
     "output_type": "stream",
     "text": [
      "[generic] watch?v=video(video: Downloading webpage\n",
      "[generic] watch?v=video(video: Extracting information\n"
     ]
    },
    {
     "name": "stderr",
     "output_type": "stream",
     "text": [
      "ERROR: Unsupported URL: https://www.youtube.com/watch?v=video(video\n"
     ]
    },
    {
     "name": "stdout",
     "output_type": "stream",
     "text": [
      "[generic] Entertainment']): Requesting header\n",
      "[redirect] Following redirect to https://www.youtube.com/watch?v=video(video\n",
      "[generic] watch?v=video(video: Requesting header\n"
     ]
    },
    {
     "name": "stderr",
     "output_type": "stream",
     "text": [
      "WARNING: Falling back on generic information extractor.\n"
     ]
    },
    {
     "name": "stdout",
     "output_type": "stream",
     "text": [
      "[generic] watch?v=video(video: Downloading webpage\n",
      "[generic] watch?v=video(video: Extracting information\n"
     ]
    },
    {
     "name": "stderr",
     "output_type": "stream",
     "text": [
      "ERROR: Unsupported URL: https://www.youtube.com/watch?v=video(video\n"
     ]
    },
    {
     "name": "stdout",
     "output_type": "stream",
     "text": [
      "[generic] Entertainment']): Requesting header\n",
      "[redirect] Following redirect to https://www.youtube.com/watch?v=video(video\n",
      "[generic] watch?v=video(video: Requesting header\n"
     ]
    },
    {
     "name": "stderr",
     "output_type": "stream",
     "text": [
      "WARNING: Falling back on generic information extractor.\n"
     ]
    },
    {
     "name": "stdout",
     "output_type": "stream",
     "text": [
      "[generic] watch?v=video(video: Downloading webpage\n",
      "[generic] watch?v=video(video: Extracting information\n"
     ]
    },
    {
     "name": "stderr",
     "output_type": "stream",
     "text": [
      "ERROR: Unsupported URL: https://www.youtube.com/watch?v=video(video\n"
     ]
    },
    {
     "name": "stdout",
     "output_type": "stream",
     "text": [
      "[generic] Entertainment']): Requesting header\n",
      "[redirect] Following redirect to https://www.youtube.com/watch?v=video(video\n",
      "[generic] watch?v=video(video: Requesting header\n"
     ]
    },
    {
     "name": "stderr",
     "output_type": "stream",
     "text": [
      "WARNING: Falling back on generic information extractor.\n"
     ]
    },
    {
     "name": "stdout",
     "output_type": "stream",
     "text": [
      "[generic] watch?v=video(video: Downloading webpage\n",
      "[generic] watch?v=video(video: Extracting information\n"
     ]
    },
    {
     "name": "stderr",
     "output_type": "stream",
     "text": [
      "ERROR: Unsupported URL: https://www.youtube.com/watch?v=video(video\n"
     ]
    },
    {
     "name": "stdout",
     "output_type": "stream",
     "text": [
      "[generic] Film']): Requesting header\n",
      "[redirect] Following redirect to https://www.youtube.com/watch?v=video(video\n",
      "[generic] watch?v=video(video: Requesting header\n"
     ]
    },
    {
     "name": "stderr",
     "output_type": "stream",
     "text": [
      "WARNING: Falling back on generic information extractor.\n"
     ]
    },
    {
     "name": "stdout",
     "output_type": "stream",
     "text": [
      "[generic] watch?v=video(video: Downloading webpage\n",
      "[generic] watch?v=video(video: Extracting information\n"
     ]
    },
    {
     "name": "stderr",
     "output_type": "stream",
     "text": [
      "ERROR: Unsupported URL: https://www.youtube.com/watch?v=video(video\n"
     ]
    },
    {
     "name": "stdout",
     "output_type": "stream",
     "text": [
      "[generic] Film']): Requesting header\n",
      "[redirect] Following redirect to https://www.youtube.com/watch?v=video(video\n",
      "[generic] watch?v=video(video: Requesting header\n"
     ]
    },
    {
     "name": "stderr",
     "output_type": "stream",
     "text": [
      "WARNING: Falling back on generic information extractor.\n"
     ]
    },
    {
     "name": "stdout",
     "output_type": "stream",
     "text": [
      "[generic] watch?v=video(video: Downloading webpage\n",
      "[generic] watch?v=video(video: Extracting information\n"
     ]
    },
    {
     "name": "stderr",
     "output_type": "stream",
     "text": [
      "ERROR: Unsupported URL: https://www.youtube.com/watch?v=video(video\n"
     ]
    },
    {
     "name": "stdout",
     "output_type": "stream",
     "text": [
      "[generic] Lifestyle_(sociology)']): Requesting header\n",
      "[redirect] Following redirect to https://www.youtube.com/watch?v=video(video\n",
      "[generic] watch?v=video(video: Requesting header\n"
     ]
    },
    {
     "name": "stderr",
     "output_type": "stream",
     "text": [
      "WARNING: Falling back on generic information extractor.\n"
     ]
    },
    {
     "name": "stdout",
     "output_type": "stream",
     "text": [
      "[generic] watch?v=video(video: Downloading webpage\n",
      "[generic] watch?v=video(video: Extracting information\n"
     ]
    },
    {
     "name": "stderr",
     "output_type": "stream",
     "text": [
      "ERROR: Unsupported URL: https://www.youtube.com/watch?v=video(video\n"
     ]
    },
    {
     "name": "stdout",
     "output_type": "stream",
     "text": [
      "[generic] Lifestyle_(sociology)']): Requesting header\n",
      "[redirect] Following redirect to https://www.youtube.com/watch?v=video(video\n",
      "[generic] watch?v=video(video: Requesting header\n"
     ]
    },
    {
     "name": "stderr",
     "output_type": "stream",
     "text": [
      "WARNING: Falling back on generic information extractor.\n"
     ]
    },
    {
     "name": "stdout",
     "output_type": "stream",
     "text": [
      "[generic] watch?v=video(video: Downloading webpage\n",
      "[generic] watch?v=video(video: Extracting information\n"
     ]
    },
    {
     "name": "stderr",
     "output_type": "stream",
     "text": [
      "ERROR: Unsupported URL: https://www.youtube.com/watch?v=video(video\n"
     ]
    },
    {
     "name": "stdout",
     "output_type": "stream",
     "text": [
      "[generic] Lifestyle_(sociology)']): Requesting header\n",
      "[redirect] Following redirect to https://www.youtube.com/watch?v=video(video\n",
      "[generic] watch?v=video(video: Requesting header\n"
     ]
    },
    {
     "name": "stderr",
     "output_type": "stream",
     "text": [
      "WARNING: Falling back on generic information extractor.\n"
     ]
    },
    {
     "name": "stdout",
     "output_type": "stream",
     "text": [
      "[generic] watch?v=video(video: Downloading webpage\n",
      "[generic] watch?v=video(video: Extracting information\n"
     ]
    },
    {
     "name": "stderr",
     "output_type": "stream",
     "text": [
      "ERROR: Unsupported URL: https://www.youtube.com/watch?v=video(video\n"
     ]
    },
    {
     "name": "stdout",
     "output_type": "stream",
     "text": [
      "[generic] Music']): Requesting header\n",
      "[redirect] Following redirect to https://www.youtube.com/watch?v=video(video\n",
      "[generic] watch?v=video(video: Requesting header\n"
     ]
    },
    {
     "name": "stderr",
     "output_type": "stream",
     "text": [
      "WARNING: Falling back on generic information extractor.\n"
     ]
    },
    {
     "name": "stdout",
     "output_type": "stream",
     "text": [
      "[generic] watch?v=video(video: Downloading webpage\n",
      "[generic] watch?v=video(video: Extracting information\n"
     ]
    },
    {
     "name": "stderr",
     "output_type": "stream",
     "text": [
      "ERROR: Unsupported URL: https://www.youtube.com/watch?v=video(video\n"
     ]
    },
    {
     "name": "stdout",
     "output_type": "stream",
     "text": [
      "[generic] Health']): Requesting header\n",
      "[redirect] Following redirect to https://www.youtube.com/watch?v=video(video\n",
      "[generic] watch?v=video(video: Requesting header\n"
     ]
    },
    {
     "name": "stderr",
     "output_type": "stream",
     "text": [
      "WARNING: Falling back on generic information extractor.\n"
     ]
    },
    {
     "name": "stdout",
     "output_type": "stream",
     "text": [
      "[generic] watch?v=video(video: Downloading webpage\n",
      "[generic] watch?v=video(video: Extracting information\n"
     ]
    },
    {
     "name": "stderr",
     "output_type": "stream",
     "text": [
      "ERROR: Unsupported URL: https://www.youtube.com/watch?v=video(video\n"
     ]
    },
    {
     "name": "stdout",
     "output_type": "stream",
     "text": [
      "[generic] Music']): Requesting header\n",
      "[redirect] Following redirect to https://www.youtube.com/watch?v=video(video\n",
      "[generic] watch?v=video(video: Requesting header\n"
     ]
    },
    {
     "name": "stderr",
     "output_type": "stream",
     "text": [
      "WARNING: Falling back on generic information extractor.\n"
     ]
    },
    {
     "name": "stdout",
     "output_type": "stream",
     "text": [
      "[generic] watch?v=video(video: Downloading webpage\n",
      "[generic] watch?v=video(video: Extracting information\n"
     ]
    },
    {
     "name": "stderr",
     "output_type": "stream",
     "text": [
      "ERROR: Unsupported URL: https://www.youtube.com/watch?v=video(video\n"
     ]
    },
    {
     "name": "stdout",
     "output_type": "stream",
     "text": [
      "[generic] Lifestyle_(sociology)']): Requesting header\n",
      "[redirect] Following redirect to https://www.youtube.com/watch?v=video(video\n",
      "[generic] watch?v=video(video: Requesting header\n"
     ]
    },
    {
     "name": "stderr",
     "output_type": "stream",
     "text": [
      "WARNING: Falling back on generic information extractor.\n"
     ]
    },
    {
     "name": "stdout",
     "output_type": "stream",
     "text": [
      "[generic] watch?v=video(video: Downloading webpage\n",
      "[generic] watch?v=video(video: Extracting information\n"
     ]
    },
    {
     "name": "stderr",
     "output_type": "stream",
     "text": [
      "ERROR: Unsupported URL: https://www.youtube.com/watch?v=video(video\n"
     ]
    },
    {
     "name": "stdout",
     "output_type": "stream",
     "text": [
      "[generic] Health']): Requesting header\n",
      "[redirect] Following redirect to https://www.youtube.com/watch?v=video(video\n",
      "[generic] watch?v=video(video: Requesting header\n"
     ]
    },
    {
     "name": "stderr",
     "output_type": "stream",
     "text": [
      "WARNING: Falling back on generic information extractor.\n"
     ]
    },
    {
     "name": "stdout",
     "output_type": "stream",
     "text": [
      "[generic] watch?v=video(video: Downloading webpage\n",
      "[generic] watch?v=video(video: Extracting information\n"
     ]
    },
    {
     "name": "stderr",
     "output_type": "stream",
     "text": [
      "ERROR: Unsupported URL: https://www.youtube.com/watch?v=video(video\n"
     ]
    },
    {
     "name": "stdout",
     "output_type": "stream",
     "text": [
      "[generic] Lifestyle_(sociology)']): Requesting header\n",
      "[redirect] Following redirect to https://www.youtube.com/watch?v=video(video\n",
      "[generic] watch?v=video(video: Requesting header\n"
     ]
    },
    {
     "name": "stderr",
     "output_type": "stream",
     "text": [
      "WARNING: Falling back on generic information extractor.\n"
     ]
    },
    {
     "name": "stdout",
     "output_type": "stream",
     "text": [
      "[generic] watch?v=video(video: Downloading webpage\n",
      "[generic] watch?v=video(video: Extracting information\n"
     ]
    },
    {
     "name": "stderr",
     "output_type": "stream",
     "text": [
      "ERROR: Unsupported URL: https://www.youtube.com/watch?v=video(video\n"
     ]
    },
    {
     "name": "stdout",
     "output_type": "stream",
     "text": [
      "[generic] Lifestyle_(sociology)']): Requesting header\n",
      "[redirect] Following redirect to https://www.youtube.com/watch?v=video(video\n",
      "[generic] watch?v=video(video: Requesting header\n"
     ]
    },
    {
     "name": "stderr",
     "output_type": "stream",
     "text": [
      "WARNING: Falling back on generic information extractor.\n"
     ]
    },
    {
     "name": "stdout",
     "output_type": "stream",
     "text": [
      "[generic] watch?v=video(video: Downloading webpage\n",
      "[generic] watch?v=video(video: Extracting information\n"
     ]
    },
    {
     "name": "stderr",
     "output_type": "stream",
     "text": [
      "ERROR: Unsupported URL: https://www.youtube.com/watch?v=video(video\n"
     ]
    }
   ],
   "source": [
    "ytc.transcripts.get_captions(all_videos)\n"
   ]
  },
  {
   "cell_type": "code",
   "execution_count": 18,
   "metadata": {},
   "outputs": [],
   "source": [
    "video_id_transcripts = ytc.transcripts.extract_transcripts(\"./*.vtt\")\n",
    "\n",
    "ytc.transcripts.write_transcripts(transcripts_output_file, video_id_transcripts)"
   ]
  },
  {
   "cell_type": "code",
   "execution_count": 19,
   "metadata": {},
   "outputs": [],
   "source": [
    "import os\n",
    "import shutil\n",
    "import glob\n",
    "\n",
    "for file in glob.glob('*.vtt'):\n",
    "    try:\n",
    "        shutil.move(file, 'output/right/raw_data/transcripts_right/')\n",
    "    except:\n",
    "        os.remove(file)"
   ]
  },
  {
   "cell_type": "code",
   "execution_count": 44,
   "metadata": {},
   "outputs": [
    {
     "data": {
      "text/html": [
       "<div>\n",
       "<style scoped>\n",
       "    .dataframe tbody tr th:only-of-type {\n",
       "        vertical-align: middle;\n",
       "    }\n",
       "\n",
       "    .dataframe tbody tr th {\n",
       "        vertical-align: top;\n",
       "    }\n",
       "\n",
       "    .dataframe thead th {\n",
       "        text-align: right;\n",
       "    }\n",
       "</style>\n",
       "<table border=\"1\" class=\"dataframe\">\n",
       "  <thead>\n",
       "    <tr style=\"text-align: right;\">\n",
       "      <th></th>\n",
       "      <th>video_id</th>\n",
       "      <th>comment_id</th>\n",
       "      <th>author_display_name</th>\n",
       "      <th>author_channel_url</th>\n",
       "      <th>author_channel_id</th>\n",
       "      <th>comment_text</th>\n",
       "      <th>comment_like_count</th>\n",
       "      <th>comment_dislike_count</th>\n",
       "      <th>comment_time</th>\n",
       "      <th>reply_count</th>\n",
       "    </tr>\n",
       "  </thead>\n",
       "  <tbody>\n",
       "    <tr>\n",
       "      <th>0</th>\n",
       "      <td>P2yvLgWLCS0</td>\n",
       "      <td>Ugzulmgzl2DI-Q7nbr14AaABAg</td>\n",
       "      <td>SuperHantz</td>\n",
       "      <td>http://www.youtube.com/channel/UCX4aRY-GscOoa0...</td>\n",
       "      <td>UCX4aRY-GscOoa05delEcoXg</td>\n",
       "      <td>THX 1138</td>\n",
       "      <td>0</td>\n",
       "      <td>0.0</td>\n",
       "      <td>2018-12-04T07:54:51.000Z</td>\n",
       "      <td>0.0</td>\n",
       "    </tr>\n",
       "    <tr>\n",
       "      <th>1</th>\n",
       "      <td>P2yvLgWLCS0</td>\n",
       "      <td>Ugwuio49p2gbkkPLEft4AaABAg</td>\n",
       "      <td>Ashesofexistance</td>\n",
       "      <td>http://www.youtube.com/channel/UCd5jZUVBr0foMj...</td>\n",
       "      <td>UCd5jZUVBr0foMjjKl2__-ew</td>\n",
       "      <td>das juden is known for pushing moral degenerac...</td>\n",
       "      <td>0</td>\n",
       "      <td>0.0</td>\n",
       "      <td>2018-12-04T07:32:40.000Z</td>\n",
       "      <td>0.0</td>\n",
       "    </tr>\n",
       "    <tr>\n",
       "      <th>2</th>\n",
       "      <td>P2yvLgWLCS0</td>\n",
       "      <td>UgwYJVFEnuruz-3W_QV4AaABAg</td>\n",
       "      <td>E A</td>\n",
       "      <td>http://www.youtube.com/channel/UCqWkjRWVoESxpB...</td>\n",
       "      <td>UCqWkjRWVoESxpB4_f3e9mvQ</td>\n",
       "      <td>Your left eye is way more open than your right...</td>\n",
       "      <td>0</td>\n",
       "      <td>0.0</td>\n",
       "      <td>2018-12-04T06:17:23.000Z</td>\n",
       "      <td>0.0</td>\n",
       "    </tr>\n",
       "    <tr>\n",
       "      <th>3</th>\n",
       "      <td>P2yvLgWLCS0</td>\n",
       "      <td>UgxlleBf9IOvJ_9syUF4AaABAg</td>\n",
       "      <td>Meera Venkatesan</td>\n",
       "      <td>http://www.youtube.com/channel/UC2_AgaJqmWDzBQ...</td>\n",
       "      <td>UC2_AgaJqmWDzBQhoIya2Arg</td>\n",
       "      <td>reported this video harassment</td>\n",
       "      <td>0</td>\n",
       "      <td>0.0</td>\n",
       "      <td>2018-12-04T03:59:51.000Z</td>\n",
       "      <td>0.0</td>\n",
       "    </tr>\n",
       "    <tr>\n",
       "      <th>4</th>\n",
       "      <td>P2yvLgWLCS0</td>\n",
       "      <td>Ugxnfeywv__CsAiCvtR4AaABAg</td>\n",
       "      <td>Miguel Cruz</td>\n",
       "      <td>http://www.youtube.com/channel/UCR9r6j7fFxUg-3...</td>\n",
       "      <td>UCR9r6j7fFxUg-3wb6ewsnLQ</td>\n",
       "      <td>read &amp;quot;The Wanting Seed&amp;quot; by Anthony B...</td>\n",
       "      <td>0</td>\n",
       "      <td>0.0</td>\n",
       "      <td>2018-12-04T03:00:56.000Z</td>\n",
       "      <td>0.0</td>\n",
       "    </tr>\n",
       "  </tbody>\n",
       "</table>\n",
       "</div>"
      ],
      "text/plain": [
       "      video_id                  comment_id author_display_name  \\\n",
       "0  P2yvLgWLCS0  Ugzulmgzl2DI-Q7nbr14AaABAg          SuperHantz   \n",
       "1  P2yvLgWLCS0  Ugwuio49p2gbkkPLEft4AaABAg    Ashesofexistance   \n",
       "2  P2yvLgWLCS0  UgwYJVFEnuruz-3W_QV4AaABAg                 E A   \n",
       "3  P2yvLgWLCS0  UgxlleBf9IOvJ_9syUF4AaABAg    Meera Venkatesan   \n",
       "4  P2yvLgWLCS0  Ugxnfeywv__CsAiCvtR4AaABAg         Miguel Cruz   \n",
       "\n",
       "                                  author_channel_url  \\\n",
       "0  http://www.youtube.com/channel/UCX4aRY-GscOoa0...   \n",
       "1  http://www.youtube.com/channel/UCd5jZUVBr0foMj...   \n",
       "2  http://www.youtube.com/channel/UCqWkjRWVoESxpB...   \n",
       "3  http://www.youtube.com/channel/UC2_AgaJqmWDzBQ...   \n",
       "4  http://www.youtube.com/channel/UCR9r6j7fFxUg-3...   \n",
       "\n",
       "          author_channel_id  \\\n",
       "0  UCX4aRY-GscOoa05delEcoXg   \n",
       "1  UCd5jZUVBr0foMjjKl2__-ew   \n",
       "2  UCqWkjRWVoESxpB4_f3e9mvQ   \n",
       "3  UC2_AgaJqmWDzBQhoIya2Arg   \n",
       "4  UCR9r6j7fFxUg-3wb6ewsnLQ   \n",
       "\n",
       "                                        comment_text  comment_like_count  \\\n",
       "0                                           THX 1138                   0   \n",
       "1  das juden is known for pushing moral degenerac...                   0   \n",
       "2  Your left eye is way more open than your right...                   0   \n",
       "3                     reported this video harassment                   0   \n",
       "4  read &quot;The Wanting Seed&quot; by Anthony B...                   0   \n",
       "\n",
       "   comment_dislike_count              comment_time  reply_count  \n",
       "0                    0.0  2018-12-04T07:54:51.000Z          0.0  \n",
       "1                    0.0  2018-12-04T07:32:40.000Z          0.0  \n",
       "2                    0.0  2018-12-04T06:17:23.000Z          0.0  \n",
       "3                    0.0  2018-12-04T03:59:51.000Z          0.0  \n",
       "4                    0.0  2018-12-04T03:00:56.000Z          0.0  "
      ]
     },
     "execution_count": 44,
     "metadata": {},
     "output_type": "execute_result"
    }
   ],
   "source": [
    "df = pd.read_csv('output/right/comments_roosh.csv', sep='¶',\n",
    "                        quotechar='þ',\n",
    "                engine='python')\n",
    "df.head()"
   ]
  },
  {
   "cell_type": "code",
   "execution_count": 45,
   "metadata": {},
   "outputs": [],
   "source": [
    "df.to_csv('output/right/comments_right.csv', mode='a')"
   ]
  },
  {
   "cell_type": "code",
   "execution_count": 34,
   "metadata": {},
   "outputs": [
    {
     "ename": "ParserError",
     "evalue": "Error tokenizing data. C error: Expected 16 fields in line 262950, saw 17\n",
     "output_type": "error",
     "traceback": [
      "\u001b[0;31m---------------------------------------------------------------------------\u001b[0m",
      "\u001b[0;31mParserError\u001b[0m                               Traceback (most recent call last)",
      "\u001b[0;32m<ipython-input-34-449ff48bf8c1>\u001b[0m in \u001b[0;36m<module>\u001b[0;34m\u001b[0m\n\u001b[0;32m----> 1\u001b[0;31m \u001b[0mdf\u001b[0m \u001b[0;34m=\u001b[0m \u001b[0mpd\u001b[0m\u001b[0;34m.\u001b[0m\u001b[0mread_csv\u001b[0m\u001b[0;34m(\u001b[0m\u001b[0;34m'output/right/videos_right.csv'\u001b[0m\u001b[0;34m,\u001b[0m \u001b[0mencoding\u001b[0m\u001b[0;34m=\u001b[0m\u001b[0;34m'latin-1'\u001b[0m\u001b[0;34m)\u001b[0m\u001b[0;34m\u001b[0m\u001b[0;34m\u001b[0m\u001b[0m\n\u001b[0m\u001b[1;32m      2\u001b[0m \u001b[0mdf\u001b[0m\u001b[0;34m.\u001b[0m\u001b[0mtail\u001b[0m\u001b[0;34m(\u001b[0m\u001b[0;34m)\u001b[0m\u001b[0;34m\u001b[0m\u001b[0;34m\u001b[0m\u001b[0m\n",
      "\u001b[0;32m~/.local/lib/python3.6/site-packages/pandas/io/parsers.py\u001b[0m in \u001b[0;36mparser_f\u001b[0;34m(filepath_or_buffer, sep, delimiter, header, names, index_col, usecols, squeeze, prefix, mangle_dupe_cols, dtype, engine, converters, true_values, false_values, skipinitialspace, skiprows, nrows, na_values, keep_default_na, na_filter, verbose, skip_blank_lines, parse_dates, infer_datetime_format, keep_date_col, date_parser, dayfirst, iterator, chunksize, compression, thousands, decimal, lineterminator, quotechar, quoting, escapechar, comment, encoding, dialect, tupleize_cols, error_bad_lines, warn_bad_lines, skipfooter, doublequote, delim_whitespace, low_memory, memory_map, float_precision)\u001b[0m\n\u001b[1;32m    676\u001b[0m                     skip_blank_lines=skip_blank_lines)\n\u001b[1;32m    677\u001b[0m \u001b[0;34m\u001b[0m\u001b[0m\n\u001b[0;32m--> 678\u001b[0;31m         \u001b[0;32mreturn\u001b[0m \u001b[0m_read\u001b[0m\u001b[0;34m(\u001b[0m\u001b[0mfilepath_or_buffer\u001b[0m\u001b[0;34m,\u001b[0m \u001b[0mkwds\u001b[0m\u001b[0;34m)\u001b[0m\u001b[0;34m\u001b[0m\u001b[0;34m\u001b[0m\u001b[0m\n\u001b[0m\u001b[1;32m    679\u001b[0m \u001b[0;34m\u001b[0m\u001b[0m\n\u001b[1;32m    680\u001b[0m     \u001b[0mparser_f\u001b[0m\u001b[0;34m.\u001b[0m\u001b[0m__name__\u001b[0m \u001b[0;34m=\u001b[0m \u001b[0mname\u001b[0m\u001b[0;34m\u001b[0m\u001b[0;34m\u001b[0m\u001b[0m\n",
      "\u001b[0;32m~/.local/lib/python3.6/site-packages/pandas/io/parsers.py\u001b[0m in \u001b[0;36m_read\u001b[0;34m(filepath_or_buffer, kwds)\u001b[0m\n\u001b[1;32m    444\u001b[0m \u001b[0;34m\u001b[0m\u001b[0m\n\u001b[1;32m    445\u001b[0m     \u001b[0;32mtry\u001b[0m\u001b[0;34m:\u001b[0m\u001b[0;34m\u001b[0m\u001b[0;34m\u001b[0m\u001b[0m\n\u001b[0;32m--> 446\u001b[0;31m         \u001b[0mdata\u001b[0m \u001b[0;34m=\u001b[0m \u001b[0mparser\u001b[0m\u001b[0;34m.\u001b[0m\u001b[0mread\u001b[0m\u001b[0;34m(\u001b[0m\u001b[0mnrows\u001b[0m\u001b[0;34m)\u001b[0m\u001b[0;34m\u001b[0m\u001b[0;34m\u001b[0m\u001b[0m\n\u001b[0m\u001b[1;32m    447\u001b[0m     \u001b[0;32mfinally\u001b[0m\u001b[0;34m:\u001b[0m\u001b[0;34m\u001b[0m\u001b[0;34m\u001b[0m\u001b[0m\n\u001b[1;32m    448\u001b[0m         \u001b[0mparser\u001b[0m\u001b[0;34m.\u001b[0m\u001b[0mclose\u001b[0m\u001b[0;34m(\u001b[0m\u001b[0;34m)\u001b[0m\u001b[0;34m\u001b[0m\u001b[0;34m\u001b[0m\u001b[0m\n",
      "\u001b[0;32m~/.local/lib/python3.6/site-packages/pandas/io/parsers.py\u001b[0m in \u001b[0;36mread\u001b[0;34m(self, nrows)\u001b[0m\n\u001b[1;32m   1034\u001b[0m                 \u001b[0;32mraise\u001b[0m \u001b[0mValueError\u001b[0m\u001b[0;34m(\u001b[0m\u001b[0;34m'skipfooter not supported for iteration'\u001b[0m\u001b[0;34m)\u001b[0m\u001b[0;34m\u001b[0m\u001b[0;34m\u001b[0m\u001b[0m\n\u001b[1;32m   1035\u001b[0m \u001b[0;34m\u001b[0m\u001b[0m\n\u001b[0;32m-> 1036\u001b[0;31m         \u001b[0mret\u001b[0m \u001b[0;34m=\u001b[0m \u001b[0mself\u001b[0m\u001b[0;34m.\u001b[0m\u001b[0m_engine\u001b[0m\u001b[0;34m.\u001b[0m\u001b[0mread\u001b[0m\u001b[0;34m(\u001b[0m\u001b[0mnrows\u001b[0m\u001b[0;34m)\u001b[0m\u001b[0;34m\u001b[0m\u001b[0;34m\u001b[0m\u001b[0m\n\u001b[0m\u001b[1;32m   1037\u001b[0m \u001b[0;34m\u001b[0m\u001b[0m\n\u001b[1;32m   1038\u001b[0m         \u001b[0;31m# May alter columns / col_dict\u001b[0m\u001b[0;34m\u001b[0m\u001b[0;34m\u001b[0m\u001b[0;34m\u001b[0m\u001b[0m\n",
      "\u001b[0;32m~/.local/lib/python3.6/site-packages/pandas/io/parsers.py\u001b[0m in \u001b[0;36mread\u001b[0;34m(self, nrows)\u001b[0m\n\u001b[1;32m   1846\u001b[0m     \u001b[0;32mdef\u001b[0m \u001b[0mread\u001b[0m\u001b[0;34m(\u001b[0m\u001b[0mself\u001b[0m\u001b[0;34m,\u001b[0m \u001b[0mnrows\u001b[0m\u001b[0;34m=\u001b[0m\u001b[0;32mNone\u001b[0m\u001b[0;34m)\u001b[0m\u001b[0;34m:\u001b[0m\u001b[0;34m\u001b[0m\u001b[0;34m\u001b[0m\u001b[0m\n\u001b[1;32m   1847\u001b[0m         \u001b[0;32mtry\u001b[0m\u001b[0;34m:\u001b[0m\u001b[0;34m\u001b[0m\u001b[0;34m\u001b[0m\u001b[0m\n\u001b[0;32m-> 1848\u001b[0;31m             \u001b[0mdata\u001b[0m \u001b[0;34m=\u001b[0m \u001b[0mself\u001b[0m\u001b[0;34m.\u001b[0m\u001b[0m_reader\u001b[0m\u001b[0;34m.\u001b[0m\u001b[0mread\u001b[0m\u001b[0;34m(\u001b[0m\u001b[0mnrows\u001b[0m\u001b[0;34m)\u001b[0m\u001b[0;34m\u001b[0m\u001b[0;34m\u001b[0m\u001b[0m\n\u001b[0m\u001b[1;32m   1849\u001b[0m         \u001b[0;32mexcept\u001b[0m \u001b[0mStopIteration\u001b[0m\u001b[0;34m:\u001b[0m\u001b[0;34m\u001b[0m\u001b[0;34m\u001b[0m\u001b[0m\n\u001b[1;32m   1850\u001b[0m             \u001b[0;32mif\u001b[0m \u001b[0mself\u001b[0m\u001b[0;34m.\u001b[0m\u001b[0m_first_chunk\u001b[0m\u001b[0;34m:\u001b[0m\u001b[0;34m\u001b[0m\u001b[0;34m\u001b[0m\u001b[0m\n",
      "\u001b[0;32mpandas/_libs/parsers.pyx\u001b[0m in \u001b[0;36mpandas._libs.parsers.TextReader.read\u001b[0;34m()\u001b[0m\n",
      "\u001b[0;32mpandas/_libs/parsers.pyx\u001b[0m in \u001b[0;36mpandas._libs.parsers.TextReader._read_low_memory\u001b[0;34m()\u001b[0m\n",
      "\u001b[0;32mpandas/_libs/parsers.pyx\u001b[0m in \u001b[0;36mpandas._libs.parsers.TextReader._read_rows\u001b[0;34m()\u001b[0m\n",
      "\u001b[0;32mpandas/_libs/parsers.pyx\u001b[0m in \u001b[0;36mpandas._libs.parsers.TextReader._tokenize_rows\u001b[0;34m()\u001b[0m\n",
      "\u001b[0;32mpandas/_libs/parsers.pyx\u001b[0m in \u001b[0;36mpandas._libs.parsers.raise_parser_error\u001b[0;34m()\u001b[0m\n",
      "\u001b[0;31mParserError\u001b[0m: Error tokenizing data. C error: Expected 16 fields in line 262950, saw 17\n"
     ]
    }
   ],
   "source": [
    "df = pd.read_csv('output/right/videos_right.csv', encoding='latin-1')\n"
   ]
  },
  {
   "cell_type": "code",
   "execution_count": 35,
   "metadata": {},
   "outputs": [],
   "source": [
    "df = pd.read_csv('output/right/comments_right.csv', nrows=1)"
   ]
  },
  {
   "cell_type": "code",
   "execution_count": 36,
   "metadata": {},
   "outputs": [
    {
     "data": {
      "text/html": [
       "<div>\n",
       "<style scoped>\n",
       "    .dataframe tbody tr th:only-of-type {\n",
       "        vertical-align: middle;\n",
       "    }\n",
       "\n",
       "    .dataframe tbody tr th {\n",
       "        vertical-align: top;\n",
       "    }\n",
       "\n",
       "    .dataframe thead th {\n",
       "        text-align: right;\n",
       "    }\n",
       "</style>\n",
       "<table border=\"1\" class=\"dataframe\">\n",
       "  <thead>\n",
       "    <tr style=\"text-align: right;\">\n",
       "      <th></th>\n",
       "      <th>¶video_id¶comment_id¶author_display_name¶author_channel_url¶author_channel_id¶comment_text¶comment_like_count¶comment_dislike_count¶comment_time¶reply_count</th>\n",
       "    </tr>\n",
       "  </thead>\n",
       "  <tbody>\n",
       "    <tr>\n",
       "      <th>0</th>\n",
       "      <td>0¶fyan-kaRZIs¶UgxpYIazGqyoSPexD554AaABAg¶The g...</td>\n",
       "    </tr>\n",
       "  </tbody>\n",
       "</table>\n",
       "</div>"
      ],
      "text/plain": [
       "  ¶video_id¶comment_id¶author_display_name¶author_channel_url¶author_channel_id¶comment_text¶comment_like_count¶comment_dislike_count¶comment_time¶reply_count\n",
       "0  0¶fyan-kaRZIs¶UgxpYIazGqyoSPexD554AaABAg¶The g...                                                                                                          "
      ]
     },
     "execution_count": 36,
     "metadata": {},
     "output_type": "execute_result"
    }
   ],
   "source": [
    "df"
   ]
  },
  {
   "cell_type": "code",
   "execution_count": null,
   "metadata": {},
   "outputs": [],
   "source": []
  }
 ],
 "metadata": {
  "kernelspec": {
   "display_name": "correspondent",
   "language": "python",
   "name": "correspondent"
  },
  "language_info": {
   "codemirror_mode": {
    "name": "ipython",
    "version": 3
   },
   "file_extension": ".py",
   "mimetype": "text/x-python",
   "name": "python",
   "nbconvert_exporter": "python",
   "pygments_lexer": "ipython3",
   "version": "3.6.7"
  }
 },
 "nbformat": 4,
 "nbformat_minor": 2
}
