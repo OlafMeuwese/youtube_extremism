{
 "cells": [
  {
   "cell_type": "code",
   "execution_count": null,
   "metadata": {},
   "outputs": [],
   "source": [
    "%load_ext autoreload\n",
    "%autoreload 2"
   ]
  },
  {
   "cell_type": "code",
   "execution_count": null,
   "metadata": {},
   "outputs": [],
   "source": [
    "import youtubecollector as ytc\n",
    "import pandas as pd\n",
    "from tqdm import tqdm_notebook as tqdm"
   ]
  },
  {
   "cell_type": "markdown",
   "metadata": {},
   "source": [
    "## Youtube client setup"
   ]
  },
  {
   "cell_type": "code",
   "execution_count": null,
   "metadata": {},
   "outputs": [],
   "source": [
    "youtube_client = ytc.youtube_client.create_youtube_client(\"./api.conf\")"
   ]
  },
  {
   "cell_type": "markdown",
   "metadata": {},
   "source": [
    "## Channel Seed\n",
    "The pipeline starts with a list of channels for which all videos are checked, for which all comments, recommendations and captations are collected"
   ]
  },
  {
   "cell_type": "code",
   "execution_count": null,
   "metadata": {},
   "outputs": [],
   "source": [
    "channel_seed_filename = \"input/seeds_right.csv\"\n",
    "channel_outputfile = \"output/channels_right.csv\""
   ]
  },
  {
   "cell_type": "code",
   "execution_count": null,
   "metadata": {},
   "outputs": [],
   "source": [
    "channel_seed_df = pd.read_csv(channel_seed_filename)\n",
    "\n",
    "channels = ytc.channels.get_channels(channel_seed_df.loc[0:], youtube_client)\n",
    "\n",
    "ytc.channels.write_channels(channels, channel_outputfile)"
   ]
  },
  {
   "cell_type": "markdown",
   "metadata": {},
   "source": [
    "## Videos"
   ]
  },
  {
   "cell_type": "code",
   "execution_count": null,
   "metadata": {},
   "outputs": [],
   "source": [
    "video_output_file = \"output/videos_right1.csv\""
   ]
  },
  {
   "cell_type": "code",
   "execution_count": null,
   "metadata": {},
   "outputs": [],
   "source": [
    "channels = channels[0:1]"
   ]
  },
  {
   "cell_type": "code",
   "execution_count": null,
   "metadata": {},
   "outputs": [],
   "source": [
    "all_videos = list()\n",
    "\n",
    "for channel in tqdm(channels):\n",
    "    response = ytc.video.get_videos(channel.channel_uploads, youtube_client)\n",
    "    next_page_token = response.get('nextPageToken')\n",
    "    videos = ytc.video.convert_to_videos(response, youtube_client)\n",
    "    all_videos.extend(videos)\n",
    "    ytc.video.write_videos(videos, video_output_file)\n",
    "    \n",
    "    while next_page_token:\n",
    "        response = ytc.video.get_more_videos(channel.channel_uploads, youtube_client, next_page_token)            \n",
    "        next_page_token = response.get('nextPageToken')\n",
    "        videos = ytc.video.convert_to_videos(response, youtube_client)\n",
    "        all_videos.extend(videos)\n",
    "        ytc.video.write_videos(videos, video_output_file)"
   ]
  },
  {
   "cell_type": "markdown",
   "metadata": {},
   "source": [
    "## Comments"
   ]
  },
  {
   "cell_type": "code",
   "execution_count": null,
   "metadata": {},
   "outputs": [],
   "source": [
    "comments_output_file = \"output/comments_right1.csv\""
   ]
  },
  {
   "cell_type": "code",
   "execution_count": null,
   "metadata": {},
   "outputs": [],
   "source": [
    "all_videos = all_videos[1015:]\n",
    "\n",
    "all_comments = list()\n",
    "for video in tqdm(all_videos):\n",
    "    response = ytc.comments.get_comments(video.video_id, youtube_client)\n",
    "    comments = ytc.comments.convert_to_comments(response)\n",
    "    all_comments.extend(comments)\n",
    "    ytc.comments.write_comments(comments_output_file, comments)\n",
    "    try:\n",
    "        next_page_token = response.get('nextPageToken')\n",
    "    except AttributeError:\n",
    "        continue\n",
    "    \n",
    "    while next_page_token:\n",
    "        response = ytc.comments.get_more_comments(video.video_id, youtube_client, next_page_token)\n",
    "        try:\n",
    "            next_page_token = response.get('nextPageToken')                       \n",
    "        except AttributeError:\n",
    "            continue\n",
    "        comments = ytc.comments.convert_to_comments(response)\n",
    "        all_comments.extend(comments)\n",
    "        ytc.comments.write_comments(comments_output_file, comments)\n",
    "    \n",
    "    "
   ]
  },
  {
   "cell_type": "markdown",
   "metadata": {},
   "source": [
    "## Recommendations"
   ]
  },
  {
   "cell_type": "code",
   "execution_count": null,
   "metadata": {},
   "outputs": [],
   "source": [
    "recommendations_output_file = \"output/recommendations_right1.csv\""
   ]
  },
  {
   "cell_type": "code",
   "execution_count": null,
   "metadata": {},
   "outputs": [],
   "source": [
    "video_to_recommendations = dict()\n",
    "for video in tqdm(all_videos, ):\n",
    "    try:\n",
    "        response = ytc.recommendations.get_recommendations(video.video_id, youtube_client)\n",
    "    except rateLimitExceeded:\n",
    "        youtube_client = ytc.youtube_client.create_youtube_client(\"./api.conf\")\n",
    "        pass\n",
    "    \n",
    "    recommendations = ytc.recommendations.convert_to_recommendations(response, video.video_id)\n",
    "    video_to_recommendations[video.video_id]=recommendations\n",
    "    \n",
    "    ytc.recommendations.write_recommendations(recommendations_output_file, recommendations)\n",
    "    "
   ]
  },
  {
   "cell_type": "markdown",
   "metadata": {},
   "source": [
    "## Transcripts"
   ]
  },
  {
   "cell_type": "code",
   "execution_count": null,
   "metadata": {},
   "outputs": [],
   "source": [
    "transcripts_output_file = \"/home/dim/Documents/projecten/extremisme/youtube/yt/YouTubeExtremism/DataCollection/transcripts_right1.csv\""
   ]
  },
  {
   "cell_type": "code",
   "execution_count": null,
   "metadata": {},
   "outputs": [],
   "source": [
    "ytc.transcripts.get_captions(all_videos)"
   ]
  },
  {
   "cell_type": "code",
   "execution_count": null,
   "metadata": {},
   "outputs": [],
   "source": [
    "video_id_transcripts = ytc.transcripts.extract_transcripts(\"./*.vtt\")\n",
    "\n",
    "ytc.transcripts.write_transcripts(transcripts_output_file, video_id_transcripts)"
   ]
  },
  {
   "cell_type": "code",
   "execution_count": null,
   "metadata": {},
   "outputs": [],
   "source": [
    "import shutil\n",
    "import glob\n",
    "import os\n",
    "\n",
    "\n",
    "for filename in glob.glob('/home/dim/Documents/projecten/extremisme/youtube/yt/YouTubeExtremism/DataCollection/*vtt'):\n",
    "        os.remove(filename)"
   ]
  },
  {
   "cell_type": "code",
   "execution_count": null,
   "metadata": {},
   "outputs": [],
   "source": []
  }
 ],
 "metadata": {
  "kernelspec": {
   "display_name": "correspondent",
   "language": "python",
   "name": "correspondent"
  },
  "language_info": {
   "codemirror_mode": {
    "name": "ipython",
    "version": 3
   },
   "file_extension": ".py",
   "mimetype": "text/x-python",
   "name": "python",
   "nbconvert_exporter": "python",
   "pygments_lexer": "ipython3",
   "version": "3.6.7"
  }
 },
 "nbformat": 4,
 "nbformat_minor": 1
}
