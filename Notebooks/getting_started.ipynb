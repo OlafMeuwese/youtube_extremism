{
 "cells": [
  {
   "cell_type": "code",
   "execution_count": 1,
   "metadata": {},
   "outputs": [],
   "source": [
    "%load_ext autoreload\n",
    "%autoreload 2"
   ]
  },
  {
   "cell_type": "code",
   "execution_count": 2,
   "metadata": {},
   "outputs": [],
   "source": [
    "import youtubecollector as ytc\n",
    "import pandas as pd\n",
    "from tqdm import tqdm_notebook as tqdm"
   ]
  },
  {
   "cell_type": "code",
   "execution_count": 4,
   "metadata": {},
   "outputs": [
    {
     "name": "stdout",
     "output_type": "stream",
     "text": [
      "Google Developer Api key: ········\n"
     ]
    }
   ],
   "source": [
    "youtube_client = ytc.youtube_client.create_youtube_client(\"/home/dim/Documents/projecten/extremisme/youtube/DataCollection/api.conf\")"
   ]
  },
  {
   "cell_type": "code",
   "execution_count": 8,
   "metadata": {},
   "outputs": [],
   "source": [
    "video_file = \"videos_for_graphic.csv\""
   ]
  },
  {
   "cell_type": "code",
   "execution_count": 29,
   "metadata": {},
   "outputs": [],
   "source": [
    "import csv as _csv\n",
    "from collections import namedtuple as _namedtuple\n",
    "\n",
    "import os as _os\n",
    "\n",
    "\n",
    "def is_empty_file(filename: str):\n",
    "    if not isinstance(filename, str):\n",
    "        raise Exception(f\"filename should be a string of an existing file\")\n",
    "\n",
    "    if not _os.path.exists(filename):\n",
    "        raise Exception(f\"{filename} doesn't exists\")\n",
    "\n",
    "    return _os.stat(filename).st_size == 0\n",
    "\n",
    "\n",
    "def _convert_to_dictionary(obj):\n",
    "    return {field: getattr(obj, field) for field in obj._fields}\n",
    "\n",
    "\n",
    "video = _namedtuple('video', ('video_id',\n",
    "                              'video_published',\n",
    "                              'channel_id',\n",
    "                              'video_title',\n",
    "                              'video_description',\n",
    "                              'video_channel_title',\n",
    "                              'video_tags',\n",
    "                              'video_category_id',\n",
    "                              'video_default_language',\n",
    "                              'video_duration',\n",
    "                              'video_view_count',\n",
    "                              'video_comment_count',\n",
    "                              'video_likes_count',\n",
    "                              'video_dislikes_count',\n",
    "                              'video_topic_ids',\n",
    "                              'video_topic_categories'\n",
    "                              ))\n",
    "\n",
    "def _get_video_header():\n",
    "    return video._fields\n",
    "\n",
    "def _get_video_metadata(video_id, youtube_client):\n",
    "    return youtube_client.videos().list(\n",
    "        part='snippet,contentDetails,statistics,topicDetails',\n",
    "        id=video_id\n",
    "    ).execute()\n",
    "\n",
    "def _get_topic_ids(metadata):\n",
    "    if \"topicDetails\" in metadata:\n",
    "        return metadata['topicDetails'].get('relevantTopicIds', \"not set\")\n",
    "    else:\n",
    "        return \"not set\"\n",
    "\n",
    "\n",
    "def _get_topic_categories(metadata):\n",
    "    if \"topicDetails\" in metadata:\n",
    "        return metadata['topicDetails'].get('topicCategories', \"not set\")\n",
    "    else:\n",
    "        return \"not set\"\n",
    "\n",
    "\n",
    "def convert_to_videos(response, youtube_client):\n",
    "    videos = list()\n",
    "    for data in response['items']:\n",
    "        video_id = data['id']\n",
    "        video_metadata = _get_video_metadata(video_id, youtube_client)\n",
    "        metadata = video_metadata['items'][0]\n",
    "\n",
    "        next_video = video(video_id=video_id,\n",
    "                           video_published=data['snippet']['publishedAt'],\n",
    "                           channel_id=data['snippet']['channelId'],\n",
    "                           video_title=data['snippet']['title'],\n",
    "                           video_description=data['snippet'].get('description', 'not set'),\n",
    "                           video_channel_title=data['snippet']['channelTitle'],\n",
    "                           video_tags=metadata['snippet'].get('tags', 'not set'),\n",
    "                           video_category_id=metadata['snippet'].get('categoryId', 'not set'),\n",
    "                           video_default_language=metadata['snippet'].get('defaultLanguage', 'not set'),\n",
    "                           video_duration=metadata['contentDetails']['duration'],\n",
    "                           video_view_count=metadata['statistics'].get('viewCount', 0),\n",
    "                           video_comment_count=metadata['statistics'].get('commentCount', 0),\n",
    "                           video_likes_count=metadata['statistics'].get('likeCount', 0),\n",
    "                           video_dislikes_count=metadata['statistics'].get('dislikeCount', 0),\n",
    "                           video_topic_ids=_get_topic_ids(metadata),\n",
    "                           video_topic_categories=_get_topic_categories(metadata)\n",
    "                           )\n",
    "        videos.append(next_video)\n",
    "\n",
    "    return videos\n",
    "\n",
    "\n",
    "def write_videos(videos, video_file):\n",
    "    with open(video_file, \"a\") as csv_file:\n",
    "        writer = _csv.DictWriter(csv_file, fieldnames=_get_video_header())\n",
    "\n",
    "        for video_row in videos:\n",
    "            writer.writerow(_convert_to_dictionary(video_row))"
   ]
  },
  {
   "cell_type": "code",
   "execution_count": 30,
   "metadata": {},
   "outputs": [],
   "source": [
    "for vid in vids:\n",
    "    meta = _get_video_metadata(vid, youtube_client)\n",
    "    #print(meta)\n",
    "    meta2 = convert_to_videos(meta, youtube_client)\n",
    "    write_videos(meta2, video_file)"
   ]
  },
  {
   "cell_type": "code",
   "execution_count": null,
   "metadata": {},
   "outputs": [],
   "source": []
  }
 ],
 "metadata": {
  "kernelspec": {
   "display_name": "youtube",
   "language": "python",
   "name": "youtube"
  },
  "language_info": {
   "codemirror_mode": {
    "name": "ipython",
    "version": 3
   },
   "file_extension": ".py",
   "mimetype": "text/x-python",
   "name": "python",
   "nbconvert_exporter": "python",
   "pygments_lexer": "ipython3",
   "version": "3.6.7"
  }
 },
 "nbformat": 4,
 "nbformat_minor": 2
}
