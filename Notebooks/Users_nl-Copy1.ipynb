{
 "cells": [
  {
   "cell_type": "markdown",
   "metadata": {},
   "source": [
    "# Get user info \n",
    "\n",
    "In this notebook we'll explore some user groups of interest. We will take two approaches.\n",
    "1. Look at user groups around specific channels and look into their histories.\n",
    "2. Look at user groups around certain topics and look into their histories."
   ]
  },
  {
   "cell_type": "markdown",
   "metadata": {},
   "source": [
    "Let's start with importing the required python libraries"
   ]
  },
  {
   "cell_type": "code",
   "execution_count": 1,
   "metadata": {},
   "outputs": [
    {
     "data": {
      "text/plain": [
       "131072"
      ]
     },
     "execution_count": 1,
     "metadata": {},
     "output_type": "execute_result"
    }
   ],
   "source": [
    "import pandas as pd \n",
    "import matplotlib.pyplot as plt \n",
    "import glob \n",
    "import csv \n",
    "import re\n",
    "import datetime as dt\n",
    "import sys\n",
    "import os\n",
    "import config\n",
    "import scenariofunctions as sf\n",
    "\n",
    "%matplotlib inline\n",
    "csv.field_size_limit(sys.maxsize)\n"
   ]
  },
  {
   "cell_type": "markdown",
   "metadata": {},
   "source": [
    "Set paths to data. Better to set these paths into a separate config file."
   ]
  },
  {
   "cell_type": "code",
   "execution_count": 2,
   "metadata": {},
   "outputs": [],
   "source": [
    "path_nl = config.PATH_NL\n",
    "path_right = config.PATH_RIGHT\n",
    "path_left = config.PATH_LEFT"
   ]
  },
  {
   "cell_type": "markdown",
   "metadata": {},
   "source": [
    "IMPORTANT NOTE: some data is really messy, especially the comment data. I had a hard time parsing the data correctly. One of the solutions was to use rare characters as separators and quotechars. \n",
    "In this case, I mostly used:\n",
    "\n",
    "- sep='¶'\n",
    "- quotechar='þ'\n",
    "\n",
    "You need to use the python engine when reading csv, because the C engine doesn't accept these kinds of delimiters."
   ]
  },
  {
   "cell_type": "code",
   "execution_count": null,
   "metadata": {},
   "outputs": [],
   "source": [
    "channels \n",
    "\n",
    "right 951\n",
    "left 787\n",
    "nl 65\n",
    "\n",
    "videos\n",
    "\n",
    "right 263179\n",
    "left 400206\n",
    "nl 15456\n",
    "\n",
    "comments\n",
    "\n",
    "right 37732498\n",
    "left 80930200\n",
    "nl 790416\n",
    "\n",
    "transcripts\n",
    "\n",
    "right 175749\n",
    "left 263179\n",
    "nl\n",
    "\n",
    "recommendations\n",
    "\n",
    "right 7703016\n",
    "left 13017906\n",
    "nl 306811\n"
   ]
  },
  {
   "cell_type": "code",
   "execution_count": 37,
   "metadata": {},
   "outputs": [
    {
     "name": "stdout",
     "output_type": "stream",
     "text": [
      "175749\n"
     ]
    },
    {
     "name": "stderr",
     "output_type": "stream",
     "text": [
      "Skipping line 175751: Expected 2 fields in line 175751, saw 3\n",
      "Skipping line 175752: Expected 2 fields in line 175752, saw 3\n",
      "Skipping line 175753: Expected 2 fields in line 175753, saw 3\n",
      "Skipping line 175754: Expected 2 fields in line 175754, saw 3\n",
      "Skipping line 175755: Expected 2 fields in line 175755, saw 3\n",
      "Skipping line 175756: Expected 2 fields in line 175756, saw 3\n",
      "Skipping line 175757: Expected 2 fields in line 175757, saw 3\n",
      "Skipping line 175758: Expected 2 fields in line 175758, saw 3\n",
      "Skipping line 175759: Expected 2 fields in line 175759, saw 3\n",
      "Skipping line 175760: Expected 2 fields in line 175760, saw 3\n",
      "Skipping line 175761: Expected 2 fields in line 175761, saw 3\n",
      "Skipping line 175762: Expected 2 fields in line 175762, saw 3\n",
      "Skipping line 175763: Expected 2 fields in line 175763, saw 3\n",
      "Skipping line 175764: Expected 2 fields in line 175764, saw 3\n",
      "Skipping line 175765: Expected 2 fields in line 175765, saw 3\n",
      "Skipping line 175766: Expected 2 fields in line 175766, saw 3\n",
      "Skipping line 175767: Expected 2 fields in line 175767, saw 3\n",
      "Skipping line 175768: Expected 2 fields in line 175768, saw 3\n",
      "Skipping line 175769: Expected 2 fields in line 175769, saw 3\n",
      "Skipping line 175770: Expected 2 fields in line 175770, saw 3\n",
      "Skipping line 175771: Expected 2 fields in line 175771, saw 3\n",
      "Skipping line 175772: Expected 2 fields in line 175772, saw 3\n",
      "Skipping line 175773: Expected 2 fields in line 175773, saw 3\n",
      "Skipping line 175774: Expected 2 fields in line 175774, saw 3\n",
      "Skipping line 175775: Expected 2 fields in line 175775, saw 3\n",
      "Skipping line 175776: Expected 2 fields in line 175776, saw 3\n",
      "Skipping line 175777: Expected 2 fields in line 175777, saw 3\n",
      "Skipping line 175778: Expected 2 fields in line 175778, saw 3\n",
      "Skipping line 175779: Expected 2 fields in line 175779, saw 3\n",
      "Skipping line 175780: Expected 2 fields in line 175780, saw 3\n",
      "Skipping line 175781: Expected 2 fields in line 175781, saw 3\n",
      "Skipping line 175782: Expected 2 fields in line 175782, saw 3\n",
      "Skipping line 175783: Expected 2 fields in line 175783, saw 3\n",
      "Skipping line 175784: Expected 2 fields in line 175784, saw 3\n",
      "Skipping line 175785: Expected 2 fields in line 175785, saw 3\n"
     ]
    }
   ],
   "source": [
    "#right_comments\n",
    "\n",
    "count = 0\n",
    "for chunk in pd.read_csv(path_right + 'transcripts_right.csv', chunksize=10000, sep='¶', quotechar='þ', engine='python', error_bad_lines=False):\n",
    "    length = len(chunk)\n",
    "    count += length\n",
    "\n",
    "print(count)\n",
    "    "
   ]
  },
  {
   "cell_type": "code",
   "execution_count": 31,
   "metadata": {},
   "outputs": [
    {
     "data": {
      "text/plain": [
       "263179"
      ]
     },
     "execution_count": 31,
     "metadata": {},
     "output_type": "execute_result"
    }
   ],
   "source": [
    "vids = pd.read_csv(path_right + 'videos_right.csv', encoding='latin-1')\n",
    "len(vids)"
   ]
  },
  {
   "cell_type": "code",
   "execution_count": 32,
   "metadata": {},
   "outputs": [
    {
     "data": {
      "text/plain": [
       "951"
      ]
     },
     "execution_count": 32,
     "metadata": {},
     "output_type": "execute_result"
    }
   ],
   "source": [
    "vids.video_channel_title.nunique()"
   ]
  },
  {
   "cell_type": "code",
   "execution_count": null,
   "metadata": {},
   "outputs": [],
   "source": []
  }
 ],
 "metadata": {
  "kernelspec": {
   "display_name": "correspondent",
   "language": "python",
   "name": "correspondent"
  },
  "language_info": {
   "codemirror_mode": {
    "name": "ipython",
    "version": 3
   },
   "file_extension": ".py",
   "mimetype": "text/x-python",
   "name": "python",
   "nbconvert_exporter": "python",
   "pygments_lexer": "ipython3",
   "version": "3.6.7"
  }
 },
 "nbformat": 4,
 "nbformat_minor": 2
}
